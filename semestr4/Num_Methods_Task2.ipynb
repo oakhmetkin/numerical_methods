{
 "cells": [
  {
   "cell_type": "markdown",
   "id": "c5124901",
   "metadata": {},
   "source": [
    "# Проблема поиска собственных значений"
   ]
  },
  {
   "cell_type": "code",
   "execution_count": 1,
   "id": "450d5132",
   "metadata": {},
   "outputs": [],
   "source": [
    "import numpy as np"
   ]
  },
  {
   "cell_type": "code",
   "execution_count": 2,
   "id": "1ab5576e",
   "metadata": {},
   "outputs": [],
   "source": [
    "n = 4"
   ]
  },
  {
   "cell_type": "code",
   "execution_count": 3,
   "id": "36f1b7fa",
   "metadata": {},
   "outputs": [
    {
     "data": {
      "text/plain": [
       "array([1.2119286 , 9.88739975, 4.83278368, 4.05656272])"
      ]
     },
     "execution_count": 3,
     "metadata": {},
     "output_type": "execute_result"
    }
   ],
   "source": [
    "# n random eigenvalues\n",
    "rnd_eigen_values = np.random.rand(n)[::-1] * 10\n",
    "rnd_eigen_values"
   ]
  },
  {
   "cell_type": "code",
   "execution_count": 4,
   "id": "213485f1",
   "metadata": {},
   "outputs": [
    {
     "data": {
      "text/plain": [
       "array([[1.2119286 , 0.        , 0.        , 0.        ],\n",
       "       [0.        , 9.88739975, 0.        , 0.        ],\n",
       "       [0.        , 0.        , 4.83278368, 0.        ],\n",
       "       [0.        , 0.        , 0.        , 4.05656272]])"
      ]
     },
     "execution_count": 4,
     "metadata": {},
     "output_type": "execute_result"
    }
   ],
   "source": [
    "# build diagonal matrix\n",
    "L = np.diag(rnd_eigen_values)\n",
    "L"
   ]
  },
  {
   "cell_type": "code",
   "execution_count": 5,
   "id": "123789c5",
   "metadata": {},
   "outputs": [
    {
     "data": {
      "text/plain": [
       "array([[ 0.15973155, 11.02947827,  1.48460893,  7.39103385],\n",
       "       [ 4.46226731,  4.27491198,  7.86565733,  2.45898502],\n",
       "       [14.9327468 ,  8.57249691, 10.4172719 ,  6.7982045 ],\n",
       "       [ 0.13564799, 11.39431795,  7.06111135,  2.78119386]])"
      ]
     },
     "execution_count": 5,
     "metadata": {},
     "output_type": "execute_result"
    }
   ],
   "source": [
    "# random matrix C\n",
    "C = np.random.rand(n, n) * 15\n",
    "assert np.linalg.det(C) != 0, 'det(A) = 0'\n",
    "C"
   ]
  },
  {
   "cell_type": "code",
   "execution_count": 6,
   "id": "8603d530",
   "metadata": {},
   "outputs": [
    {
     "data": {
      "text/plain": [
       "array([[  0.5767198 ,  -1.81275647,  -7.43711866,  -0.66326198],\n",
       "       [ -5.3925659 ,   0.13678149, -10.20393049,  -2.00228634],\n",
       "       [  6.07425452,   6.20349107,  15.75493969,   3.45502159],\n",
       "       [  6.84082359,   0.39752326,  12.46663048,   3.52023377]])"
      ]
     },
     "execution_count": 6,
     "metadata": {},
     "output_type": "execute_result"
    }
   ],
   "source": [
    "A = np.linalg.inv(C) @ L @ C\n",
    "A"
   ]
  },
  {
   "cell_type": "code",
   "execution_count": 7,
   "id": "e732f886",
   "metadata": {},
   "outputs": [
    {
     "data": {
      "text/plain": [
       "array([9.88739975, 1.2119286 , 4.83278368, 4.05656272])"
      ]
     },
     "execution_count": 7,
     "metadata": {},
     "output_type": "execute_result"
    }
   ],
   "source": [
    "np.linalg.eigvals(A)"
   ]
  },
  {
   "cell_type": "code",
   "execution_count": 8,
   "id": "35727844",
   "metadata": {},
   "outputs": [
    {
     "data": {
      "text/plain": [
       "9.887399753806967"
      ]
     },
     "execution_count": 8,
     "metadata": {},
     "output_type": "execute_result"
    }
   ],
   "source": [
    "max(np.linalg.eigvals(A))"
   ]
  },
  {
   "cell_type": "markdown",
   "id": "646fecb9",
   "metadata": {},
   "source": [
    "## Степенной метод"
   ]
  },
  {
   "cell_type": "code",
   "execution_count": 9,
   "id": "80653096",
   "metadata": {},
   "outputs": [],
   "source": [
    "def degree_method(A, n, eps=1e-6, delta=0.01, val='max'):\n",
    "    y0 = np.random.rand(n)\n",
    "    z = y0 / np.linalg.norm(y0)\n",
    "    l_cur, l_prev = None, None\n",
    "    iters = 0\n",
    "    \n",
    "    if val == 'min':\n",
    "        A = np.linalg.inv(A)        \n",
    "    \n",
    "    while iters < 2 or abs(l_prev - l_cur) >= eps:\n",
    "        y = A @ z\n",
    "            \n",
    "        l_prev = l_cur\n",
    "        \n",
    "        l = []\n",
    "        for i in range(len(z)):\n",
    "            if abs(z[i]) > delta:\n",
    "                if val == 'min':\n",
    "                    l.append(z[i] / y[i])\n",
    "                else:\n",
    "                    l.append(y[i] / z[i])\n",
    "        l_cur = np.mean(l)\n",
    "            \n",
    "        z = y / np.linalg.norm(y)\n",
    "        iters += 1\n",
    "    \n",
    "    print('Кол-во итераций:', iters)\n",
    "    \n",
    "    return l_cur, z"
   ]
  },
  {
   "cell_type": "code",
   "execution_count": 10,
   "id": "3b43d42d",
   "metadata": {},
   "outputs": [
    {
     "name": "stdout",
     "output_type": "stream",
     "text": [
      "Кол-во итераций: 14\n"
     ]
    },
    {
     "data": {
      "text/plain": [
       "(1.2119283394689446,\n",
       " array([-0.29371367, -0.22103432, -0.00397582,  0.92997866]))"
      ]
     },
     "execution_count": 10,
     "metadata": {},
     "output_type": "execute_result"
    }
   ],
   "source": [
    "l, x = degree_method(A, n, val='min')\n",
    "l, x"
   ]
  },
  {
   "cell_type": "markdown",
   "id": "7dda570a",
   "metadata": {},
   "source": [
    "## Обратный степенной метод"
   ]
  },
  {
   "cell_type": "code",
   "execution_count": 11,
   "id": "b494aeba",
   "metadata": {},
   "outputs": [],
   "source": [
    "def reverse_degree_method(A, n: int, k: int, eps=1e-6, delta=0.01, verbose=False):\n",
    "    \n",
    "    def get_for_s(A, n):\n",
    "        s_prev = None\n",
    "        s = float(np.random.rand(1) * 10)\n",
    "        y0 = np.random.rand(n)\n",
    "        z = y0 / np.linalg.norm(y0)\n",
    "        iters = 0\n",
    "\n",
    "        while iters < 1000 and (iters < 2 or abs(s - s_prev) >= eps):\n",
    "            y = np.linalg.inv((A - s*np.eye(n))) @ z\n",
    "\n",
    "            l = []\n",
    "            for i in range(len(z)):\n",
    "                if abs(z[i]) > delta:\n",
    "                    l.append(z[i] / y[i])\n",
    "            s_prev = s\n",
    "            s += np.mean(l)\n",
    "\n",
    "            z = y / np.linalg.norm(y)\n",
    "            iters += 1\n",
    "        \n",
    "        if verbose:\n",
    "            print(f'Iters for s={s}: iters={iters}')\n",
    "\n",
    "        return s, z\n",
    "    \n",
    "    es, ex = [], []\n",
    "    for _ in range(k):\n",
    "        s0 = np.random.rand(1)\n",
    "        s, x = get_for_s(A, n)\n",
    "        es.append(s)\n",
    "        ex.append(x)\n",
    "    \n",
    "    return es, ex"
   ]
  },
  {
   "cell_type": "code",
   "execution_count": 12,
   "id": "09976a4f",
   "metadata": {},
   "outputs": [
    {
     "data": {
      "text/plain": [
       "[1.21193, 4.83278, 4.05656, 9.8874]"
      ]
     },
     "execution_count": 12,
     "metadata": {},
     "output_type": "execute_result"
    }
   ],
   "source": [
    "l, x = reverse_degree_method(A, n, 30, eps=1e-6, verbose=False)\n",
    "\n",
    "l = list(set([round(s, 5) for s in l]))\n",
    "\n",
    "l"
   ]
  },
  {
   "cell_type": "code",
   "execution_count": null,
   "id": "74dae75b",
   "metadata": {},
   "outputs": [],
   "source": []
  }
 ],
 "metadata": {
  "kernelspec": {
   "display_name": "Python 3 (ipykernel)",
   "language": "python",
   "name": "python3"
  },
  "language_info": {
   "codemirror_mode": {
    "name": "ipython",
    "version": 3
   },
   "file_extension": ".py",
   "mimetype": "text/x-python",
   "name": "python",
   "nbconvert_exporter": "python",
   "pygments_lexer": "ipython3",
   "version": "3.9.13"
  }
 },
 "nbformat": 4,
 "nbformat_minor": 5
}
