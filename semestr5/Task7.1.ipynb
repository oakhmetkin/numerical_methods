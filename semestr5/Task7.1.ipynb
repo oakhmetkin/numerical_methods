{
 "cells": [
  {
   "cell_type": "markdown",
   "id": "57858041",
   "metadata": {},
   "source": [
    "# Квадратурные формулы"
   ]
  },
  {
   "cell_type": "markdown",
   "id": "8ee9f7dc",
   "metadata": {},
   "source": [
    "$\n",
    "f(x) = 2 cos(3.5x) exp({5x \\over 3}) + 3 sin(1.5x) exp(−4x) + 3 ,\n",
    "\\\\\n",
    "a = 1.5, b = 2.3, α = 1/5, β = 0;\n",
    "$"
   ]
  },
  {
   "cell_type": "code",
   "execution_count": 2,
   "id": "64a4e089",
   "metadata": {},
   "outputs": [],
   "source": [
    "a = 1.5\n",
    "b = 2.3\n",
    "alpha = 1/5\n",
    "beta = 0"
   ]
  },
  {
   "cell_type": "code",
   "execution_count": 3,
   "id": "9ce160e7",
   "metadata": {},
   "outputs": [],
   "source": [
    "def f(x):\n",
    "    it1 = 2 * np.cos(3.5 * x) * np.exp(5/3 * x)\n",
    "    it2 = 3 * np.sin(1.5 * x) * np.exp(-4 * x) + 3\n",
    "    return it1 + it2"
   ]
  },
  {
   "cell_type": "markdown",
   "id": "625ff857",
   "metadata": {},
   "source": [
    "**Весовая функция**\n",
    "$\n",
    "p(x) = (x - a)^{-\\alpha} (b - x)^{-\\beta}\n",
    "$"
   ]
  },
  {
   "cell_type": "code",
   "execution_count": 4,
   "id": "7f1380ed",
   "metadata": {},
   "outputs": [],
   "source": [
    "def p(x, a, b):\n",
    "    it1 = (x - a)**(-alpha)\n",
    "    it2 = (b - x)**(-beta)\n",
    "    return it1 * it2"
   ]
  },
  {
   "cell_type": "code",
   "execution_count": 5,
   "id": "59b22212",
   "metadata": {},
   "outputs": [],
   "source": [
    "def px_func(x, j, a, b):\n",
    "    return p(x, a, b) * (x**j)"
   ]
  },
  {
   "cell_type": "code",
   "execution_count": 6,
   "id": "5af9e856",
   "metadata": {},
   "outputs": [],
   "source": [
    "from scipy.integrate import quad\n",
    "import numpy as np\n",
    "import matplotlib.pyplot as plt\n",
    "%matplotlib inline"
   ]
  },
  {
   "cell_type": "code",
   "execution_count": 7,
   "id": "38930b4c",
   "metadata": {},
   "outputs": [],
   "source": [
    "X = np.linspace(a, b, 200)\n",
    "Y = f(X)"
   ]
  },
  {
   "cell_type": "code",
   "execution_count": 8,
   "id": "0f8f84f6",
   "metadata": {},
   "outputs": [
    {
     "data": {
      "image/png": "[encoded data removed]",
      "text/plain": [
       "<Figure size 640x480 with 1 Axes>"
      ]
     },
     "metadata": {},
     "output_type": "display_data"
    }
   ],
   "source": [
    "plt.plot(X, Y, label='$ y = f(x) $')\n",
    "plt.legend()\n",
    "plt.xlabel('x')\n",
    "plt.ylabel('y')\n",
    "None"
   ]
  },
  {
   "cell_type": "code",
   "execution_count": 9,
   "id": "4986850e",
   "metadata": {},
   "outputs": [],
   "source": [
    "def fp(x):\n",
    "    return f(x) * p(x, a=a, b=b)"
   ]
  },
  {
   "cell_type": "code",
   "execution_count": 10,
   "id": "a2462d0c",
   "metadata": {},
   "outputs": [
    {
     "name": "stdout",
     "output_type": "stream",
     "text": [
      "Точное значение интеграла: 32.2195145288426\n"
     ]
    }
   ],
   "source": [
    "exact_value, exact_err_rate = quad(fp, a, b)\n",
    "print('Точное значение интеграла:', exact_value)"
   ]
  },
  {
   "cell_type": "markdown",
   "id": "a8cb1643",
   "metadata": {},
   "source": [
    "## Решение с помощью КФ"
   ]
  },
  {
   "cell_type": "markdown",
   "id": "86b16ba7",
   "metadata": {},
   "source": [
    "Зададим узлы:\n",
    "\n",
    "$\n",
    "x_1 = a\n",
    "\\\\\n",
    "x_2 = {a + b \\over 2}\n",
    "\\\\\n",
    "x_3 = b\n",
    "$"
   ]
  },
  {
   "cell_type": "code",
   "execution_count": 11,
   "id": "eb471433",
   "metadata": {},
   "outputs": [],
   "source": [
    "x1 = a\n",
    "x2 = (a + b) / 2\n",
    "x3 = b"
   ]
  },
  {
   "cell_type": "markdown",
   "id": "f0387563",
   "metadata": {},
   "source": [
    "### 1. Метод Ньютона-Котса"
   ]
  },
  {
   "cell_type": "markdown",
   "id": "f2a0a532",
   "metadata": {},
   "source": [
    "#### Интерполяционная квадратурная формула"
   ]
  },
  {
   "cell_type": "code",
   "execution_count": 12,
   "id": "63037198",
   "metadata": {},
   "outputs": [],
   "source": [
    "x1 = a\n",
    "x2 = (a + b) / 2\n",
    "x3 = b"
   ]
  },
  {
   "cell_type": "markdown",
   "id": "16ea31e5",
   "metadata": {},
   "source": [
    "Вычислим моменты:"
   ]
  },
  {
   "cell_type": "code",
   "execution_count": 13,
   "id": "687a2b3b",
   "metadata": {},
   "outputs": [
    {
     "data": {
      "text/plain": [
       "array([1.04563955, 1.94024228, 3.65924051])"
      ]
     },
     "execution_count": 13,
     "metadata": {},
     "output_type": "execute_result"
    }
   ],
   "source": [
    "n = 3\n",
    "mu = [quad(px_func, a, b, args=(i, a, b))[0] for i in range(n)]\n",
    "mu = np.array(mu)\n",
    "mu"
   ]
  },
  {
   "cell_type": "markdown",
   "id": "fa47b1b5",
   "metadata": {},
   "source": [
    "$\n",
    "A_j \\ - \\ коэффициенты\n",
    "\\\\\n",
    "x_j^s \\ - \\ матрица \\ СЛАУ\n",
    "\\\\\n",
    "\\mu_s \\ - \\ свободный \\ вектор\n",
    "\\\\\n",
    "СЛАУ: \\ x * A = s\n",
    "$"
   ]
  },
  {
   "cell_type": "code",
   "execution_count": 14,
   "id": "e5961f7e",
   "metadata": {},
   "outputs": [
    {
     "data": {
      "text/plain": [
       "array([[1.  , 1.  , 1.  ],\n",
       "       [1.5 , 1.9 , 2.3 ],\n",
       "       [2.25, 3.61, 5.29]])"
      ]
     },
     "execution_count": 14,
     "metadata": {},
     "output_type": "execute_result"
    }
   ],
   "source": [
    "x = [\n",
    "    [x1**0, x2**0, x3**0],\n",
    "    [x1**1, x2**1, x3**1],\n",
    "    [x1**2, x2**2, x3**2],\n",
    "]\n",
    "\n",
    "x = np.array(x)\n",
    "x"
   ]
  },
  {
   "cell_type": "code",
   "execution_count": 15,
   "id": "3dcd9033",
   "metadata": {},
   "outputs": [
    {
     "data": {
      "text/plain": [
       "array([0.2489618 , 0.66389813, 0.13277963])"
      ]
     },
     "execution_count": 15,
     "metadata": {},
     "output_type": "execute_result"
    }
   ],
   "source": [
    "A = np.linalg.solve(x, mu)\n",
    "A"
   ]
  },
  {
   "cell_type": "markdown",
   "id": "224b32d0",
   "metadata": {},
   "source": [
    "**Оценка методической погрешности**"
   ]
  },
  {
   "cell_type": "markdown",
   "id": "38608b36",
   "metadata": {},
   "source": [
    "$\n",
    "R_n (f) = J(f) - \\sum_{j=1}^{n}{A_j f(x_j)}\n",
    "$"
   ]
  },
  {
   "cell_type": "code",
   "execution_count": 16,
   "id": "2bf466a0",
   "metadata": {},
   "outputs": [
    {
     "name": "stdout",
     "output_type": "stream",
     "text": [
      "Методическая погрешность: 1.0453328839877116\n",
      "Погрешность \"точного\" метода: 1.8411583369015716e-10\n"
     ]
    }
   ],
   "source": [
    "res = abs(exact_value - sum([A[i] * f(x[1, i]) for i in range(3)]))\n",
    "print('Методическая погрешность:', res)\n",
    "print('Погрешность \"точного\" метода:', exact_err_rate)"
   ]
  },
  {
   "cell_type": "markdown",
   "id": "1e3fff26",
   "metadata": {},
   "source": [
    "## 2. Квадратурные формулы типа Гаусса"
   ]
  },
  {
   "cell_type": "markdown",
   "id": "510e8786",
   "metadata": {},
   "source": [
    "Вычислим моменты:"
   ]
  },
  {
   "cell_type": "code",
   "execution_count": 17,
   "id": "bb7b88a5",
   "metadata": {},
   "outputs": [
    {
     "data": {
      "text/plain": [
       "array([ 1.04563955,  1.94024228,  3.65924051,  7.01168933, 13.64149196,\n",
       "       26.92274969])"
      ]
     },
     "execution_count": 17,
     "metadata": {},
     "output_type": "execute_result"
    }
   ],
   "source": [
    "n = 3\n",
    "mu = [quad(px_func, a, b, args=(i, a, b))[0] for i in range(2*n)]\n",
    "mu = np.array(mu)\n",
    "mu"
   ]
  },
  {
   "cell_type": "markdown",
   "id": "d495e13c",
   "metadata": {},
   "source": [
    "$\n",
    "A_j \\ - \\ коэффициенты\n",
    "\\\\\n",
    "x_j^s \\ - \\ матрица \\ СЛАУ\n",
    "\\\\\n",
    "\\mu_s \\ - \\ свободный \\ вектор\n",
    "\\\\\n",
    "СЛАУ: \\ x * A = s\n",
    "$"
   ]
  },
  {
   "cell_type": "code",
   "execution_count": 18,
   "id": "670d09af",
   "metadata": {},
   "outputs": [
    {
     "data": {
      "text/plain": [
       "array([[ -1.04563955,  -1.94024228,  -3.65924051],\n",
       "       [ -1.94024228,  -3.65924051,  -7.01168933],\n",
       "       [ -3.65924051,  -7.01168933, -13.64149196]])"
      ]
     },
     "execution_count": 18,
     "metadata": {},
     "output_type": "execute_result"
    }
   ],
   "source": [
    "M = [\n",
    "    mu[i:i+n] for i in range(n)\n",
    "]\n",
    "\n",
    "M = -np.array(M)\n",
    "M"
   ]
  },
  {
   "cell_type": "code",
   "execution_count": 19,
   "id": "d9e7db35",
   "metadata": {},
   "outputs": [
    {
     "data": {
      "text/plain": [
       "array([-6.52278947, 10.57344827, -5.65862069])"
      ]
     },
     "execution_count": 19,
     "metadata": {},
     "output_type": "execute_result"
    }
   ],
   "source": [
    "A = np.linalg.solve(M, mu[n:])\n",
    "A"
   ]
  },
  {
   "cell_type": "code",
   "execution_count": 20,
   "id": "f4f0d228",
   "metadata": {},
   "outputs": [
    {
     "data": {
      "text/plain": [
       "array([2.2046392 , 1.88136608, 1.57261541])"
      ]
     },
     "execution_count": 20,
     "metadata": {},
     "output_type": "execute_result"
    }
   ],
   "source": [
    "coeffs = [1.0] + A[::-1].tolist()\n",
    "roots = np.roots(coeffs)\n",
    "x1, x2, x3 = roots\n",
    "roots"
   ]
  },
  {
   "cell_type": "code",
   "execution_count": 21,
   "id": "42853fe4",
   "metadata": {},
   "outputs": [
    {
     "data": {
      "text/plain": [
       "array([[1.        , 1.        , 1.        ],\n",
       "       [2.2046392 , 1.88136608, 1.57261541],\n",
       "       [4.86043402, 3.53953831, 2.47311923]])"
      ]
     },
     "execution_count": 21,
     "metadata": {},
     "output_type": "execute_result"
    }
   ],
   "source": [
    "x = [\n",
    "    [x1**i, x2**i, x3**i] for i in range(n)\n",
    "]\n",
    "\n",
    "x = np.array(x)\n",
    "x"
   ]
  },
  {
   "cell_type": "code",
   "execution_count": 22,
   "id": "66377dab",
   "metadata": {
    "scrolled": false
   },
   "outputs": [
    {
     "data": {
      "text/plain": [
       "array([0.25145833, 0.4434833 , 0.35069793])"
      ]
     },
     "execution_count": 22,
     "metadata": {},
     "output_type": "execute_result"
    }
   ],
   "source": [
    "A = np.linalg.solve(x, mu[:n])\n",
    "A"
   ]
  },
  {
   "cell_type": "markdown",
   "id": "f61dbd11",
   "metadata": {},
   "source": [
    "**Оценка методической погрешности**"
   ]
  },
  {
   "cell_type": "markdown",
   "id": "94b0ef07",
   "metadata": {},
   "source": [
    "$\n",
    "R_n (f) = J(f) - \\sum_{j=1}^{n}{A_j f(x_j)}\n",
    "$"
   ]
  },
  {
   "cell_type": "code",
   "execution_count": 23,
   "id": "e4cd2739",
   "metadata": {},
   "outputs": [
    {
     "name": "stdout",
     "output_type": "stream",
     "text": [
      "Методическая погрешность: 0.014158648413307162\n",
      "Погрешность \"точного\" метода: 1.8411583369015716e-10\n"
     ]
    }
   ],
   "source": [
    "res = abs(exact_value - sum([A[i] * f(x[1, i]) for i in range(3)]))\n",
    "print('Методическая погрешность:', res)\n",
    "print('Погрешность \"точного\" метода:', exact_err_rate)"
   ]
  },
  {
   "cell_type": "code",
   "execution_count": null,
   "id": "c9509cfa",
   "metadata": {},
   "outputs": [],
   "source": []
  }
 ],
 "metadata": {
  "kernelspec": {
   "display_name": "Python 3 (ipykernel)",
   "language": "python",
   "name": "python3"
  },
  "language_info": {
   "codemirror_mode": {
    "name": "ipython",
    "version": 3
   },
   "file_extension": ".py",
   "mimetype": "text/x-python",
   "name": "python",
   "nbconvert_exporter": "python",
   "pygments_lexer": "ipython3",
   "version": "3.9.13"
  }
 },
 "nbformat": 4,
 "nbformat_minor": 5
}
