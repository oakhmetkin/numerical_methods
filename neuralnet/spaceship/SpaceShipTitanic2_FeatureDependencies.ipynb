{
 "cells": [
  {
   "cell_type": "markdown",
   "id": "afef2b79",
   "metadata": {
    "papermill": {
     "duration": 0.015962,
     "end_time": "2023-12-15T23:34:50.453763",
     "exception": false,
     "start_time": "2023-12-15T23:34:50.437801",
     "status": "completed"
    },
    "tags": []
   },
   "source": [
    "# Spaceship Titanic\n",
    "\n",
    "Ахметкин Олег Вадимович, 306 группа\n",
    "\n",
    "Разведочный анализ данных датасета спейсшип титаник"
   ]
  },
  {
   "cell_type": "markdown",
   "id": "70d683d3",
   "metadata": {
    "papermill": {
     "duration": 0.00462,
     "end_time": "2023-12-15T23:34:50.467460",
     "exception": false,
     "start_time": "2023-12-15T23:34:50.462840",
     "status": "completed"
    },
    "tags": []
   },
   "source": [
    "## Initial"
   ]
  },
  {
   "cell_type": "code",
   "execution_count": 1,
   "id": "09bd5fcc",
   "metadata": {
    "execution": {
     "iopub.execute_input": "2023-12-15T23:34:50.473183Z",
     "iopub.status.busy": "2023-12-15T23:34:50.473040Z",
     "iopub.status.idle": "2023-12-15T23:34:51.131145Z",
     "shell.execute_reply": "2023-12-15T23:34:51.130866Z"
    },
    "papermill": {
     "duration": 0.66203,
     "end_time": "2023-12-15T23:34:51.132124",
     "exception": false,
     "start_time": "2023-12-15T23:34:50.470094",
     "status": "completed"
    },
    "tags": []
   },
   "outputs": [],
   "source": [
    "import pandas as pd\n",
    "import numpy as np\n",
    "import matplotlib.pyplot as plt\n",
    "%matplotlib inline\n",
    "import seaborn as sns\n",
    "import random\n",
    "from collections import Counter\n",
    "sns.set() "
   ]
  },
  {
   "cell_type": "code",
   "execution_count": 2,
   "id": "f5e19e15",
   "metadata": {
    "execution": {
     "iopub.execute_input": "2023-12-15T23:34:51.137473Z",
     "iopub.status.busy": "2023-12-15T23:34:51.137331Z",
     "iopub.status.idle": "2023-12-15T23:34:51.156517Z",
     "shell.execute_reply": "2023-12-15T23:34:51.156273Z"
    },
    "papermill": {
     "duration": 0.022788,
     "end_time": "2023-12-15T23:34:51.157440",
     "exception": false,
     "start_time": "2023-12-15T23:34:51.134652",
     "status": "completed"
    },
    "tags": []
   },
   "outputs": [],
   "source": [
    "train = pd.read_csv('./train.csv', index_col='PassengerId')\n",
    "test = pd.read_csv('./test.csv', index_col='PassengerId')"
   ]
  },
  {
   "cell_type": "code",
   "execution_count": 3,
   "id": "a92851aa",
   "metadata": {
    "execution": {
     "iopub.execute_input": "2023-12-15T23:34:51.162627Z",
     "iopub.status.busy": "2023-12-15T23:34:51.162533Z",
     "iopub.status.idle": "2023-12-15T23:34:51.168417Z",
     "shell.execute_reply": "2023-12-15T23:34:51.168202Z"
    },
    "papermill": {
     "duration": 0.00926,
     "end_time": "2023-12-15T23:34:51.169154",
     "exception": false,
     "start_time": "2023-12-15T23:34:51.159894",
     "status": "completed"
    },
    "tags": []
   },
   "outputs": [
    {
     "data": {
      "text/html": [
       "<div>\n",
       "<style scoped>\n",
       "    .dataframe tbody tr th:only-of-type {\n",
       "        vertical-align: middle;\n",
       "    }\n",
       "\n",
       "    .dataframe tbody tr th {\n",
       "        vertical-align: top;\n",
       "    }\n",
       "\n",
       "    .dataframe thead th {\n",
       "        text-align: right;\n",
       "    }\n",
       "</style>\n",
       "<table border=\"1\" class=\"dataframe\">\n",
       "  <thead>\n",
       "    <tr style=\"text-align: right;\">\n",
       "      <th></th>\n",
       "      <th>HomePlanet</th>\n",
       "      <th>CryoSleep</th>\n",
       "      <th>Cabin</th>\n",
       "      <th>Destination</th>\n",
       "      <th>Age</th>\n",
       "      <th>VIP</th>\n",
       "      <th>RoomService</th>\n",
       "      <th>FoodCourt</th>\n",
       "      <th>ShoppingMall</th>\n",
       "      <th>Spa</th>\n",
       "      <th>VRDeck</th>\n",
       "      <th>Name</th>\n",
       "      <th>Transported</th>\n",
       "    </tr>\n",
       "    <tr>\n",
       "      <th>PassengerId</th>\n",
       "      <th></th>\n",
       "      <th></th>\n",
       "      <th></th>\n",
       "      <th></th>\n",
       "      <th></th>\n",
       "      <th></th>\n",
       "      <th></th>\n",
       "      <th></th>\n",
       "      <th></th>\n",
       "      <th></th>\n",
       "      <th></th>\n",
       "      <th></th>\n",
       "      <th></th>\n",
       "    </tr>\n",
       "  </thead>\n",
       "  <tbody>\n",
       "    <tr>\n",
       "      <th>0001_01</th>\n",
       "      <td>Europa</td>\n",
       "      <td>False</td>\n",
       "      <td>B/0/P</td>\n",
       "      <td>TRAPPIST-1e</td>\n",
       "      <td>39.0</td>\n",
       "      <td>False</td>\n",
       "      <td>0.0</td>\n",
       "      <td>0.0</td>\n",
       "      <td>0.0</td>\n",
       "      <td>0.0</td>\n",
       "      <td>0.0</td>\n",
       "      <td>Maham Ofracculy</td>\n",
       "      <td>False</td>\n",
       "    </tr>\n",
       "    <tr>\n",
       "      <th>0002_01</th>\n",
       "      <td>Earth</td>\n",
       "      <td>False</td>\n",
       "      <td>F/0/S</td>\n",
       "      <td>TRAPPIST-1e</td>\n",
       "      <td>24.0</td>\n",
       "      <td>False</td>\n",
       "      <td>109.0</td>\n",
       "      <td>9.0</td>\n",
       "      <td>25.0</td>\n",
       "      <td>549.0</td>\n",
       "      <td>44.0</td>\n",
       "      <td>Juanna Vines</td>\n",
       "      <td>True</td>\n",
       "    </tr>\n",
       "    <tr>\n",
       "      <th>0003_01</th>\n",
       "      <td>Europa</td>\n",
       "      <td>False</td>\n",
       "      <td>A/0/S</td>\n",
       "      <td>TRAPPIST-1e</td>\n",
       "      <td>58.0</td>\n",
       "      <td>True</td>\n",
       "      <td>43.0</td>\n",
       "      <td>3576.0</td>\n",
       "      <td>0.0</td>\n",
       "      <td>6715.0</td>\n",
       "      <td>49.0</td>\n",
       "      <td>Altark Susent</td>\n",
       "      <td>False</td>\n",
       "    </tr>\n",
       "    <tr>\n",
       "      <th>0003_02</th>\n",
       "      <td>Europa</td>\n",
       "      <td>False</td>\n",
       "      <td>A/0/S</td>\n",
       "      <td>TRAPPIST-1e</td>\n",
       "      <td>33.0</td>\n",
       "      <td>False</td>\n",
       "      <td>0.0</td>\n",
       "      <td>1283.0</td>\n",
       "      <td>371.0</td>\n",
       "      <td>3329.0</td>\n",
       "      <td>193.0</td>\n",
       "      <td>Solam Susent</td>\n",
       "      <td>False</td>\n",
       "    </tr>\n",
       "    <tr>\n",
       "      <th>0004_01</th>\n",
       "      <td>Earth</td>\n",
       "      <td>False</td>\n",
       "      <td>F/1/S</td>\n",
       "      <td>TRAPPIST-1e</td>\n",
       "      <td>16.0</td>\n",
       "      <td>False</td>\n",
       "      <td>303.0</td>\n",
       "      <td>70.0</td>\n",
       "      <td>151.0</td>\n",
       "      <td>565.0</td>\n",
       "      <td>2.0</td>\n",
       "      <td>Willy Santantines</td>\n",
       "      <td>True</td>\n",
       "    </tr>\n",
       "  </tbody>\n",
       "</table>\n",
       "</div>"
      ],
      "text/plain": [
       "            HomePlanet CryoSleep  Cabin  Destination   Age    VIP  \\\n",
       "PassengerId                                                         \n",
       "0001_01         Europa     False  B/0/P  TRAPPIST-1e  39.0  False   \n",
       "0002_01          Earth     False  F/0/S  TRAPPIST-1e  24.0  False   \n",
       "0003_01         Europa     False  A/0/S  TRAPPIST-1e  58.0   True   \n",
       "0003_02         Europa     False  A/0/S  TRAPPIST-1e  33.0  False   \n",
       "0004_01          Earth     False  F/1/S  TRAPPIST-1e  16.0  False   \n",
       "\n",
       "             RoomService  FoodCourt  ShoppingMall     Spa  VRDeck  \\\n",
       "PassengerId                                                         \n",
       "0001_01              0.0        0.0           0.0     0.0     0.0   \n",
       "0002_01            109.0        9.0          25.0   549.0    44.0   \n",
       "0003_01             43.0     3576.0           0.0  6715.0    49.0   \n",
       "0003_02              0.0     1283.0         371.0  3329.0   193.0   \n",
       "0004_01            303.0       70.0         151.0   565.0     2.0   \n",
       "\n",
       "                          Name  Transported  \n",
       "PassengerId                                  \n",
       "0001_01        Maham Ofracculy        False  \n",
       "0002_01           Juanna Vines         True  \n",
       "0003_01          Altark Susent        False  \n",
       "0003_02           Solam Susent        False  \n",
       "0004_01      Willy Santantines         True  "
      ]
     },
     "execution_count": 3,
     "metadata": {},
     "output_type": "execute_result"
    }
   ],
   "source": [
    "train.head()"
   ]
  },
  {
   "cell_type": "markdown",
   "id": "f73046f8",
   "metadata": {
    "papermill": {
     "duration": 0.002371,
     "end_time": "2023-12-15T23:34:51.173913",
     "exception": false,
     "start_time": "2023-12-15T23:34:51.171542",
     "status": "completed"
    },
    "tags": []
   },
   "source": [
    "- PassengerId - A unique Id for each passenger. Each Id takes the form gggg_pp where gggg indicates a group the passenger is travelling with and pp is their number within the group. People in a group are often family members, but not always.\n",
    "\n",
    "- HomePlanet - The planet the passenger departed from, typically their planet of permanent residence.\n",
    "\n",
    "- CryoSleep - Indicates whether the passenger elected to be put into suspended animation for the duration of the voyage. Passengers in cryosleep are confined to their cabins.\n",
    "\n",
    "- Cabin - The cabin number where the passenger is staying. Takes the form deck/num/side, where side can be either P for Port or S for Starboard.\n",
    "\n",
    "- Destination - The planet the passenger will be debarking to.\n",
    "- Age - The age of the passenger.\n",
    "- VIP - Whether the passenger has paid for special VIP service during the voyage.\n",
    "- RoomService, FoodCourt, ShoppingMall, Spa, VRDeck - Amount the passenger has billed at each of the Spaceship Titanic's many luxury amenities.\n",
    "- Name - The first and last names of the passenger.\n",
    "- Transported - Whether the passenger was transported to another dimension. This is the target, the column you are trying to predict."
   ]
  },
  {
   "cell_type": "code",
   "execution_count": 4,
   "id": "33ee1157",
   "metadata": {
    "execution": {
     "iopub.execute_input": "2023-12-15T23:34:51.178990Z",
     "iopub.status.busy": "2023-12-15T23:34:51.178898Z",
     "iopub.status.idle": "2023-12-15T23:34:51.180759Z",
     "shell.execute_reply": "2023-12-15T23:34:51.180570Z"
    },
    "papermill": {
     "duration": 0.005277,
     "end_time": "2023-12-15T23:34:51.181472",
     "exception": false,
     "start_time": "2023-12-15T23:34:51.176195",
     "status": "completed"
    },
    "tags": []
   },
   "outputs": [
    {
     "data": {
      "text/plain": [
       "(8693, 13)"
      ]
     },
     "execution_count": 4,
     "metadata": {},
     "output_type": "execute_result"
    }
   ],
   "source": [
    "train.shape"
   ]
  },
  {
   "cell_type": "code",
   "execution_count": 5,
   "id": "4a50d695",
   "metadata": {
    "execution": {
     "iopub.execute_input": "2023-12-15T23:34:51.186700Z",
     "iopub.status.busy": "2023-12-15T23:34:51.186625Z",
     "iopub.status.idle": "2023-12-15T23:34:51.194276Z",
     "shell.execute_reply": "2023-12-15T23:34:51.194082Z"
    },
    "papermill": {
     "duration": 0.011101,
     "end_time": "2023-12-15T23:34:51.195011",
     "exception": false,
     "start_time": "2023-12-15T23:34:51.183910",
     "status": "completed"
    },
    "tags": []
   },
   "outputs": [
    {
     "data": {
      "text/html": [
       "<div>\n",
       "<style scoped>\n",
       "    .dataframe tbody tr th:only-of-type {\n",
       "        vertical-align: middle;\n",
       "    }\n",
       "\n",
       "    .dataframe tbody tr th {\n",
       "        vertical-align: top;\n",
       "    }\n",
       "\n",
       "    .dataframe thead th {\n",
       "        text-align: right;\n",
       "    }\n",
       "</style>\n",
       "<table border=\"1\" class=\"dataframe\">\n",
       "  <thead>\n",
       "    <tr style=\"text-align: right;\">\n",
       "      <th></th>\n",
       "      <th>Age</th>\n",
       "      <th>RoomService</th>\n",
       "      <th>FoodCourt</th>\n",
       "      <th>ShoppingMall</th>\n",
       "      <th>Spa</th>\n",
       "      <th>VRDeck</th>\n",
       "    </tr>\n",
       "  </thead>\n",
       "  <tbody>\n",
       "    <tr>\n",
       "      <th>count</th>\n",
       "      <td>8514.000000</td>\n",
       "      <td>8512.000000</td>\n",
       "      <td>8510.000000</td>\n",
       "      <td>8485.000000</td>\n",
       "      <td>8510.000000</td>\n",
       "      <td>8505.000000</td>\n",
       "    </tr>\n",
       "    <tr>\n",
       "      <th>mean</th>\n",
       "      <td>28.827930</td>\n",
       "      <td>224.687617</td>\n",
       "      <td>458.077203</td>\n",
       "      <td>173.729169</td>\n",
       "      <td>311.138778</td>\n",
       "      <td>304.854791</td>\n",
       "    </tr>\n",
       "    <tr>\n",
       "      <th>std</th>\n",
       "      <td>14.489021</td>\n",
       "      <td>666.717663</td>\n",
       "      <td>1611.489240</td>\n",
       "      <td>604.696458</td>\n",
       "      <td>1136.705535</td>\n",
       "      <td>1145.717189</td>\n",
       "    </tr>\n",
       "    <tr>\n",
       "      <th>min</th>\n",
       "      <td>0.000000</td>\n",
       "      <td>0.000000</td>\n",
       "      <td>0.000000</td>\n",
       "      <td>0.000000</td>\n",
       "      <td>0.000000</td>\n",
       "      <td>0.000000</td>\n",
       "    </tr>\n",
       "    <tr>\n",
       "      <th>25%</th>\n",
       "      <td>19.000000</td>\n",
       "      <td>0.000000</td>\n",
       "      <td>0.000000</td>\n",
       "      <td>0.000000</td>\n",
       "      <td>0.000000</td>\n",
       "      <td>0.000000</td>\n",
       "    </tr>\n",
       "    <tr>\n",
       "      <th>50%</th>\n",
       "      <td>27.000000</td>\n",
       "      <td>0.000000</td>\n",
       "      <td>0.000000</td>\n",
       "      <td>0.000000</td>\n",
       "      <td>0.000000</td>\n",
       "      <td>0.000000</td>\n",
       "    </tr>\n",
       "    <tr>\n",
       "      <th>75%</th>\n",
       "      <td>38.000000</td>\n",
       "      <td>47.000000</td>\n",
       "      <td>76.000000</td>\n",
       "      <td>27.000000</td>\n",
       "      <td>59.000000</td>\n",
       "      <td>46.000000</td>\n",
       "    </tr>\n",
       "    <tr>\n",
       "      <th>max</th>\n",
       "      <td>79.000000</td>\n",
       "      <td>14327.000000</td>\n",
       "      <td>29813.000000</td>\n",
       "      <td>23492.000000</td>\n",
       "      <td>22408.000000</td>\n",
       "      <td>24133.000000</td>\n",
       "    </tr>\n",
       "  </tbody>\n",
       "</table>\n",
       "</div>"
      ],
      "text/plain": [
       "               Age   RoomService     FoodCourt  ShoppingMall           Spa  \\\n",
       "count  8514.000000   8512.000000   8510.000000   8485.000000   8510.000000   \n",
       "mean     28.827930    224.687617    458.077203    173.729169    311.138778   \n",
       "std      14.489021    666.717663   1611.489240    604.696458   1136.705535   \n",
       "min       0.000000      0.000000      0.000000      0.000000      0.000000   \n",
       "25%      19.000000      0.000000      0.000000      0.000000      0.000000   \n",
       "50%      27.000000      0.000000      0.000000      0.000000      0.000000   \n",
       "75%      38.000000     47.000000     76.000000     27.000000     59.000000   \n",
       "max      79.000000  14327.000000  29813.000000  23492.000000  22408.000000   \n",
       "\n",
       "             VRDeck  \n",
       "count   8505.000000  \n",
       "mean     304.854791  \n",
       "std     1145.717189  \n",
       "min        0.000000  \n",
       "25%        0.000000  \n",
       "50%        0.000000  \n",
       "75%       46.000000  \n",
       "max    24133.000000  "
      ]
     },
     "execution_count": 5,
     "metadata": {},
     "output_type": "execute_result"
    }
   ],
   "source": [
    "train.describe()"
   ]
  },
  {
   "cell_type": "code",
   "execution_count": 6,
   "id": "4d733511",
   "metadata": {
    "execution": {
     "iopub.execute_input": "2023-12-15T23:34:51.200466Z",
     "iopub.status.busy": "2023-12-15T23:34:51.200380Z",
     "iopub.status.idle": "2023-12-15T23:34:51.209727Z",
     "shell.execute_reply": "2023-12-15T23:34:51.209513Z"
    },
    "papermill": {
     "duration": 0.012939,
     "end_time": "2023-12-15T23:34:51.210457",
     "exception": false,
     "start_time": "2023-12-15T23:34:51.197518",
     "status": "completed"
    },
    "tags": []
   },
   "outputs": [
    {
     "data": {
      "text/html": [
       "<div>\n",
       "<style scoped>\n",
       "    .dataframe tbody tr th:only-of-type {\n",
       "        vertical-align: middle;\n",
       "    }\n",
       "\n",
       "    .dataframe tbody tr th {\n",
       "        vertical-align: top;\n",
       "    }\n",
       "\n",
       "    .dataframe thead th {\n",
       "        text-align: right;\n",
       "    }\n",
       "</style>\n",
       "<table border=\"1\" class=\"dataframe\">\n",
       "  <thead>\n",
       "    <tr style=\"text-align: right;\">\n",
       "      <th></th>\n",
       "      <th>HomePlanet</th>\n",
       "      <th>CryoSleep</th>\n",
       "      <th>Cabin</th>\n",
       "      <th>Destination</th>\n",
       "      <th>VIP</th>\n",
       "      <th>Name</th>\n",
       "    </tr>\n",
       "  </thead>\n",
       "  <tbody>\n",
       "    <tr>\n",
       "      <th>count</th>\n",
       "      <td>8492</td>\n",
       "      <td>8476</td>\n",
       "      <td>8494</td>\n",
       "      <td>8511</td>\n",
       "      <td>8490</td>\n",
       "      <td>8493</td>\n",
       "    </tr>\n",
       "    <tr>\n",
       "      <th>unique</th>\n",
       "      <td>3</td>\n",
       "      <td>2</td>\n",
       "      <td>6560</td>\n",
       "      <td>3</td>\n",
       "      <td>2</td>\n",
       "      <td>8473</td>\n",
       "    </tr>\n",
       "    <tr>\n",
       "      <th>top</th>\n",
       "      <td>Earth</td>\n",
       "      <td>False</td>\n",
       "      <td>G/734/S</td>\n",
       "      <td>TRAPPIST-1e</td>\n",
       "      <td>False</td>\n",
       "      <td>Gollux Reedall</td>\n",
       "    </tr>\n",
       "    <tr>\n",
       "      <th>freq</th>\n",
       "      <td>4602</td>\n",
       "      <td>5439</td>\n",
       "      <td>8</td>\n",
       "      <td>5915</td>\n",
       "      <td>8291</td>\n",
       "      <td>2</td>\n",
       "    </tr>\n",
       "  </tbody>\n",
       "</table>\n",
       "</div>"
      ],
      "text/plain": [
       "       HomePlanet CryoSleep    Cabin  Destination    VIP            Name\n",
       "count        8492      8476     8494         8511   8490            8493\n",
       "unique          3         2     6560            3      2            8473\n",
       "top         Earth     False  G/734/S  TRAPPIST-1e  False  Gollux Reedall\n",
       "freq         4602      5439        8         5915   8291               2"
      ]
     },
     "execution_count": 6,
     "metadata": {},
     "output_type": "execute_result"
    }
   ],
   "source": [
    "train.describe(include=['O'])"
   ]
  },
  {
   "cell_type": "code",
   "execution_count": 7,
   "id": "618f5111",
   "metadata": {
    "execution": {
     "iopub.execute_input": "2023-12-15T23:34:51.216006Z",
     "iopub.status.busy": "2023-12-15T23:34:51.215920Z",
     "iopub.status.idle": "2023-12-15T23:34:51.220498Z",
     "shell.execute_reply": "2023-12-15T23:34:51.220289Z"
    },
    "papermill": {
     "duration": 0.008148,
     "end_time": "2023-12-15T23:34:51.221213",
     "exception": false,
     "start_time": "2023-12-15T23:34:51.213065",
     "status": "completed"
    },
    "tags": []
   },
   "outputs": [
    {
     "name": "stdout",
     "output_type": "stream",
     "text": [
      "<class 'pandas.core.frame.DataFrame'>\n",
      "Index: 8693 entries, 0001_01 to 9280_02\n",
      "Data columns (total 13 columns):\n",
      " #   Column        Non-Null Count  Dtype  \n",
      "---  ------        --------------  -----  \n",
      " 0   HomePlanet    8492 non-null   object \n",
      " 1   CryoSleep     8476 non-null   object \n",
      " 2   Cabin         8494 non-null   object \n",
      " 3   Destination   8511 non-null   object \n",
      " 4   Age           8514 non-null   float64\n",
      " 5   VIP           8490 non-null   object \n",
      " 6   RoomService   8512 non-null   float64\n",
      " 7   FoodCourt     8510 non-null   float64\n",
      " 8   ShoppingMall  8485 non-null   float64\n",
      " 9   Spa           8510 non-null   float64\n",
      " 10  VRDeck        8505 non-null   float64\n",
      " 11  Name          8493 non-null   object \n",
      " 12  Transported   8693 non-null   bool   \n",
      "dtypes: bool(1), float64(6), object(6)\n",
      "memory usage: 891.4+ KB\n"
     ]
    }
   ],
   "source": [
    "train.info()"
   ]
  },
  {
   "cell_type": "markdown",
   "id": "29c422f3",
   "metadata": {
    "papermill": {
     "duration": 0.002555,
     "end_time": "2023-12-15T23:34:51.226341",
     "exception": false,
     "start_time": "2023-12-15T23:34:51.223786",
     "status": "completed"
    },
    "tags": []
   },
   "source": [
    "есть пропущенные значения"
   ]
  },
  {
   "cell_type": "code",
   "execution_count": 8,
   "id": "e78fb797",
   "metadata": {
    "execution": {
     "iopub.execute_input": "2023-12-15T23:34:51.231716Z",
     "iopub.status.busy": "2023-12-15T23:34:51.231627Z",
     "iopub.status.idle": "2023-12-15T23:34:51.235196Z",
     "shell.execute_reply": "2023-12-15T23:34:51.234963Z"
    },
    "papermill": {
     "duration": 0.007094,
     "end_time": "2023-12-15T23:34:51.235875",
     "exception": false,
     "start_time": "2023-12-15T23:34:51.228781",
     "status": "completed"
    },
    "tags": []
   },
   "outputs": [
    {
     "data": {
      "text/plain": [
       "HomePlanet      201\n",
       "CryoSleep       217\n",
       "Cabin           199\n",
       "Destination     182\n",
       "Age             179\n",
       "VIP             203\n",
       "RoomService     181\n",
       "FoodCourt       183\n",
       "ShoppingMall    208\n",
       "Spa             183\n",
       "VRDeck          188\n",
       "Name            200\n",
       "Transported       0\n",
       "dtype: int64"
      ]
     },
     "execution_count": 8,
     "metadata": {},
     "output_type": "execute_result"
    }
   ],
   "source": [
    "train.isnull().sum()"
   ]
  },
  {
   "cell_type": "markdown",
   "id": "499cad13",
   "metadata": {
    "papermill": {
     "duration": 0.00254,
     "end_time": "2023-12-15T23:34:51.241072",
     "exception": false,
     "start_time": "2023-12-15T23:34:51.238532",
     "status": "completed"
    },
    "tags": []
   },
   "source": [
    "## Dependencies between Features and Transported "
   ]
  },
  {
   "cell_type": "code",
   "execution_count": 9,
   "id": "e51ab686",
   "metadata": {
    "execution": {
     "iopub.execute_input": "2023-12-15T23:34:51.246512Z",
     "iopub.status.busy": "2023-12-15T23:34:51.246425Z",
     "iopub.status.idle": "2023-12-15T23:34:51.249411Z",
     "shell.execute_reply": "2023-12-15T23:34:51.249216Z"
    },
    "papermill": {
     "duration": 0.006559,
     "end_time": "2023-12-15T23:34:51.250109",
     "exception": false,
     "start_time": "2023-12-15T23:34:51.243550",
     "status": "completed"
    },
    "tags": []
   },
   "outputs": [
    {
     "name": "stdout",
     "output_type": "stream",
     "text": [
      "Transported: 4378 (50.4%)\n",
      "Not transported: 4315 (49.6%)\n",
      "Total: 8693\n"
     ]
    }
   ],
   "source": [
    "transported = train[train['Transported'] == 1]\n",
    "not_transported = train[train['Transported'] == 0]\n",
    "\n",
    "print(\"Transported: %i (%.1f%%)\" %(len(transported), (len(transported)/len(train)*100)))\n",
    "print(\"Not transported: %i (%.1f%%)\" %(len(not_transported), (len(not_transported)/len(train)*100)))\n",
    "print(\"Total:\", len(train))"
   ]
  },
  {
   "cell_type": "markdown",
   "id": "4eb528db",
   "metadata": {
    "papermill": {
     "duration": 0.003223,
     "end_time": "2023-12-15T23:34:51.256073",
     "exception": false,
     "start_time": "2023-12-15T23:34:51.252850",
     "status": "completed"
    },
    "tags": []
   },
   "source": [
    "### Home Planet vs. Transported\n",
    "Passengers from Europe are more likely to survive"
   ]
  },
  {
   "cell_type": "code",
   "execution_count": 10,
   "id": "696f8a9e",
   "metadata": {
    "execution": {
     "iopub.execute_input": "2023-12-15T23:34:51.262745Z",
     "iopub.status.busy": "2023-12-15T23:34:51.262629Z",
     "iopub.status.idle": "2023-12-15T23:34:51.265310Z",
     "shell.execute_reply": "2023-12-15T23:34:51.265058Z"
    },
    "papermill": {
     "duration": 0.006922,
     "end_time": "2023-12-15T23:34:51.266049",
     "exception": false,
     "start_time": "2023-12-15T23:34:51.259127",
     "status": "completed"
    },
    "tags": []
   },
   "outputs": [
    {
     "data": {
      "text/plain": [
       "HomePlanet\n",
       "Earth     4602\n",
       "Europa    2131\n",
       "Mars      1759\n",
       "Name: count, dtype: int64"
      ]
     },
     "execution_count": 10,
     "metadata": {},
     "output_type": "execute_result"
    }
   ],
   "source": [
    "train['HomePlanet'].value_counts()"
   ]
  },
  {
   "cell_type": "code",
   "execution_count": 11,
   "id": "3454b799",
   "metadata": {
    "execution": {
     "iopub.execute_input": "2023-12-15T23:34:51.271959Z",
     "iopub.status.busy": "2023-12-15T23:34:51.271872Z",
     "iopub.status.idle": "2023-12-15T23:34:51.275431Z",
     "shell.execute_reply": "2023-12-15T23:34:51.275206Z"
    },
    "papermill": {
     "duration": 0.007284,
     "end_time": "2023-12-15T23:34:51.276164",
     "exception": false,
     "start_time": "2023-12-15T23:34:51.268880",
     "status": "completed"
    },
    "tags": []
   },
   "outputs": [
    {
     "data": {
      "text/plain": [
       "HomePlanet  Transported\n",
       "Earth       False          2651\n",
       "            True           1951\n",
       "Europa      True           1404\n",
       "            False           727\n",
       "Mars        True            920\n",
       "            False           839\n",
       "Name: count, dtype: int64"
      ]
     },
     "execution_count": 11,
     "metadata": {},
     "output_type": "execute_result"
    }
   ],
   "source": [
    "train.groupby('HomePlanet').Transported.value_counts()"
   ]
  },
  {
   "cell_type": "code",
   "execution_count": 12,
   "id": "6b42395e",
   "metadata": {
    "execution": {
     "iopub.execute_input": "2023-12-15T23:34:51.282509Z",
     "iopub.status.busy": "2023-12-15T23:34:51.282417Z",
     "iopub.status.idle": "2023-12-15T23:34:51.286288Z",
     "shell.execute_reply": "2023-12-15T23:34:51.286074Z"
    },
    "papermill": {
     "duration": 0.007695,
     "end_time": "2023-12-15T23:34:51.286973",
     "exception": false,
     "start_time": "2023-12-15T23:34:51.279278",
     "status": "completed"
    },
    "tags": []
   },
   "outputs": [
    {
     "data": {
      "text/html": [
       "<div>\n",
       "<style scoped>\n",
       "    .dataframe tbody tr th:only-of-type {\n",
       "        vertical-align: middle;\n",
       "    }\n",
       "\n",
       "    .dataframe tbody tr th {\n",
       "        vertical-align: top;\n",
       "    }\n",
       "\n",
       "    .dataframe thead th {\n",
       "        text-align: right;\n",
       "    }\n",
       "</style>\n",
       "<table border=\"1\" class=\"dataframe\">\n",
       "  <thead>\n",
       "    <tr style=\"text-align: right;\">\n",
       "      <th></th>\n",
       "      <th>HomePlanet</th>\n",
       "      <th>Transported</th>\n",
       "    </tr>\n",
       "  </thead>\n",
       "  <tbody>\n",
       "    <tr>\n",
       "      <th>0</th>\n",
       "      <td>Earth</td>\n",
       "      <td>0.423946</td>\n",
       "    </tr>\n",
       "    <tr>\n",
       "      <th>1</th>\n",
       "      <td>Europa</td>\n",
       "      <td>0.658846</td>\n",
       "    </tr>\n",
       "    <tr>\n",
       "      <th>2</th>\n",
       "      <td>Mars</td>\n",
       "      <td>0.523024</td>\n",
       "    </tr>\n",
       "  </tbody>\n",
       "</table>\n",
       "</div>"
      ],
      "text/plain": [
       "  HomePlanet  Transported\n",
       "0      Earth     0.423946\n",
       "1     Europa     0.658846\n",
       "2       Mars     0.523024"
      ]
     },
     "execution_count": 12,
     "metadata": {},
     "output_type": "execute_result"
    }
   ],
   "source": [
    "train[['HomePlanet', 'Transported']].groupby('HomePlanet', as_index=False).mean()"
   ]
  },
  {
   "cell_type": "code",
   "execution_count": 13,
   "id": "e8c66626",
   "metadata": {
    "execution": {
     "iopub.execute_input": "2023-12-15T23:34:51.292963Z",
     "iopub.status.busy": "2023-12-15T23:34:51.292882Z",
     "iopub.status.idle": "2023-12-15T23:34:51.383586Z",
     "shell.execute_reply": "2023-12-15T23:34:51.383353Z"
    },
    "papermill": {
     "duration": 0.094542,
     "end_time": "2023-12-15T23:34:51.384342",
     "exception": false,
     "start_time": "2023-12-15T23:34:51.289800",
     "status": "completed"
    },
    "tags": []
   },
   "outputs": [
    {
     "name": "stderr",
     "output_type": "stream",
     "text": [
      "/var/folders/mk/hj8c66xx7p9_nsjthv7t_ftm0000gn/T/ipykernel_38831/1696645268.py:1: FutureWarning: \n",
      "\n",
      "The `ci` parameter is deprecated. Use `errorbar=None` for the same effect.\n",
      "\n",
      "  sns.barplot(x='HomePlanet', y='Transported', data=train, ci=None)\n"
     ]
    },
    {
     "data": {
      "text/plain": [
       "<Axes: xlabel='HomePlanet', ylabel='Transported'>"
      ]
     },
     "execution_count": 13,
     "metadata": {},
     "output_type": "execute_result"
    },
    {
     "data": {
      "image/png": "[encoded data removed]",
      "text/plain": [
       "<Figure size 640x480 with 1 Axes>"
      ]
     },
     "metadata": {},
     "output_type": "display_data"
    }
   ],
   "source": [
    "sns.barplot(x='HomePlanet', y='Transported', data=train, ci=None)"
   ]
  },
  {
   "cell_type": "markdown",
   "id": "311b887a",
   "metadata": {
    "papermill": {
     "duration": 0.003057,
     "end_time": "2023-12-15T23:34:51.390661",
     "exception": false,
     "start_time": "2023-12-15T23:34:51.387604",
     "status": "completed"
    },
    "tags": []
   },
   "source": [
    "### CryoSleep vs. Transported\n",
    " Passengers in cryosleep are more likely to survive"
   ]
  },
  {
   "cell_type": "code",
   "execution_count": 14,
   "id": "f9efe708",
   "metadata": {
    "execution": {
     "iopub.execute_input": "2023-12-15T23:34:51.397119Z",
     "iopub.status.busy": "2023-12-15T23:34:51.397036Z",
     "iopub.status.idle": "2023-12-15T23:34:51.399769Z",
     "shell.execute_reply": "2023-12-15T23:34:51.399565Z"
    },
    "papermill": {
     "duration": 0.006863,
     "end_time": "2023-12-15T23:34:51.400488",
     "exception": false,
     "start_time": "2023-12-15T23:34:51.393625",
     "status": "completed"
    },
    "tags": []
   },
   "outputs": [
    {
     "data": {
      "text/plain": [
       "CryoSleep\n",
       "False    5439\n",
       "True     3037\n",
       "Name: count, dtype: int64"
      ]
     },
     "execution_count": 14,
     "metadata": {},
     "output_type": "execute_result"
    }
   ],
   "source": [
    "train.CryoSleep.value_counts()"
   ]
  },
  {
   "cell_type": "code",
   "execution_count": 15,
   "id": "16f802ca",
   "metadata": {
    "execution": {
     "iopub.execute_input": "2023-12-15T23:34:51.407183Z",
     "iopub.status.busy": "2023-12-15T23:34:51.407094Z",
     "iopub.status.idle": "2023-12-15T23:34:51.410697Z",
     "shell.execute_reply": "2023-12-15T23:34:51.410482Z"
    },
    "papermill": {
     "duration": 0.007742,
     "end_time": "2023-12-15T23:34:51.411417",
     "exception": false,
     "start_time": "2023-12-15T23:34:51.403675",
     "status": "completed"
    },
    "tags": []
   },
   "outputs": [
    {
     "data": {
      "text/plain": [
       "CryoSleep  Transported\n",
       "False      False          3650\n",
       "           True           1789\n",
       "True       True           2483\n",
       "           False           554\n",
       "Name: count, dtype: int64"
      ]
     },
     "execution_count": 15,
     "metadata": {},
     "output_type": "execute_result"
    }
   ],
   "source": [
    "train.groupby('CryoSleep').Transported.value_counts()"
   ]
  },
  {
   "cell_type": "code",
   "execution_count": 16,
   "id": "17290621",
   "metadata": {
    "execution": {
     "iopub.execute_input": "2023-12-15T23:34:51.418491Z",
     "iopub.status.busy": "2023-12-15T23:34:51.418403Z",
     "iopub.status.idle": "2023-12-15T23:34:51.422398Z",
     "shell.execute_reply": "2023-12-15T23:34:51.422188Z"
    },
    "papermill": {
     "duration": 0.00831,
     "end_time": "2023-12-15T23:34:51.423126",
     "exception": false,
     "start_time": "2023-12-15T23:34:51.414816",
     "status": "completed"
    },
    "tags": []
   },
   "outputs": [
    {
     "data": {
      "text/html": [
       "<div>\n",
       "<style scoped>\n",
       "    .dataframe tbody tr th:only-of-type {\n",
       "        vertical-align: middle;\n",
       "    }\n",
       "\n",
       "    .dataframe tbody tr th {\n",
       "        vertical-align: top;\n",
       "    }\n",
       "\n",
       "    .dataframe thead th {\n",
       "        text-align: right;\n",
       "    }\n",
       "</style>\n",
       "<table border=\"1\" class=\"dataframe\">\n",
       "  <thead>\n",
       "    <tr style=\"text-align: right;\">\n",
       "      <th></th>\n",
       "      <th>CryoSleep</th>\n",
       "      <th>Transported</th>\n",
       "    </tr>\n",
       "  </thead>\n",
       "  <tbody>\n",
       "    <tr>\n",
       "      <th>0</th>\n",
       "      <td>False</td>\n",
       "      <td>0.328921</td>\n",
       "    </tr>\n",
       "    <tr>\n",
       "      <th>1</th>\n",
       "      <td>True</td>\n",
       "      <td>0.817583</td>\n",
       "    </tr>\n",
       "  </tbody>\n",
       "</table>\n",
       "</div>"
      ],
      "text/plain": [
       "  CryoSleep  Transported\n",
       "0     False     0.328921\n",
       "1      True     0.817583"
      ]
     },
     "execution_count": 16,
     "metadata": {},
     "output_type": "execute_result"
    }
   ],
   "source": [
    "train[['CryoSleep', 'Transported']].groupby('CryoSleep', as_index=False).mean()"
   ]
  },
  {
   "cell_type": "code",
   "execution_count": 17,
   "id": "d8d59c76",
   "metadata": {
    "execution": {
     "iopub.execute_input": "2023-12-15T23:34:51.430275Z",
     "iopub.status.busy": "2023-12-15T23:34:51.430187Z",
     "iopub.status.idle": "2023-12-15T23:34:51.548325Z",
     "shell.execute_reply": "2023-12-15T23:34:51.548084Z"
    },
    "papermill": {
     "duration": 0.122531,
     "end_time": "2023-12-15T23:34:51.549167",
     "exception": false,
     "start_time": "2023-12-15T23:34:51.426636",
     "status": "completed"
    },
    "tags": []
   },
   "outputs": [
    {
     "data": {
      "text/plain": [
       "<Axes: xlabel='CryoSleep', ylabel='Transported'>"
      ]
     },
     "execution_count": 17,
     "metadata": {},
     "output_type": "execute_result"
    },
    {
     "data": {
      "image/png": "[encoded data removed]",
      "text/plain": [
       "<Figure size 640x480 with 1 Axes>"
      ]
     },
     "metadata": {},
     "output_type": "display_data"
    }
   ],
   "source": [
    "sns.barplot(x='CryoSleep', y='Transported', data=train)"
   ]
  },
  {
   "cell_type": "markdown",
   "id": "d9d95d79",
   "metadata": {
    "papermill": {
     "duration": 0.003313,
     "end_time": "2023-12-15T23:34:51.556123",
     "exception": false,
     "start_time": "2023-12-15T23:34:51.552810",
     "status": "completed"
    },
    "tags": []
   },
   "source": [
    "### VIP vs. Transported\n",
    "Passengers without VIP status have a better chance of survival"
   ]
  },
  {
   "cell_type": "code",
   "execution_count": 18,
   "id": "4a38c561",
   "metadata": {
    "execution": {
     "iopub.execute_input": "2023-12-15T23:34:51.563262Z",
     "iopub.status.busy": "2023-12-15T23:34:51.563160Z",
     "iopub.status.idle": "2023-12-15T23:34:51.566016Z",
     "shell.execute_reply": "2023-12-15T23:34:51.565735Z"
    },
    "papermill": {
     "duration": 0.007788,
     "end_time": "2023-12-15T23:34:51.567273",
     "exception": false,
     "start_time": "2023-12-15T23:34:51.559485",
     "status": "completed"
    },
    "tags": []
   },
   "outputs": [
    {
     "data": {
      "text/plain": [
       "VIP\n",
       "False    8291\n",
       "True      199\n",
       "Name: count, dtype: int64"
      ]
     },
     "execution_count": 18,
     "metadata": {},
     "output_type": "execute_result"
    }
   ],
   "source": [
    "train.VIP.value_counts()"
   ]
  },
  {
   "cell_type": "code",
   "execution_count": 19,
   "id": "8769f376",
   "metadata": {
    "execution": {
     "iopub.execute_input": "2023-12-15T23:34:51.576805Z",
     "iopub.status.busy": "2023-12-15T23:34:51.576491Z",
     "iopub.status.idle": "2023-12-15T23:34:51.582000Z",
     "shell.execute_reply": "2023-12-15T23:34:51.581682Z"
    },
    "papermill": {
     "duration": 0.012078,
     "end_time": "2023-12-15T23:34:51.583033",
     "exception": false,
     "start_time": "2023-12-15T23:34:51.570955",
     "status": "completed"
    },
    "tags": []
   },
   "outputs": [
    {
     "data": {
      "text/plain": [
       "VIP    Transported\n",
       "False  True           4198\n",
       "       False          4093\n",
       "True   False           123\n",
       "       True             76\n",
       "Name: count, dtype: int64"
      ]
     },
     "execution_count": 19,
     "metadata": {},
     "output_type": "execute_result"
    }
   ],
   "source": [
    "train.groupby('VIP').Transported.value_counts()"
   ]
  },
  {
   "cell_type": "code",
   "execution_count": 20,
   "id": "3e08858e",
   "metadata": {
    "execution": {
     "iopub.execute_input": "2023-12-15T23:34:51.590715Z",
     "iopub.status.busy": "2023-12-15T23:34:51.590602Z",
     "iopub.status.idle": "2023-12-15T23:34:51.594885Z",
     "shell.execute_reply": "2023-12-15T23:34:51.594647Z"
    },
    "papermill": {
     "duration": 0.00893,
     "end_time": "2023-12-15T23:34:51.595637",
     "exception": false,
     "start_time": "2023-12-15T23:34:51.586707",
     "status": "completed"
    },
    "tags": []
   },
   "outputs": [
    {
     "data": {
      "text/html": [
       "<div>\n",
       "<style scoped>\n",
       "    .dataframe tbody tr th:only-of-type {\n",
       "        vertical-align: middle;\n",
       "    }\n",
       "\n",
       "    .dataframe tbody tr th {\n",
       "        vertical-align: top;\n",
       "    }\n",
       "\n",
       "    .dataframe thead th {\n",
       "        text-align: right;\n",
       "    }\n",
       "</style>\n",
       "<table border=\"1\" class=\"dataframe\">\n",
       "  <thead>\n",
       "    <tr style=\"text-align: right;\">\n",
       "      <th></th>\n",
       "      <th>VIP</th>\n",
       "      <th>Transported</th>\n",
       "    </tr>\n",
       "  </thead>\n",
       "  <tbody>\n",
       "    <tr>\n",
       "      <th>0</th>\n",
       "      <td>False</td>\n",
       "      <td>0.506332</td>\n",
       "    </tr>\n",
       "    <tr>\n",
       "      <th>1</th>\n",
       "      <td>True</td>\n",
       "      <td>0.381910</td>\n",
       "    </tr>\n",
       "  </tbody>\n",
       "</table>\n",
       "</div>"
      ],
      "text/plain": [
       "     VIP  Transported\n",
       "0  False     0.506332\n",
       "1   True     0.381910"
      ]
     },
     "execution_count": 20,
     "metadata": {},
     "output_type": "execute_result"
    }
   ],
   "source": [
    "train[['VIP', 'Transported']].groupby(['VIP'], as_index=False).mean()"
   ]
  },
  {
   "cell_type": "code",
   "execution_count": 21,
   "id": "56f47047",
   "metadata": {
    "execution": {
     "iopub.execute_input": "2023-12-15T23:34:51.603000Z",
     "iopub.status.busy": "2023-12-15T23:34:51.602917Z",
     "iopub.status.idle": "2023-12-15T23:34:51.707020Z",
     "shell.execute_reply": "2023-12-15T23:34:51.706776Z"
    },
    "papermill": {
     "duration": 0.108665,
     "end_time": "2023-12-15T23:34:51.707844",
     "exception": false,
     "start_time": "2023-12-15T23:34:51.599179",
     "status": "completed"
    },
    "tags": []
   },
   "outputs": [
    {
     "data": {
      "text/plain": [
       "<Axes: xlabel='VIP', ylabel='Transported'>"
      ]
     },
     "execution_count": 21,
     "metadata": {},
     "output_type": "execute_result"
    },
    {
     "data": {
      "image/png": "[encoded data removed]",
      "text/plain": [
       "<Figure size 640x480 with 1 Axes>"
      ]
     },
     "metadata": {},
     "output_type": "display_data"
    }
   ],
   "source": [
    "sns.barplot(x='VIP', y='Transported', data=train)"
   ]
  },
  {
   "cell_type": "markdown",
   "id": "cfb7a9b2",
   "metadata": {
    "papermill": {
     "duration": 0.003537,
     "end_time": "2023-12-15T23:34:51.715362",
     "exception": false,
     "start_time": "2023-12-15T23:34:51.711825",
     "status": "completed"
    },
    "tags": []
   },
   "source": [
    "The VIP column does not greatly affect transportation"
   ]
  },
  {
   "cell_type": "markdown",
   "id": "8518029f",
   "metadata": {
    "papermill": {
     "duration": 0.003738,
     "end_time": "2023-12-15T23:34:51.722596",
     "exception": false,
     "start_time": "2023-12-15T23:34:51.718858",
     "status": "completed"
    },
    "tags": []
   },
   "source": [
    "### HomePlanet & CryoSpleep vs. Transported\n"
   ]
  },
  {
   "cell_type": "code",
   "execution_count": 22,
   "id": "96c94725",
   "metadata": {
    "execution": {
     "iopub.execute_input": "2023-12-15T23:34:51.730333Z",
     "iopub.status.busy": "2023-12-15T23:34:51.730233Z",
     "iopub.status.idle": "2023-12-15T23:34:51.803079Z",
     "shell.execute_reply": "2023-12-15T23:34:51.802819Z"
    },
    "papermill": {
     "duration": 0.077567,
     "end_time": "2023-12-15T23:34:51.803908",
     "exception": false,
     "start_time": "2023-12-15T23:34:51.726341",
     "status": "completed"
    },
    "tags": []
   },
   "outputs": [
    {
     "name": "stdout",
     "output_type": "stream",
     "text": [
      "CryoSleep   False  True \n",
      "HomePlanet              \n",
      "Earth        3106   1382\n",
      "Europa       1162    911\n",
      "Mars         1047    669\n"
     ]
    },
    {
     "data": {
      "text/plain": [
       "Text(0, 0.5, 'Percentage')"
      ]
     },
     "execution_count": 22,
     "metadata": {},
     "output_type": "execute_result"
    },
    {
     "data": {
      "image/png": "[encoded data removed]",
      "text/plain": [
       "<Figure size 640x480 with 1 Axes>"
      ]
     },
     "metadata": {},
     "output_type": "display_data"
    }
   ],
   "source": [
    "tab = pd.crosstab(train['HomePlanet'], train['CryoSleep'])\n",
    "print (tab)\n",
    "\n",
    "tab.div(tab.sum(1).astype(float), axis=0).plot(kind=\"bar\", stacked=True)\n",
    "plt.xlabel('HomePlanet')\n",
    "plt.ylabel('Percentage')"
   ]
  },
  {
   "cell_type": "code",
   "execution_count": 23,
   "id": "8d3a0085",
   "metadata": {
    "execution": {
     "iopub.execute_input": "2023-12-15T23:34:51.812154Z",
     "iopub.status.busy": "2023-12-15T23:34:51.812059Z",
     "iopub.status.idle": "2023-12-15T23:34:52.038083Z",
     "shell.execute_reply": "2023-12-15T23:34:52.037839Z"
    },
    "papermill": {
     "duration": 0.230985,
     "end_time": "2023-12-15T23:34:52.038926",
     "exception": false,
     "start_time": "2023-12-15T23:34:51.807941",
     "status": "completed"
    },
    "tags": []
   },
   "outputs": [
    {
     "name": "stderr",
     "output_type": "stream",
     "text": [
      "/Users/ktann/anaconda3/lib/python3.11/site-packages/seaborn/axisgrid.py:118: UserWarning: The figure layout has changed to tight\n",
      "  self._figure.tight_layout(*args, **kwargs)\n"
     ]
    },
    {
     "data": {
      "text/plain": [
       "<seaborn.axisgrid.FacetGrid at 0x13a3db090>"
      ]
     },
     "execution_count": 23,
     "metadata": {},
     "output_type": "execute_result"
    },
    {
     "data": {
      "image/png": "[encoded data removed]",
      "text/plain": [
       "<Figure size 1092.5x500 with 1 Axes>"
      ]
     },
     "metadata": {},
     "output_type": "display_data"
    }
   ],
   "source": [
    "sns.catplot(x='HomePlanet', y='Transported', hue='CryoSleep', aspect=2, data=train, kind='point')"
   ]
  },
  {
   "cell_type": "markdown",
   "id": "7bdf06fb",
   "metadata": {
    "papermill": {
     "duration": 0.00399,
     "end_time": "2023-12-15T23:34:52.047446",
     "exception": false,
     "start_time": "2023-12-15T23:34:52.043456",
     "status": "completed"
    },
    "tags": []
   },
   "source": [
    "- Passengers in cryosleep from Europa have almost 100% chance of transportation\n",
    "- Passengers who are not in cryosleep and from Mars have the lowest probability of transportation"
   ]
  },
  {
   "cell_type": "markdown",
   "id": "aa180d6a",
   "metadata": {
    "papermill": {
     "duration": 0.003957,
     "end_time": "2023-12-15T23:34:52.055439",
     "exception": false,
     "start_time": "2023-12-15T23:34:52.051482",
     "status": "completed"
    },
    "tags": []
   },
   "source": [
    "### Destination vs. Transported\n",
    "Passengers who flew in 55 Cancri e have a great chance of transportation"
   ]
  },
  {
   "cell_type": "code",
   "execution_count": 24,
   "id": "6685dcce",
   "metadata": {
    "execution": {
     "iopub.execute_input": "2023-12-15T23:34:52.063751Z",
     "iopub.status.busy": "2023-12-15T23:34:52.063646Z",
     "iopub.status.idle": "2023-12-15T23:34:52.066353Z",
     "shell.execute_reply": "2023-12-15T23:34:52.066132Z"
    },
    "papermill": {
     "duration": 0.007702,
     "end_time": "2023-12-15T23:34:52.067053",
     "exception": false,
     "start_time": "2023-12-15T23:34:52.059351",
     "status": "completed"
    },
    "tags": []
   },
   "outputs": [
    {
     "data": {
      "text/plain": [
       "Destination\n",
       "TRAPPIST-1e      5915\n",
       "55 Cancri e      1800\n",
       "PSO J318.5-22     796\n",
       "Name: count, dtype: int64"
      ]
     },
     "execution_count": 24,
     "metadata": {},
     "output_type": "execute_result"
    }
   ],
   "source": [
    "train.Destination.value_counts()"
   ]
  },
  {
   "cell_type": "code",
   "execution_count": 25,
   "id": "5a4ff459",
   "metadata": {
    "execution": {
     "iopub.execute_input": "2023-12-15T23:34:52.075545Z",
     "iopub.status.busy": "2023-12-15T23:34:52.075453Z",
     "iopub.status.idle": "2023-12-15T23:34:52.187229Z",
     "shell.execute_reply": "2023-12-15T23:34:52.186851Z"
    },
    "papermill": {
     "duration": 0.117092,
     "end_time": "2023-12-15T23:34:52.188238",
     "exception": false,
     "start_time": "2023-12-15T23:34:52.071146",
     "status": "completed"
    },
    "tags": []
   },
   "outputs": [
    {
     "data": {
      "text/plain": [
       "<Axes: xlabel='Destination', ylabel='Transported'>"
      ]
     },
     "execution_count": 25,
     "metadata": {},
     "output_type": "execute_result"
    },
    {
     "data": {
      "image/png": "[encoded data removed]",
      "text/plain": [
       "<Figure size 640x480 with 1 Axes>"
      ]
     },
     "metadata": {},
     "output_type": "display_data"
    }
   ],
   "source": [
    "sns.barplot(x='Destination', y='Transported', data=train)"
   ]
  },
  {
   "cell_type": "markdown",
   "id": "cd874f74",
   "metadata": {
    "papermill": {
     "duration": 0.004288,
     "end_time": "2023-12-15T23:34:52.197145",
     "exception": false,
     "start_time": "2023-12-15T23:34:52.192857",
     "status": "completed"
    },
    "tags": []
   },
   "source": [
    "### Age vs. Transported"
   ]
  },
  {
   "cell_type": "code",
   "execution_count": 26,
   "id": "35e2f6a5",
   "metadata": {
    "execution": {
     "iopub.execute_input": "2023-12-15T23:34:52.206339Z",
     "iopub.status.busy": "2023-12-15T23:34:52.206201Z",
     "iopub.status.idle": "2023-12-15T23:34:52.669652Z",
     "shell.execute_reply": "2023-12-15T23:34:52.669379Z"
    },
    "papermill": {
     "duration": 0.469166,
     "end_time": "2023-12-15T23:34:52.670494",
     "exception": false,
     "start_time": "2023-12-15T23:34:52.201328",
     "status": "completed"
    },
    "tags": []
   },
   "outputs": [
    {
     "data": {
      "text/plain": [
       "<Axes: xlabel='VIP', ylabel='Age'>"
      ]
     },
     "execution_count": 26,
     "metadata": {},
     "output_type": "execute_result"
    },
    {
     "data": {
      "image/png": "[encoded data removed]",
      "text/plain": [
       "<Figure size 1200x600 with 4 Axes>"
      ]
     },
     "metadata": {},
     "output_type": "display_data"
    }
   ],
   "source": [
    "fig = plt.figure(figsize=(12,6))\n",
    "ax1 = fig.add_subplot(141)\n",
    "ax2 = fig.add_subplot(142)\n",
    "ax3 = fig.add_subplot(143)\n",
    "ax4 = fig.add_subplot(144)\n",
    "\n",
    "\n",
    "sns.violinplot(x=\"HomePlanet\", y=\"Age\", hue=\"Transported\", data=train, split=True, ax=ax1)\n",
    "sns.violinplot(x=\"Destination\", y=\"Age\", hue=\"Transported\", data=train, split=True, ax=ax2)\n",
    "sns.violinplot(x=\"CryoSleep\", y=\"Age\", hue=\"Transported\", data=train, split=True, ax=ax3)\n",
    "sns.violinplot(x=\"VIP\", y=\"Age\", hue=\"Transported\", data=train, split=True, ax=ax4)"
   ]
  },
  {
   "cell_type": "code",
   "execution_count": 27,
   "id": "cd99f636",
   "metadata": {
    "execution": {
     "iopub.execute_input": "2023-12-15T23:34:52.679958Z",
     "iopub.status.busy": "2023-12-15T23:34:52.679866Z",
     "iopub.status.idle": "2023-12-15T23:34:53.075242Z",
     "shell.execute_reply": "2023-12-15T23:34:53.074983Z"
    },
    "papermill": {
     "duration": 0.400943,
     "end_time": "2023-12-15T23:34:53.076071",
     "exception": false,
     "start_time": "2023-12-15T23:34:52.675128",
     "status": "completed"
    },
    "tags": []
   },
   "outputs": [
    {
     "name": "stderr",
     "output_type": "stream",
     "text": [
      "/var/folders/mk/hj8c66xx7p9_nsjthv7t_ftm0000gn/T/ipykernel_38831/3584516129.py:10: UserWarning: \n",
      "\n",
      "`distplot` is a deprecated function and will be removed in seaborn v0.14.0.\n",
      "\n",
      "Please adapt your code to use either `displot` (a figure-level function with\n",
      "similar flexibility) or `histplot` (an axes-level function for histograms).\n",
      "\n",
      "For a guide to updating your code to use the new functions, please see\n",
      "https://gist.github.com/mwaskom/de44147ed2974457ad6372750bbe5751\n",
      "\n",
      "  sns.distplot(total_transported['Age'].dropna().values, bins=range(0, 81, 1), kde=False, color='blue', ax = ax1)\n",
      "/var/folders/mk/hj8c66xx7p9_nsjthv7t_ftm0000gn/T/ipykernel_38831/3584516129.py:11: UserWarning: \n",
      "\n",
      "`distplot` is a deprecated function and will be removed in seaborn v0.14.0.\n",
      "\n",
      "Please adapt your code to use either `displot` (a figure-level function with\n",
      "similar flexibility) or `histplot` (an axes-level function for histograms).\n",
      "\n",
      "For a guide to updating your code to use the new functions, please see\n",
      "https://gist.github.com/mwaskom/de44147ed2974457ad6372750bbe5751\n",
      "\n",
      "  sns.distplot(total_not_transported['Age'].dropna().values, bins=range(0, 81, 1), kde=False, color='red', axlabel='Age', ax = ax1)\n",
      "/var/folders/mk/hj8c66xx7p9_nsjthv7t_ftm0000gn/T/ipykernel_38831/3584516129.py:14: UserWarning: \n",
      "\n",
      "`distplot` is a deprecated function and will be removed in seaborn v0.14.0.\n",
      "\n",
      "Please adapt your code to use either `displot` (a figure-level function with\n",
      "similar flexibility) or `histplot` (an axes-level function for histograms).\n",
      "\n",
      "For a guide to updating your code to use the new functions, please see\n",
      "https://gist.github.com/mwaskom/de44147ed2974457ad6372750bbe5751\n",
      "\n",
      "  sns.distplot(sleep_transported['Age'].dropna().values, bins=range(0, 81, 1), kde=False, color='blue', ax = ax2)\n",
      "/var/folders/mk/hj8c66xx7p9_nsjthv7t_ftm0000gn/T/ipykernel_38831/3584516129.py:15: UserWarning: \n",
      "\n",
      "`distplot` is a deprecated function and will be removed in seaborn v0.14.0.\n",
      "\n",
      "Please adapt your code to use either `displot` (a figure-level function with\n",
      "similar flexibility) or `histplot` (an axes-level function for histograms).\n",
      "\n",
      "For a guide to updating your code to use the new functions, please see\n",
      "https://gist.github.com/mwaskom/de44147ed2974457ad6372750bbe5751\n",
      "\n",
      "  sns.distplot(sleep_not_transported['Age'].dropna().values, bins=range(0, 81, 1), kde=False, color='red', axlabel='Sleep', ax = ax2)\n",
      "/var/folders/mk/hj8c66xx7p9_nsjthv7t_ftm0000gn/T/ipykernel_38831/3584516129.py:18: UserWarning: \n",
      "\n",
      "`distplot` is a deprecated function and will be removed in seaborn v0.14.0.\n",
      "\n",
      "Please adapt your code to use either `displot` (a figure-level function with\n",
      "similar flexibility) or `histplot` (an axes-level function for histograms).\n",
      "\n",
      "For a guide to updating your code to use the new functions, please see\n",
      "https://gist.github.com/mwaskom/de44147ed2974457ad6372750bbe5751\n",
      "\n",
      "  sns.distplot(not_sleep_transported['Age'].dropna().values, bins=range(0, 81, 1), kde=False, color='blue', ax=ax3)\n",
      "/var/folders/mk/hj8c66xx7p9_nsjthv7t_ftm0000gn/T/ipykernel_38831/3584516129.py:19: UserWarning: \n",
      "\n",
      "`distplot` is a deprecated function and will be removed in seaborn v0.14.0.\n",
      "\n",
      "Please adapt your code to use either `displot` (a figure-level function with\n",
      "similar flexibility) or `histplot` (an axes-level function for histograms).\n",
      "\n",
      "For a guide to updating your code to use the new functions, please see\n",
      "https://gist.github.com/mwaskom/de44147ed2974457ad6372750bbe5751\n",
      "\n",
      "  sns.distplot(not_sleep_not_transported['Age'].dropna().values, bins=range(0, 81, 1), kde=False, color='red', axlabel='Not sleep', ax=ax3)\n"
     ]
    },
    {
     "data": {
      "text/plain": [
       "<Axes: xlabel='Not sleep'>"
      ]
     },
     "execution_count": 27,
     "metadata": {},
     "output_type": "execute_result"
    },
    {
     "data": {
      "image/png": "[encoded data removed]",
      "text/plain": [
       "<Figure size 1500x1000 with 3 Axes>"
      ]
     },
     "metadata": {},
     "output_type": "display_data"
    }
   ],
   "source": [
    "total_transported = train[train['Transported']==1]\n",
    "total_not_transported = train[train['Transported']==0]\n",
    "sleep_transported = train[(train['Transported']==1) & (train['CryoSleep']==1)]\n",
    "not_sleep_transported = train[(train['Transported']==1) & (train['CryoSleep']==0)]\n",
    "sleep_not_transported = train[(train['Transported']==0) & (train['CryoSleep']==1)]\n",
    "not_sleep_not_transported = train[(train['Transported']==0) & (train['CryoSleep']==0)]\n",
    "\n",
    "fig = plt.figure(figsize=[15,10])\n",
    "ax1 = fig.add_subplot(211)\n",
    "sns.distplot(total_transported['Age'].dropna().values, bins=range(0, 81, 1), kde=False, color='blue', ax = ax1)\n",
    "sns.distplot(total_not_transported['Age'].dropna().values, bins=range(0, 81, 1), kde=False, color='red', axlabel='Age', ax = ax1)\n",
    "\n",
    "ax2 = fig.add_subplot(223)\n",
    "sns.distplot(sleep_transported['Age'].dropna().values, bins=range(0, 81, 1), kde=False, color='blue', ax = ax2)\n",
    "sns.distplot(sleep_not_transported['Age'].dropna().values, bins=range(0, 81, 1), kde=False, color='red', axlabel='Sleep', ax = ax2)\n",
    "\n",
    "ax3 = fig.add_subplot(224)\n",
    "sns.distplot(not_sleep_transported['Age'].dropna().values, bins=range(0, 81, 1), kde=False, color='blue', ax=ax3)\n",
    "sns.distplot(not_sleep_not_transported['Age'].dropna().values, bins=range(0, 81, 1), kde=False, color='red', axlabel='Not sleep', ax=ax3)"
   ]
  },
  {
   "cell_type": "markdown",
   "id": "eafccff1",
   "metadata": {
    "papermill": {
     "duration": 0.004661,
     "end_time": "2023-12-15T23:34:53.085829",
     "exception": false,
     "start_time": "2023-12-15T23:34:53.081168",
     "status": "completed"
    },
    "tags": []
   },
   "source": [
    "People who slept between the ages of 15 and 30 were transported the most"
   ]
  }
 ],
 "metadata": {
  "kernelspec": {
   "display_name": "Python 3 (ipykernel)",
   "language": "python",
   "name": "python3"
  },
  "language_info": {
   "codemirror_mode": {
    "name": "ipython",
    "version": 3
   },
   "file_extension": ".py",
   "mimetype": "text/x-python",
   "name": "python",
   "nbconvert_exporter": "python",
   "pygments_lexer": "ipython3",
   "version": "3.11.5"
  },
  "papermill": {
   "default_parameters": {},
   "duration": 3.490849,
   "end_time": "2023-12-15T23:34:53.407831",
   "environment_variables": {},
   "exception": null,
   "input_path": "/Users/ktann/Documents/univer/neuralnet/spaceship/SpaceShipTitanic2_FeatureDependencies.ipynb",
   "output_path": "/Users/ktann/Documents/univer/neuralnet/spaceship/SpaceShipTitanic2_FeatureDependencies.ipynb",
   "parameters": {},
   "start_time": "2023-12-15T23:34:49.916982",
   "version": "2.5.0"
  },
  "vscode": {
   "interpreter": {
    "hash": "44a16ee42c888f6e3350a1ea509ea05c5716c44246c7f0d874e8b6693aa4c318"
   }
  }
 },
 "nbformat": 4,
 "nbformat_minor": 5
}