{
 "cells": [
  {
   "cell_type": "markdown",
   "metadata": {},
   "source": [
    "# MLPClassifier"
   ]
  },
  {
   "cell_type": "code",
   "execution_count": 2,
   "metadata": {},
   "outputs": [],
   "source": [
    "import numpy as np\n",
    "import pandas as pd\n",
    "import matplotlib.pyplot as plt\n",
    "%matplotlib inline"
   ]
  },
  {
   "cell_type": "markdown",
   "metadata": {},
   "source": [
    "## Dataset"
   ]
  },
  {
   "cell_type": "code",
   "execution_count": 3,
   "metadata": {},
   "outputs": [
    {
     "data": {
      "text/plain": [
       "(11314, 7532)"
      ]
     },
     "execution_count": 3,
     "metadata": {},
     "output_type": "execute_result"
    }
   ],
   "source": [
    "from sklearn.datasets import fetch_20newsgroups\n",
    "\n",
    "\n",
    "train_data = fetch_20newsgroups(subset='train')\n",
    "val_data = fetch_20newsgroups(subset='test')\n",
    "\n",
    "len(train_data['data']), len(val_data['data'])"
   ]
  },
  {
   "cell_type": "code",
   "execution_count": 4,
   "metadata": {},
   "outputs": [
    {
     "data": {
      "image/png": "[encoded data removed]",
      "text/plain": [
       "<Figure size 640x480 with 1 Axes>"
      ]
     },
     "metadata": {},
     "output_type": "display_data"
    }
   ],
   "source": [
    "plt.hist(train_data['target'], bins=20)\n",
    "None"
   ]
  },
  {
   "cell_type": "markdown",
   "metadata": {},
   "source": [
    "## Text preprocessing"
   ]
  },
  {
   "cell_type": "code",
   "execution_count": 5,
   "metadata": {},
   "outputs": [],
   "source": [
    "! pip install -qq spacy"
   ]
  },
  {
   "cell_type": "code",
   "execution_count": 6,
   "metadata": {},
   "outputs": [
    {
     "name": "stderr",
     "output_type": "stream",
     "text": [
      "[nltk_data] Downloading package words to /Users/ktann/nltk_data...\n",
      "[nltk_data]   Package words is already up-to-date!\n"
     ]
    }
   ],
   "source": [
    "from tqdm import tqdm\n",
    "import re\n",
    "from collections import Counter\n",
    "from spacy.lang.en import stop_words\n",
    "\n",
    "\n",
    "import nltk\n",
    "from nltk.corpus import words\n",
    "nltk.download('words')\n",
    "\n",
    "\n",
    "DICT_WORDS_COUNT = 1000\n",
    "stopwords = stop_words.STOP_WORDS"
   ]
  },
  {
   "cell_type": "code",
   "execution_count": 7,
   "metadata": {},
   "outputs": [
    {
     "data": {
      "text/plain": [
       "236736"
      ]
     },
     "execution_count": 7,
     "metadata": {},
     "output_type": "execute_result"
    }
   ],
   "source": [
    "english_words_corpora = words.words()\n",
    "len(english_words_corpora)"
   ]
  },
  {
   "cell_type": "code",
   "execution_count": 8,
   "metadata": {},
   "outputs": [],
   "source": [
    "from nltk.stem import SnowballStemmer\n",
    "stemmer = SnowballStemmer('english')"
   ]
  },
  {
   "cell_type": "code",
   "execution_count": 9,
   "metadata": {},
   "outputs": [],
   "source": [
    "def clean_text(text):\n",
    "\n",
    "    if 'Lines:' in text:\n",
    "        start = text.index('Lines:') + 5\n",
    "        text = text[start:]\n",
    "\n",
    "    text = text.lower()\n",
    "\n",
    "    text = re.sub(r'[\\w\\d.]+@[\\w\\d]+.[\\w\\d]+', ' ', text)\n",
    "    text = re.sub(r'(http|https)://[\\w\\d/.]+', ' ', text)\n",
    "\n",
    "    text = re.sub(r'[^a-z]', ' ', text)\n",
    "\n",
    "    text = re.sub(r'([^\\w]|[-_])+', ' ', text)\n",
    "    text = re.sub(r'\\d+', ' ', text)\n",
    "    text = re.sub(r'(.)\\1{2,}', r'\\1', text)\n",
    "    text = re.sub(r'\\s+', ' ', text)\n",
    "\n",
    "    text = text.strip()\n",
    "    \n",
    "    # words = [\n",
    "    #     w for w in text.split() \\\n",
    "    #         if len(w) > 3 and \\\n",
    "    #             w not in stopwords and \\\n",
    "    #             w in english_words_corpora\n",
    "    # ]\n",
    "    \n",
    "    words = [\n",
    "        stemmer.stem(w) for w in text.split() \\\n",
    "            if len(w) > 3 and \\\n",
    "                w not in stopwords\n",
    "    ]\n",
    "\n",
    "    \n",
    "\n",
    "    return ' '.join(words)"
   ]
  },
  {
   "cell_type": "code",
   "execution_count": 10,
   "metadata": {},
   "outputs": [
    {
     "name": "stdout",
     "output_type": "stream",
     "text": [
      "From: lerxst@wam.umd.edu (where's my thing)\n",
      "Subject: WHAT car is this!?\n",
      "Nntp-Posting-Host: rac3.wam.umd.edu\n",
      "Organization: University of Maryland, College Park\n",
      "Lines: 15\n",
      "\n",
      " I was wondering if anyone out there could enlighten me on this car I saw\n",
      "the other day. It was a 2-door sports car, looked to be from the late 60s/\n",
      "early 70s. It was called a Bricklin. The doors were really small. In addition,\n",
      "the front bumper was separate from the rest of the body. This is \n",
      "all I know. If anyone can tellme a model name, engine specs, years\n",
      "of production, where this car is made, history, or whatever info you\n",
      "have on this funky looking car, please e-mail.\n",
      "\n",
      "Thanks,\n",
      "- IL\n",
      "   ---- brought to you by your neighborhood Lerxst ----\n",
      "\n",
      "\n",
      "\n",
      "\n",
      "\n",
      "\n",
      "wonder enlighten door sport look late earli call bricklin door small addit bumper separ rest bodi know tellm model engin spec year product histori info funki look mail thank brought neighborhood lerxst\n"
     ]
    }
   ],
   "source": [
    "text = train_data['data'][0]\n",
    "print(text)\n",
    "print()\n",
    "\n",
    "print(clean_text(text))"
   ]
  },
  {
   "cell_type": "code",
   "execution_count": 11,
   "metadata": {},
   "outputs": [],
   "source": [
    "from random import randint, seed\n",
    "import warnings\n",
    "warnings.filterwarnings('ignore')"
   ]
  },
  {
   "cell_type": "code",
   "execution_count": 12,
   "metadata": {},
   "outputs": [],
   "source": [
    "seed(4242)\n",
    "samples1000 = list(filter(lambda it: randint(0, 9) == 0, zip(train_data['data'], train_data['target'])))\n",
    "# samples1000 = list(zip(train_data['data'], train_data['target']))"
   ]
  },
  {
   "cell_type": "code",
   "execution_count": 13,
   "metadata": {},
   "outputs": [
    {
     "data": {
      "image/png": "[encoded data removed]",
      "text/plain": [
       "<Figure size 640x480 with 1 Axes>"
      ]
     },
     "metadata": {},
     "output_type": "display_data"
    }
   ],
   "source": [
    "texts1000, targets1000 = zip(*samples1000)\n",
    "plt.hist(targets1000, bins=20)\n",
    "None"
   ]
  },
  {
   "cell_type": "code",
   "execution_count": 14,
   "metadata": {},
   "outputs": [
    {
     "name": "stderr",
     "output_type": "stream",
     "text": [
      "Train texts:   0%|          | 0/1131 [00:00<?, ?it/s]"
     ]
    },
    {
     "name": "stderr",
     "output_type": "stream",
     "text": [
      "Train texts: 100%|██████████| 1131/1131 [00:00<00:00, 1234.09it/s]\n"
     ]
    }
   ],
   "source": [
    "clean_train_texts = [\n",
    "    clean_text(text) for text, target in tqdm(samples1000, desc='Train texts')\n",
    "]"
   ]
  },
  {
   "cell_type": "markdown",
   "metadata": {},
   "source": [
    "## LSI"
   ]
  },
  {
   "cell_type": "code",
   "execution_count": 15,
   "metadata": {},
   "outputs": [],
   "source": [
    "import numpy as np\n",
    "from sklearn.feature_extraction.text import CountVectorizer\n",
    "from gensim import corpora, models\n",
    "from gensim.utils import simple_preprocess\n",
    "from sklearn.feature_extraction.text import TfidfVectorizer"
   ]
  },
  {
   "cell_type": "code",
   "execution_count": 16,
   "metadata": {},
   "outputs": [],
   "source": [
    "# Preprocess the text data and create a list of tokenized documents\n",
    "tokenized_documents = [simple_preprocess(text) for text in clean_train_texts]\n",
    "\n",
    "# Create a dictionary mapping of words to unique IDs\n",
    "dictionary = corpora.Dictionary(tokenized_documents)\n",
    "\n",
    "# Create a Bag of Words (BoW) representation of the documents\n",
    "bow_corpus = [dictionary.doc2bow(doc) for doc in tokenized_documents]"
   ]
  },
  {
   "cell_type": "code",
   "execution_count": 17,
   "metadata": {},
   "outputs": [],
   "source": [
    "# Create a TF-IDF model\n",
    "tfidf = models.TfidfModel(bow_corpus)\n",
    "corpus_tfidf = tfidf[bow_corpus]"
   ]
  },
  {
   "cell_type": "code",
   "execution_count": 18,
   "metadata": {},
   "outputs": [
    {
     "name": "stdout",
     "output_type": "stream",
     "text": [
      "(0, '0.141*\"window\" + 0.117*\"peopl\" + 0.099*\"think\" + 0.097*\"know\" + 0.097*\"like\" + 0.091*\"system\" + 0.087*\"time\" + 0.087*\"file\" + 0.087*\"post\" + 0.085*\"thank\"')\n",
      "(1, '0.455*\"window\" + 0.212*\"file\" + 0.130*\"card\" + -0.122*\"christian\" + 0.120*\"thank\" + 0.115*\"program\" + 0.104*\"driver\" + -0.101*\"peopl\" + 0.100*\"screen\" + 0.098*\"drive\"')\n",
      "(2, '-0.395*\"window\" + 0.267*\"drive\" + 0.197*\"game\" + -0.171*\"file\" + -0.169*\"moral\" + -0.152*\"christian\" + -0.114*\"jesus\" + 0.106*\"control\" + 0.106*\"card\" + -0.103*\"motif\"')\n",
      "(3, '-0.419*\"game\" + 0.285*\"drive\" + -0.188*\"window\" + -0.171*\"team\" + -0.165*\"hockey\" + -0.128*\"player\" + -0.116*\"season\" + -0.115*\"divis\" + -0.113*\"pick\" + 0.105*\"card\"')\n",
      "(4, '-0.212*\"moral\" + 0.201*\"armenian\" + 0.198*\"govern\" + -0.197*\"game\" + -0.192*\"christian\" + -0.172*\"jesus\" + -0.153*\"drive\" + 0.149*\"turkish\" + 0.112*\"secur\" + -0.099*\"believ\"')\n",
      "(5, '0.351*\"moral\" + -0.262*\"drive\" + -0.231*\"armenian\" + -0.172*\"turkish\" + -0.172*\"window\" + -0.105*\"armenia\" + 0.096*\"system\" + 0.096*\"instinct\" + -0.088*\"port\" + -0.088*\"turk\"')\n",
      "(6, '-0.519*\"moral\" + -0.206*\"drive\" + 0.160*\"christian\" + -0.147*\"driver\" + -0.139*\"instinct\" + 0.135*\"jesus\" + -0.132*\"armenian\" + -0.121*\"immor\" + 0.101*\"believ\" + -0.093*\"keith\"')\n",
      "(7, '0.603*\"file\" + 0.221*\"drive\" + -0.167*\"screen\" + -0.151*\"port\" + -0.132*\"window\" + -0.125*\"color\" + -0.119*\"driver\" + 0.107*\"cview\" + -0.106*\"monitor\" + 0.102*\"logo\"')\n",
      "(8, '0.302*\"armenian\" + 0.221*\"thank\" + 0.209*\"turkish\" + -0.170*\"window\" + 0.133*\"armenia\" + -0.124*\"drive\" + 0.118*\"moral\" + -0.116*\"drug\" + 0.110*\"turk\" + 0.107*\"simm\"')\n",
      "(9, '-0.332*\"screen\" + 0.280*\"port\" + -0.265*\"color\" + -0.232*\"monitor\" + 0.130*\"modem\" + 0.119*\"phone\" + -0.116*\"arab\" + -0.112*\"video\" + 0.105*\"serial\" + -0.104*\"imag\"')\n",
      "(10, '-0.222*\"drive\" + 0.211*\"driver\" + 0.197*\"file\" + 0.195*\"card\" + 0.192*\"port\" + -0.167*\"space\" + -0.147*\"motif\" + 0.129*\"modem\" + -0.119*\"xsizehint\" + 0.106*\"mous\"')\n",
      "(11, '0.316*\"arab\" + 0.281*\"israel\" + 0.261*\"isra\" + 0.226*\"thank\" + -0.199*\"armenian\" + -0.151*\"turkish\" + 0.136*\"palestinian\" + 0.118*\"attack\" + 0.108*\"jew\" + -0.102*\"driver\"')\n",
      "(12, '-0.204*\"driver\" + -0.190*\"port\" + -0.182*\"space\" + -0.159*\"command\" + 0.157*\"drive\" + -0.152*\"shuttl\" + -0.147*\"modem\" + 0.137*\"screen\" + 0.131*\"thank\" + -0.130*\"nasa\"')\n",
      "(13, '-0.183*\"thank\" + 0.132*\"screen\" + 0.121*\"drive\" + 0.105*\"color\" + 0.104*\"christian\" + 0.100*\"system\" + -0.100*\"batf\" + 0.098*\"secur\" + -0.097*\"fire\" + 0.096*\"element\"')\n",
      "(14, '-0.653*\"simm\" + 0.216*\"font\" + -0.148*\"slot\" + -0.114*\"mous\" + -0.098*\"vram\" + -0.084*\"current\" + -0.082*\"pin\" + 0.077*\"mail\" + -0.074*\"hade\" + 0.073*\"printer\"')\n",
      "(15, '-0.213*\"homosexu\" + -0.204*\"font\" + 0.127*\"game\" + 0.114*\"jesus\" + 0.114*\"batf\" + 0.110*\"repli\" + -0.104*\"yeast\" + 0.102*\"host\" + 0.101*\"fire\" + 0.101*\"nntp\"')\n",
      "(16, '0.323*\"driver\" + -0.251*\"font\" + -0.214*\"port\" + 0.195*\"card\" + -0.154*\"printer\" + -0.123*\"print\" + -0.109*\"modem\" + 0.103*\"mail\" + -0.101*\"screen\" + 0.093*\"canadian\"')\n",
      "(17, '-0.438*\"font\" + -0.245*\"simm\" + -0.154*\"modem\" + 0.146*\"motif\" + 0.134*\"color\" + -0.130*\"printer\" + -0.114*\"homosexu\" + 0.107*\"port\" + 0.106*\"yeast\" + -0.100*\"print\"')\n",
      "(18, '-0.239*\"homosexu\" + -0.120*\"port\" + -0.118*\"control\" + -0.101*\"gun\" + 0.098*\"driver\" + -0.098*\"canadian\" + -0.098*\"american\" + -0.097*\"imag\" + 0.092*\"font\" + 0.087*\"speed\"')\n",
      "(19, '0.273*\"homosexu\" + -0.214*\"font\" + -0.117*\"thank\" + -0.107*\"yeast\" + -0.100*\"exist\" + 0.095*\"partner\" + 0.094*\"price\" + 0.091*\"sale\" + 0.081*\"promiscu\" + 0.081*\"modem\"')\n",
      "Document 0:\n",
      "Topic Vector: [(0, 0.21351882165794372), (1, 0.04908511047875734), (2, 0.05411851222868663), (3, 0.0013190901520155514), (4, -0.038331315428311155), (5, 0.011443333541615251), (6, 0.05128427440156229), (7, 0.006085363835139422), (8, -0.0065182567259878775), (9, -0.015800024404746208), (10, -0.003908360657731229), (11, 0.014018953455787396), (12, -0.01461920945732281), (13, -0.005602100042876052), (14, -0.020301107419387083), (15, -0.017283873141567197), (16, -0.01849944271394042), (17, 0.06747820771195077), (18, 0.06135754784672553), (19, 0.03173450112373713)]\n",
      "Doc vec len: 20\n",
      "\n",
      "Document 1:\n",
      "Topic Vector: [(0, 0.21220238808127648), (1, -0.12929544292448591), (2, -0.1996746838533321), (3, 0.09053111644015084), (4, -0.19632741213559987), (5, 0.20652834343901097), (6, -0.2964237061678072), (7, -0.02482428913711044), (8, 0.0619679308878401), (9, 0.019682588595304033), (10, -0.004112298134143601), (11, -0.003752877069419005), (12, 0.004087807164074595), (13, 0.05214819452843892), (14, -0.004408775896318642), (15, 0.08291677327182967), (16, -0.01999980498310231), (17, -0.04931638837367958), (18, -0.01969165881748651), (19, 0.03809158721268672)]\n",
      "Doc vec len: 20\n",
      "\n",
      "Document 2:\n",
      "Topic Vector: [(0, 0.1004539363842346), (1, 0.034990538999235425), (2, 0.038800205291757685), (3, 0.021921357953204473), (4, 0.004488228382194059), (5, 0.026408149462279144), (6, 0.024598297378743993), (7, -0.03225420729772338), (8, 0.01179754213620186), (9, 0.02315205147880452), (10, -0.008577075951274505), (11, -0.0038612931926053033), (12, -0.0043609110129664555), (13, 0.003696177137635358), (14, 0.0035888858770687718), (15, -0.0450669138044014), (16, 0.04157150931435043), (17, -0.014018496825571195), (18, 0.04061039725683612), (19, 0.026669567272788384)]\n",
      "Doc vec len: 20\n",
      "\n",
      "Document 3:\n",
      "Topic Vector: [(0, 0.12048153777815455), (1, 0.008390045979618304), (2, 0.056695524538773745), (3, 0.01796334744342729), (4, 0.023821406707284182), (5, 0.0121277087125324), (6, 0.012940206248307265), (7, -0.013840422865106079), (8, -0.014715360183221901), (9, 0.014494089136782991), (10, 0.014149294986195321), (11, -0.030290423478612934), (12, 0.00044730332148705114), (13, -0.015409261137518367), (14, 0.017837039383052297), (15, -0.010844385636534403), (16, -0.02580997328956512), (17, 0.013100404335358536), (18, 0.054031158253487206), (19, 0.048574612535571195)]\n",
      "Doc vec len: 20\n",
      "\n",
      "Document 4:\n",
      "Topic Vector: [(0, 0.1256653496095287), (1, -0.10206839613198136), (2, -0.027775382792157244), (3, 0.013751133102103434), (4, 0.10992638018584153), (5, -0.12497728519943609), (6, -0.05699542575186514), (7, 0.018262574039731954), (8, -0.013237205544701116), (9, -0.1280593249259824), (10, 0.01848312509867745), (11, 0.3041199860782413), (12, -0.11085584732995978), (13, 0.06193292297780448), (14, -0.034270942058253956), (15, -0.013175757331960025), (16, -0.04801408674466165), (17, -0.03928517354021511), (18, 0.11825967417965844), (19, 0.05508224808928118)]\n",
      "Doc vec len: 20\n",
      "\n"
     ]
    }
   ],
   "source": [
    "# Train the LSI model (Latent Semantic Indexing)\n",
    "lsi_model = models.LsiModel(corpus_tfidf, id2word=dictionary, num_topics=20)\n",
    "\n",
    "# Print the top topics and their top words\n",
    "lsi_topics = lsi_model.print_topics(num_topics=20, num_words=10)\n",
    "for topic in lsi_topics:\n",
    "    print(topic)\n",
    "\n",
    "# Get the document vectors\n",
    "document_topic_vectors = []\n",
    "for doc_bow in corpus_tfidf:\n",
    "    document_topic_vector = lsi_model[doc_bow]\n",
    "    document_topic_vectors.append(document_topic_vector)\n",
    "\n",
    "# Get topic vectors for multiple documents\n",
    "for i, doc_idx in enumerate([0, 1, 2, 3, 4], start=1):\n",
    "    doc_bow = corpus_tfidf[doc_idx]\n",
    "    document_topic_vector = lsi_model[doc_bow]\n",
    "    print(f\"Document {doc_idx}:\")\n",
    "    print(f\"Topic Vector: {document_topic_vector}\") \n",
    "    print(f'Doc vec len: {len(document_topic_vector)}')\n",
    "    print()"
   ]
  },
  {
   "cell_type": "code",
   "execution_count": 19,
   "metadata": {},
   "outputs": [
    {
     "data": {
      "text/html": [
       "<div>\n",
       "<style scoped>\n",
       "    .dataframe tbody tr th:only-of-type {\n",
       "        vertical-align: middle;\n",
       "    }\n",
       "\n",
       "    .dataframe tbody tr th {\n",
       "        vertical-align: top;\n",
       "    }\n",
       "\n",
       "    .dataframe thead th {\n",
       "        text-align: right;\n",
       "    }\n",
       "</style>\n",
       "<table border=\"1\" class=\"dataframe\">\n",
       "  <thead>\n",
       "    <tr style=\"text-align: right;\">\n",
       "      <th></th>\n",
       "      <th>target</th>\n",
       "    </tr>\n",
       "  </thead>\n",
       "  <tbody>\n",
       "    <tr>\n",
       "      <th>0</th>\n",
       "      <td>4</td>\n",
       "    </tr>\n",
       "    <tr>\n",
       "      <th>1</th>\n",
       "      <td>19</td>\n",
       "    </tr>\n",
       "    <tr>\n",
       "      <th>2</th>\n",
       "      <td>12</td>\n",
       "    </tr>\n",
       "    <tr>\n",
       "      <th>3</th>\n",
       "      <td>6</td>\n",
       "    </tr>\n",
       "    <tr>\n",
       "      <th>4</th>\n",
       "      <td>17</td>\n",
       "    </tr>\n",
       "    <tr>\n",
       "      <th>...</th>\n",
       "      <td>...</td>\n",
       "    </tr>\n",
       "    <tr>\n",
       "      <th>1126</th>\n",
       "      <td>15</td>\n",
       "    </tr>\n",
       "    <tr>\n",
       "      <th>1127</th>\n",
       "      <td>8</td>\n",
       "    </tr>\n",
       "    <tr>\n",
       "      <th>1128</th>\n",
       "      <td>2</td>\n",
       "    </tr>\n",
       "    <tr>\n",
       "      <th>1129</th>\n",
       "      <td>5</td>\n",
       "    </tr>\n",
       "    <tr>\n",
       "      <th>1130</th>\n",
       "      <td>5</td>\n",
       "    </tr>\n",
       "  </tbody>\n",
       "</table>\n",
       "<p>1131 rows × 1 columns</p>\n",
       "</div>"
      ],
      "text/plain": [
       "      target\n",
       "0          4\n",
       "1         19\n",
       "2         12\n",
       "3          6\n",
       "4         17\n",
       "...      ...\n",
       "1126      15\n",
       "1127       8\n",
       "1128       2\n",
       "1129       5\n",
       "1130       5\n",
       "\n",
       "[1131 rows x 1 columns]"
      ]
     },
     "execution_count": 19,
     "metadata": {},
     "output_type": "execute_result"
    }
   ],
   "source": [
    "df = pd.DataFrame(targets1000, columns=['target'])\n",
    "df"
   ]
  },
  {
   "cell_type": "code",
   "execution_count": 20,
   "metadata": {},
   "outputs": [
    {
     "name": "stderr",
     "output_type": "stream",
     "text": [
      "100%|██████████| 1131/1131 [00:00<00:00, 10227.89it/s]\n"
     ]
    }
   ],
   "source": [
    "docs_vectors = []\n",
    "\n",
    "for doc_idx in tqdm(range(len(df))):\n",
    "    doc_bow = corpus_tfidf[doc_idx]\n",
    "    document_topic_vector = lsi_model[doc_bow]\n",
    "\n",
    "    if document_topic_vector:\n",
    "        _, vec = zip(*document_topic_vector)\n",
    "    else:\n",
    "        vec = [None] * 20\n",
    "\n",
    "    docs_vectors.append(vec)"
   ]
  },
  {
   "cell_type": "code",
   "execution_count": 21,
   "metadata": {},
   "outputs": [
    {
     "data": {
      "text/plain": [
       "1131"
      ]
     },
     "execution_count": 21,
     "metadata": {},
     "output_type": "execute_result"
    }
   ],
   "source": [
    "len(docs_vectors)"
   ]
  },
  {
   "cell_type": "code",
   "execution_count": 22,
   "metadata": {},
   "outputs": [],
   "source": [
    "df[[f'vec{i}' for i in range(20)]] = docs_vectors"
   ]
  },
  {
   "cell_type": "code",
   "execution_count": 23,
   "metadata": {},
   "outputs": [
    {
     "data": {
      "text/html": [
       "<div>\n",
       "<style scoped>\n",
       "    .dataframe tbody tr th:only-of-type {\n",
       "        vertical-align: middle;\n",
       "    }\n",
       "\n",
       "    .dataframe tbody tr th {\n",
       "        vertical-align: top;\n",
       "    }\n",
       "\n",
       "    .dataframe thead th {\n",
       "        text-align: right;\n",
       "    }\n",
       "</style>\n",
       "<table border=\"1\" class=\"dataframe\">\n",
       "  <thead>\n",
       "    <tr style=\"text-align: right;\">\n",
       "      <th></th>\n",
       "      <th>target</th>\n",
       "      <th>vec0</th>\n",
       "      <th>vec1</th>\n",
       "      <th>vec2</th>\n",
       "      <th>vec3</th>\n",
       "      <th>vec4</th>\n",
       "      <th>vec5</th>\n",
       "      <th>vec6</th>\n",
       "      <th>vec7</th>\n",
       "      <th>vec8</th>\n",
       "      <th>...</th>\n",
       "      <th>vec10</th>\n",
       "      <th>vec11</th>\n",
       "      <th>vec12</th>\n",
       "      <th>vec13</th>\n",
       "      <th>vec14</th>\n",
       "      <th>vec15</th>\n",
       "      <th>vec16</th>\n",
       "      <th>vec17</th>\n",
       "      <th>vec18</th>\n",
       "      <th>vec19</th>\n",
       "    </tr>\n",
       "  </thead>\n",
       "  <tbody>\n",
       "    <tr>\n",
       "      <th>0</th>\n",
       "      <td>4</td>\n",
       "      <td>0.213519</td>\n",
       "      <td>0.049085</td>\n",
       "      <td>0.054119</td>\n",
       "      <td>0.001319</td>\n",
       "      <td>-0.038331</td>\n",
       "      <td>0.011443</td>\n",
       "      <td>0.051284</td>\n",
       "      <td>0.006085</td>\n",
       "      <td>-0.006518</td>\n",
       "      <td>...</td>\n",
       "      <td>-0.003908</td>\n",
       "      <td>0.014019</td>\n",
       "      <td>-0.014619</td>\n",
       "      <td>-0.005602</td>\n",
       "      <td>-0.020301</td>\n",
       "      <td>-0.017284</td>\n",
       "      <td>-0.018499</td>\n",
       "      <td>0.067478</td>\n",
       "      <td>0.061358</td>\n",
       "      <td>0.031735</td>\n",
       "    </tr>\n",
       "    <tr>\n",
       "      <th>1</th>\n",
       "      <td>19</td>\n",
       "      <td>0.212202</td>\n",
       "      <td>-0.129295</td>\n",
       "      <td>-0.199675</td>\n",
       "      <td>0.090531</td>\n",
       "      <td>-0.196327</td>\n",
       "      <td>0.206528</td>\n",
       "      <td>-0.296424</td>\n",
       "      <td>-0.024824</td>\n",
       "      <td>0.061968</td>\n",
       "      <td>...</td>\n",
       "      <td>-0.004112</td>\n",
       "      <td>-0.003753</td>\n",
       "      <td>0.004088</td>\n",
       "      <td>0.052148</td>\n",
       "      <td>-0.004409</td>\n",
       "      <td>0.082917</td>\n",
       "      <td>-0.020000</td>\n",
       "      <td>-0.049316</td>\n",
       "      <td>-0.019692</td>\n",
       "      <td>0.038092</td>\n",
       "    </tr>\n",
       "    <tr>\n",
       "      <th>2</th>\n",
       "      <td>12</td>\n",
       "      <td>0.100454</td>\n",
       "      <td>0.034991</td>\n",
       "      <td>0.038800</td>\n",
       "      <td>0.021921</td>\n",
       "      <td>0.004488</td>\n",
       "      <td>0.026408</td>\n",
       "      <td>0.024598</td>\n",
       "      <td>-0.032254</td>\n",
       "      <td>0.011798</td>\n",
       "      <td>...</td>\n",
       "      <td>-0.008577</td>\n",
       "      <td>-0.003861</td>\n",
       "      <td>-0.004361</td>\n",
       "      <td>0.003696</td>\n",
       "      <td>0.003589</td>\n",
       "      <td>-0.045067</td>\n",
       "      <td>0.041572</td>\n",
       "      <td>-0.014018</td>\n",
       "      <td>0.040610</td>\n",
       "      <td>0.026670</td>\n",
       "    </tr>\n",
       "    <tr>\n",
       "      <th>3</th>\n",
       "      <td>6</td>\n",
       "      <td>0.120482</td>\n",
       "      <td>0.008390</td>\n",
       "      <td>0.056696</td>\n",
       "      <td>0.017963</td>\n",
       "      <td>0.023821</td>\n",
       "      <td>0.012128</td>\n",
       "      <td>0.012940</td>\n",
       "      <td>-0.013840</td>\n",
       "      <td>-0.014715</td>\n",
       "      <td>...</td>\n",
       "      <td>0.014149</td>\n",
       "      <td>-0.030290</td>\n",
       "      <td>0.000447</td>\n",
       "      <td>-0.015409</td>\n",
       "      <td>0.017837</td>\n",
       "      <td>-0.010844</td>\n",
       "      <td>-0.025810</td>\n",
       "      <td>0.013100</td>\n",
       "      <td>0.054031</td>\n",
       "      <td>0.048575</td>\n",
       "    </tr>\n",
       "    <tr>\n",
       "      <th>4</th>\n",
       "      <td>17</td>\n",
       "      <td>0.125665</td>\n",
       "      <td>-0.102068</td>\n",
       "      <td>-0.027775</td>\n",
       "      <td>0.013751</td>\n",
       "      <td>0.109926</td>\n",
       "      <td>-0.124977</td>\n",
       "      <td>-0.056995</td>\n",
       "      <td>0.018263</td>\n",
       "      <td>-0.013237</td>\n",
       "      <td>...</td>\n",
       "      <td>0.018483</td>\n",
       "      <td>0.304120</td>\n",
       "      <td>-0.110856</td>\n",
       "      <td>0.061933</td>\n",
       "      <td>-0.034271</td>\n",
       "      <td>-0.013176</td>\n",
       "      <td>-0.048014</td>\n",
       "      <td>-0.039285</td>\n",
       "      <td>0.118260</td>\n",
       "      <td>0.055082</td>\n",
       "    </tr>\n",
       "    <tr>\n",
       "      <th>...</th>\n",
       "      <td>...</td>\n",
       "      <td>...</td>\n",
       "      <td>...</td>\n",
       "      <td>...</td>\n",
       "      <td>...</td>\n",
       "      <td>...</td>\n",
       "      <td>...</td>\n",
       "      <td>...</td>\n",
       "      <td>...</td>\n",
       "      <td>...</td>\n",
       "      <td>...</td>\n",
       "      <td>...</td>\n",
       "      <td>...</td>\n",
       "      <td>...</td>\n",
       "      <td>...</td>\n",
       "      <td>...</td>\n",
       "      <td>...</td>\n",
       "      <td>...</td>\n",
       "      <td>...</td>\n",
       "      <td>...</td>\n",
       "      <td>...</td>\n",
       "    </tr>\n",
       "    <tr>\n",
       "      <th>1126</th>\n",
       "      <td>15</td>\n",
       "      <td>0.123509</td>\n",
       "      <td>-0.075571</td>\n",
       "      <td>-0.033582</td>\n",
       "      <td>0.010767</td>\n",
       "      <td>-0.034287</td>\n",
       "      <td>-0.031489</td>\n",
       "      <td>0.044561</td>\n",
       "      <td>-0.000516</td>\n",
       "      <td>-0.011507</td>\n",
       "      <td>...</td>\n",
       "      <td>-0.010570</td>\n",
       "      <td>-0.011698</td>\n",
       "      <td>-0.020955</td>\n",
       "      <td>0.047598</td>\n",
       "      <td>0.002057</td>\n",
       "      <td>0.010449</td>\n",
       "      <td>0.020041</td>\n",
       "      <td>-0.030495</td>\n",
       "      <td>0.020575</td>\n",
       "      <td>0.039639</td>\n",
       "    </tr>\n",
       "    <tr>\n",
       "      <th>1127</th>\n",
       "      <td>8</td>\n",
       "      <td>0.145778</td>\n",
       "      <td>-0.018561</td>\n",
       "      <td>0.028864</td>\n",
       "      <td>0.006147</td>\n",
       "      <td>0.002931</td>\n",
       "      <td>0.007123</td>\n",
       "      <td>0.050346</td>\n",
       "      <td>-0.027783</td>\n",
       "      <td>-0.036811</td>\n",
       "      <td>...</td>\n",
       "      <td>-0.016736</td>\n",
       "      <td>-0.042393</td>\n",
       "      <td>-0.039147</td>\n",
       "      <td>-0.023241</td>\n",
       "      <td>-0.010734</td>\n",
       "      <td>-0.018000</td>\n",
       "      <td>-0.038081</td>\n",
       "      <td>-0.017974</td>\n",
       "      <td>0.084129</td>\n",
       "      <td>0.033992</td>\n",
       "    </tr>\n",
       "    <tr>\n",
       "      <th>1128</th>\n",
       "      <td>2</td>\n",
       "      <td>0.094354</td>\n",
       "      <td>0.027313</td>\n",
       "      <td>0.024316</td>\n",
       "      <td>-0.004189</td>\n",
       "      <td>0.030735</td>\n",
       "      <td>0.044133</td>\n",
       "      <td>0.069834</td>\n",
       "      <td>-0.005385</td>\n",
       "      <td>0.082311</td>\n",
       "      <td>...</td>\n",
       "      <td>-0.004090</td>\n",
       "      <td>0.031712</td>\n",
       "      <td>0.017471</td>\n",
       "      <td>0.041308</td>\n",
       "      <td>0.058265</td>\n",
       "      <td>-0.032695</td>\n",
       "      <td>0.049186</td>\n",
       "      <td>0.010443</td>\n",
       "      <td>0.002450</td>\n",
       "      <td>0.048088</td>\n",
       "    </tr>\n",
       "    <tr>\n",
       "      <th>1129</th>\n",
       "      <td>5</td>\n",
       "      <td>0.096025</td>\n",
       "      <td>0.035761</td>\n",
       "      <td>-0.019440</td>\n",
       "      <td>0.000505</td>\n",
       "      <td>-0.011201</td>\n",
       "      <td>0.027691</td>\n",
       "      <td>0.007597</td>\n",
       "      <td>0.029282</td>\n",
       "      <td>0.023071</td>\n",
       "      <td>...</td>\n",
       "      <td>-0.005103</td>\n",
       "      <td>0.008536</td>\n",
       "      <td>0.011845</td>\n",
       "      <td>-0.015890</td>\n",
       "      <td>0.024795</td>\n",
       "      <td>0.002445</td>\n",
       "      <td>0.001371</td>\n",
       "      <td>0.001063</td>\n",
       "      <td>0.020222</td>\n",
       "      <td>-0.011028</td>\n",
       "    </tr>\n",
       "    <tr>\n",
       "      <th>1130</th>\n",
       "      <td>5</td>\n",
       "      <td>0.125185</td>\n",
       "      <td>0.060345</td>\n",
       "      <td>0.026067</td>\n",
       "      <td>0.011023</td>\n",
       "      <td>-0.015147</td>\n",
       "      <td>0.046932</td>\n",
       "      <td>0.030389</td>\n",
       "      <td>0.015249</td>\n",
       "      <td>0.138351</td>\n",
       "      <td>...</td>\n",
       "      <td>-0.032239</td>\n",
       "      <td>0.079208</td>\n",
       "      <td>0.030533</td>\n",
       "      <td>-0.091525</td>\n",
       "      <td>0.014215</td>\n",
       "      <td>0.030169</td>\n",
       "      <td>0.064961</td>\n",
       "      <td>-0.032086</td>\n",
       "      <td>-0.032548</td>\n",
       "      <td>-0.007135</td>\n",
       "    </tr>\n",
       "  </tbody>\n",
       "</table>\n",
       "<p>1131 rows × 21 columns</p>\n",
       "</div>"
      ],
      "text/plain": [
       "      target      vec0      vec1      vec2      vec3      vec4      vec5  \\\n",
       "0          4  0.213519  0.049085  0.054119  0.001319 -0.038331  0.011443   \n",
       "1         19  0.212202 -0.129295 -0.199675  0.090531 -0.196327  0.206528   \n",
       "2         12  0.100454  0.034991  0.038800  0.021921  0.004488  0.026408   \n",
       "3          6  0.120482  0.008390  0.056696  0.017963  0.023821  0.012128   \n",
       "4         17  0.125665 -0.102068 -0.027775  0.013751  0.109926 -0.124977   \n",
       "...      ...       ...       ...       ...       ...       ...       ...   \n",
       "1126      15  0.123509 -0.075571 -0.033582  0.010767 -0.034287 -0.031489   \n",
       "1127       8  0.145778 -0.018561  0.028864  0.006147  0.002931  0.007123   \n",
       "1128       2  0.094354  0.027313  0.024316 -0.004189  0.030735  0.044133   \n",
       "1129       5  0.096025  0.035761 -0.019440  0.000505 -0.011201  0.027691   \n",
       "1130       5  0.125185  0.060345  0.026067  0.011023 -0.015147  0.046932   \n",
       "\n",
       "          vec6      vec7      vec8  ...     vec10     vec11     vec12  \\\n",
       "0     0.051284  0.006085 -0.006518  ... -0.003908  0.014019 -0.014619   \n",
       "1    -0.296424 -0.024824  0.061968  ... -0.004112 -0.003753  0.004088   \n",
       "2     0.024598 -0.032254  0.011798  ... -0.008577 -0.003861 -0.004361   \n",
       "3     0.012940 -0.013840 -0.014715  ...  0.014149 -0.030290  0.000447   \n",
       "4    -0.056995  0.018263 -0.013237  ...  0.018483  0.304120 -0.110856   \n",
       "...        ...       ...       ...  ...       ...       ...       ...   \n",
       "1126  0.044561 -0.000516 -0.011507  ... -0.010570 -0.011698 -0.020955   \n",
       "1127  0.050346 -0.027783 -0.036811  ... -0.016736 -0.042393 -0.039147   \n",
       "1128  0.069834 -0.005385  0.082311  ... -0.004090  0.031712  0.017471   \n",
       "1129  0.007597  0.029282  0.023071  ... -0.005103  0.008536  0.011845   \n",
       "1130  0.030389  0.015249  0.138351  ... -0.032239  0.079208  0.030533   \n",
       "\n",
       "         vec13     vec14     vec15     vec16     vec17     vec18     vec19  \n",
       "0    -0.005602 -0.020301 -0.017284 -0.018499  0.067478  0.061358  0.031735  \n",
       "1     0.052148 -0.004409  0.082917 -0.020000 -0.049316 -0.019692  0.038092  \n",
       "2     0.003696  0.003589 -0.045067  0.041572 -0.014018  0.040610  0.026670  \n",
       "3    -0.015409  0.017837 -0.010844 -0.025810  0.013100  0.054031  0.048575  \n",
       "4     0.061933 -0.034271 -0.013176 -0.048014 -0.039285  0.118260  0.055082  \n",
       "...        ...       ...       ...       ...       ...       ...       ...  \n",
       "1126  0.047598  0.002057  0.010449  0.020041 -0.030495  0.020575  0.039639  \n",
       "1127 -0.023241 -0.010734 -0.018000 -0.038081 -0.017974  0.084129  0.033992  \n",
       "1128  0.041308  0.058265 -0.032695  0.049186  0.010443  0.002450  0.048088  \n",
       "1129 -0.015890  0.024795  0.002445  0.001371  0.001063  0.020222 -0.011028  \n",
       "1130 -0.091525  0.014215  0.030169  0.064961 -0.032086 -0.032548 -0.007135  \n",
       "\n",
       "[1131 rows x 21 columns]"
      ]
     },
     "execution_count": 23,
     "metadata": {},
     "output_type": "execute_result"
    }
   ],
   "source": [
    "df"
   ]
  },
  {
   "cell_type": "markdown",
   "metadata": {},
   "source": [
    "## Training"
   ]
  },
  {
   "cell_type": "code",
   "execution_count": 24,
   "metadata": {},
   "outputs": [],
   "source": [
    "from sklearn.tree import DecisionTreeClassifier\n",
    "from sklearn.model_selection import train_test_split\n",
    "from sklearn.metrics import f1_score, accuracy_score"
   ]
  },
  {
   "cell_type": "code",
   "execution_count": 29,
   "metadata": {},
   "outputs": [
    {
     "name": "stdout",
     "output_type": "stream",
     "text": [
      "max_depth=   5    =>    acc=0.3425, macro-f1=0.2845\n",
      "\n",
      "max_depth=   6    =>    acc=0.4030, macro-f1=0.3625\n",
      "\n",
      "max_depth=   7    =>    acc=0.4600, macro-f1=0.4461\n",
      "\n",
      "max_depth=   8    =>    acc=0.5077, macro-f1=0.5077\n",
      "\n",
      "max_depth=   9    =>    acc=0.5378, macro-f1=0.5440\n",
      "\n",
      "max_depth=  10    =>    acc=0.5572, macro-f1=0.5586\n",
      "\n",
      "max_depth=  11    =>    acc=0.5616, macro-f1=0.5510\n",
      "\n",
      "max_depth=  12    =>    acc=0.5727, macro-f1=0.5641\n",
      "\n"
     ]
    }
   ],
   "source": [
    "for md in np.linspace(5, 12, 8):\n",
    "\n",
    "    md = int(md)\n",
    "\n",
    "    X_train, X_val, y_train, y_val = train_test_split(\n",
    "        df.drop('target', axis=1),\n",
    "        df['target'],\n",
    "        test_size=0.2,\n",
    "        shuffle=True,\n",
    "        random_state=42,\n",
    "    )\n",
    "                \n",
    "    clf = DecisionTreeClassifier(\n",
    "        max_depth=md,\n",
    "        random_state=42,\n",
    "    )\n",
    "    clf.fit(X_train, y_train)\n",
    "\n",
    "    y_pred = clf.predict(X_val)\n",
    "    acc = accuracy_score(y_val, y_pred)\n",
    "    f1 = f1_score(y_val, y_pred, average='macro')\n",
    "\n",
    "    print(f'max_depth={md:4d}    =>    acc={acc:.4f}, macro-f1={f1:.4f}')\n",
    "    print()"
   ]
  },
  {
   "cell_type": "code",
   "execution_count": 30,
   "metadata": {},
   "outputs": [],
   "source": [
    "! pip install -qq catboost"
   ]
  },
  {
   "cell_type": "markdown",
   "metadata": {},
   "source": [
    "## GB"
   ]
  },
  {
   "cell_type": "code",
   "execution_count": 31,
   "metadata": {},
   "outputs": [],
   "source": [
    "from catboost import CatBoostClassifier"
   ]
  },
  {
   "cell_type": "code",
   "execution_count": 32,
   "metadata": {},
   "outputs": [
    {
     "name": "stdout",
     "output_type": "stream",
     "text": [
      "Learning rate set to 0.079515\n",
      "0:\tlearn: 2.7365640\ttest: 2.7405589\tbest: 2.7405589 (0)\ttotal: 92.6ms\tremaining: 3m 51s\n",
      "200:\tlearn: 0.7026193\ttest: 0.9129680\tbest: 0.9129680 (200)\ttotal: 4.21s\tremaining: 48.2s\n",
      "400:\tlearn: 0.5237178\ttest: 0.8684667\tbest: 0.8684314 (399)\ttotal: 8.13s\tremaining: 42.6s\n",
      "600:\tlearn: 0.4134982\ttest: 0.8524040\tbest: 0.8524040 (600)\ttotal: 12.1s\tremaining: 38.4s\n",
      "800:\tlearn: 0.3359766\ttest: 0.8448679\tbest: 0.8447868 (795)\ttotal: 16.1s\tremaining: 34.2s\n",
      "1000:\tlearn: 0.2822853\ttest: 0.8418315\tbest: 0.8414281 (984)\ttotal: 20.1s\tremaining: 30.2s\n",
      "1200:\tlearn: 0.2397010\ttest: 0.8400474\tbest: 0.8397667 (1160)\ttotal: 24.8s\tremaining: 26.8s\n",
      "Stopped by overfitting detector  (100 iterations wait)\n",
      "\n",
      "bestTest = 0.8397212129\n",
      "bestIteration = 1208\n",
      "\n",
      "Shrink model to first 1209 iterations.\n",
      "\n",
      "acc=0.7269, macro-f1=0.7162\n"
     ]
    }
   ],
   "source": [
    "X_train, X_val, y_train, y_val = train_test_split(\n",
    "    df.drop('target', axis=1),\n",
    "    df['target'],\n",
    "    test_size=0.2,\n",
    "    shuffle=True,\n",
    "    random_state=42,\n",
    ")\n",
    "            \n",
    "clf = CatBoostClassifier(\n",
    "    iterations=2500,\n",
    "    verbose=200,\n",
    ")\n",
    "clf.fit(\n",
    "    X=X_train,\n",
    "    y=y_train,\n",
    "    eval_set=(X_val, y_val),\n",
    "    early_stopping_rounds=100,\n",
    ")\n",
    "\n",
    "y_pred = clf.predict(X_val)\n",
    "acc = accuracy_score(y_val, y_pred)\n",
    "f1 = f1_score(y_val, y_pred, average='macro')\n",
    "\n",
    "print()\n",
    "print(f'acc={acc:.4f}, macro-f1={f1:.4f}')"
   ]
  },
  {
   "cell_type": "markdown",
   "metadata": {},
   "source": [
    "## RF"
   ]
  },
  {
   "cell_type": "code",
   "execution_count": 37,
   "metadata": {},
   "outputs": [],
   "source": [
    "from sklearn.ensemble import RandomForestClassifier"
   ]
  },
  {
   "cell_type": "code",
   "execution_count": 39,
   "metadata": {},
   "outputs": [
    {
     "name": "stdout",
     "output_type": "stream",
     "text": [
      "max_depth=   8    =>    acc=0.6217, macro-f1=0.6034\n",
      "\n",
      "max_depth=  16    =>    acc=0.6854, macro-f1=0.6751\n",
      "\n",
      "max_depth=  32    =>    acc=0.6867, macro-f1=0.6747\n",
      "\n",
      "max_depth=  64    =>    acc=0.6850, macro-f1=0.6731\n",
      "\n"
     ]
    }
   ],
   "source": [
    "for md in [8, 16, 32, 64]:\n",
    "\n",
    "    md = int(md)\n",
    "\n",
    "    dff = df.dropna()\n",
    "\n",
    "    X_train, X_val, y_train, y_val = train_test_split(\n",
    "        dff.drop('target', axis=1),\n",
    "        dff['target'],\n",
    "        test_size=0.2,\n",
    "        shuffle=True,\n",
    "        random_state=42,\n",
    "    )\n",
    "                \n",
    "    clf = RandomForestClassifier(\n",
    "        max_depth=md,\n",
    "        random_state=42,\n",
    "    )\n",
    "    clf.fit(X_train, y_train)\n",
    "\n",
    "    y_pred = clf.predict(X_val)\n",
    "    acc = accuracy_score(y_val, y_pred)\n",
    "    f1 = f1_score(y_val, y_pred, average='macro')\n",
    "\n",
    "    print(f'max_depth={md:4d}    =>    acc={acc:.4f}, macro-f1={f1:.4f}')\n",
    "    print()"
   ]
  },
  {
   "cell_type": "markdown",
   "metadata": {},
   "source": [
    "## AB"
   ]
  },
  {
   "cell_type": "code",
   "execution_count": 35,
   "metadata": {},
   "outputs": [],
   "source": [
    "from sklearn.ensemble import AdaBoostClassifier"
   ]
  },
  {
   "cell_type": "code",
   "execution_count": 40,
   "metadata": {},
   "outputs": [
    {
     "name": "stdout",
     "output_type": "stream",
     "text": [
      "acc=0.3717, macro-f1=0.3382\n",
      "\n"
     ]
    }
   ],
   "source": [
    "X_train, X_val, y_train, y_val = train_test_split(\n",
    "    dff.drop('target', axis=1),\n",
    "    dff['target'],\n",
    "    test_size=0.2,\n",
    "    shuffle=True,\n",
    "    random_state=42,\n",
    ")\n",
    "            \n",
    "clf = AdaBoostClassifier(\n",
    "    random_state=42,\n",
    ")\n",
    "clf.fit(X_train, y_train)\n",
    "\n",
    "y_pred = clf.predict(X_val)\n",
    "acc = accuracy_score(y_val, y_pred)\n",
    "f1 = f1_score(y_val, y_pred, average='macro')\n",
    "\n",
    "print(f'acc={acc:.4f}, macro-f1={f1:.4f}')\n",
    "print()"
   ]
  },
  {
   "cell_type": "markdown",
   "metadata": {},
   "source": [
    "## MLP"
   ]
  },
  {
   "cell_type": "code",
   "execution_count": 25,
   "metadata": {},
   "outputs": [],
   "source": [
    "from sklearn.neural_network import MLPClassifier"
   ]
  },
  {
   "cell_type": "code",
   "execution_count": 27,
   "metadata": {},
   "outputs": [],
   "source": [
    "dff = df.dropna()\n",
    "\n",
    "X_train, X_val, y_train, y_val = train_test_split(\n",
    "    dff.drop('target', axis=1),\n",
    "    dff['target'],\n",
    "    test_size=0.2,\n",
    "    shuffle=True,\n",
    "    random_state=42,\n",
    ")"
   ]
  },
  {
   "cell_type": "code",
   "execution_count": 41,
   "metadata": {},
   "outputs": [
    {
     "name": "stdout",
     "output_type": "stream",
     "text": [
      "hls:  5, act: identity;   acc=0.2599, f1=0.2085\n",
      "hls:  5, act: logistic;   acc=0.0661, f1=0.0102\n",
      "hls:  5, act: tanh    ;   acc=0.2775, f1=0.2282\n",
      "hls:  5, act: relu    ;   acc=0.2511, f1=0.1872\n",
      "hls: 10, act: identity;   acc=0.4317, f1=0.3631\n",
      "hls: 10, act: logistic;   acc=0.1806, f1=0.0781\n",
      "hls: 10, act: tanh    ;   acc=0.4449, f1=0.3693\n",
      "hls: 10, act: relu    ;   acc=0.1982, f1=0.1087\n",
      "hls: 20, act: identity;   acc=0.4978, f1=0.4456\n",
      "hls: 20, act: logistic;   acc=0.2599, f1=0.1684\n",
      "hls: 20, act: tanh    ;   acc=0.5154, f1=0.4591\n",
      "hls: 20, act: relu    ;   acc=0.4493, f1=0.3883\n",
      "hls: 30, act: identity;   acc=0.5286, f1=0.4941\n",
      "hls: 30, act: logistic;   acc=0.2952, f1=0.2088\n",
      "hls: 30, act: tanh    ;   acc=0.5286, f1=0.4726\n",
      "hls: 30, act: relu    ;   acc=0.4890, f1=0.4437\n"
     ]
    }
   ],
   "source": [
    "for hls in [5, 10, 20, 30]:\n",
    "    for act in ['identity', 'logistic', 'tanh', 'relu']:\n",
    "        clf = MLPClassifier(hls, act, random_state=42)\n",
    "        clf.fit(X_train, y_train)\n",
    "\n",
    "        y_pred = clf.predict(X_val)\n",
    "        acc = accuracy_score(y_val, y_pred)\n",
    "        f1 = f1_score(y_val, y_pred, average='macro')\n",
    "\n",
    "        print(f'hls: {hls:>2}, act: {act:8s};   acc={acc:.4f}, f1={f1:.4f}')"
   ]
  },
  {
   "cell_type": "code",
   "execution_count": null,
   "metadata": {},
   "outputs": [],
   "source": [
    "clf = AdaBoostClassifier(\n",
    "    random_state=42,\n",
    ")\n",
    "clf.fit(X_train, y_train)\n",
    "\n",
    "y_pred = clf.predict(X_val)\n",
    "acc = accuracy_score(y_val, y_pred)\n",
    "f1 = f1_score(y_val, y_pred, average='macro')\n",
    "\n",
    "print(f'acc={acc:.4f}, macro-f1={f1:.4f}')\n",
    "print()"
   ]
  },
  {
   "cell_type": "code",
   "execution_count": null,
   "metadata": {},
   "outputs": [],
   "source": []
  },
  {
   "cell_type": "code",
   "execution_count": null,
   "metadata": {},
   "outputs": [],
   "source": []
  },
  {
   "cell_type": "code",
   "execution_count": null,
   "metadata": {},
   "outputs": [],
   "source": []
  },
  {
   "cell_type": "code",
   "execution_count": null,
   "metadata": {},
   "outputs": [],
   "source": []
  }
 ],
 "metadata": {
  "kernelspec": {
   "display_name": "base",
   "language": "python",
   "name": "python3"
  },
  "language_info": {
   "codemirror_mode": {
    "name": "ipython",
    "version": 3
   },
   "file_extension": ".py",
   "mimetype": "text/x-python",
   "name": "python",
   "nbconvert_exporter": "python",
   "pygments_lexer": "ipython3",
   "version": "3.11.5"
  }
 },
 "nbformat": 4,
 "nbformat_minor": 2
}
