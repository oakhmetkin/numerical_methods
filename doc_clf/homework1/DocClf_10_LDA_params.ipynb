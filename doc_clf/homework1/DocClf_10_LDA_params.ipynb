{
 "cells": [
  {
   "cell_type": "markdown",
   "metadata": {},
   "source": [
    "# Задание\n",
    "\n",
    "LDA parameters $\\alpha$ and $\\beta$"
   ]
  },
  {
   "cell_type": "code",
   "execution_count": 1,
   "metadata": {},
   "outputs": [],
   "source": [
    "import numpy as np\n",
    "import pandas as pd\n",
    "import matplotlib.pyplot as plt\n",
    "%matplotlib inline"
   ]
  },
  {
   "cell_type": "markdown",
   "metadata": {},
   "source": [
    "## Dataset"
   ]
  },
  {
   "cell_type": "code",
   "execution_count": 2,
   "metadata": {},
   "outputs": [
    {
     "data": {
      "text/plain": [
       "(11314, 7532)"
      ]
     },
     "execution_count": 2,
     "metadata": {},
     "output_type": "execute_result"
    }
   ],
   "source": [
    "from sklearn.datasets import fetch_20newsgroups\n",
    "\n",
    "\n",
    "train_data = fetch_20newsgroups(subset='train')\n",
    "val_data = fetch_20newsgroups(subset='test')\n",
    "\n",
    "len(train_data['data']), len(val_data['data'])"
   ]
  },
  {
   "cell_type": "code",
   "execution_count": 3,
   "metadata": {},
   "outputs": [
    {
     "data": {
      "image/png": "[encoded data removed]",
      "text/plain": [
       "<Figure size 640x480 with 1 Axes>"
      ]
     },
     "metadata": {},
     "output_type": "display_data"
    }
   ],
   "source": [
    "plt.hist(train_data['target'], bins=20)\n",
    "None"
   ]
  },
  {
   "cell_type": "markdown",
   "metadata": {},
   "source": [
    "## Text preprocessing"
   ]
  },
  {
   "cell_type": "code",
   "execution_count": 4,
   "metadata": {},
   "outputs": [],
   "source": [
    "! pip install -qq spacy"
   ]
  },
  {
   "cell_type": "code",
   "execution_count": 5,
   "metadata": {},
   "outputs": [
    {
     "name": "stderr",
     "output_type": "stream",
     "text": [
      "[nltk_data] Downloading package words to /Users/ktann/nltk_data...\n",
      "[nltk_data]   Package words is already up-to-date!\n"
     ]
    }
   ],
   "source": [
    "from tqdm import tqdm\n",
    "import re\n",
    "from collections import Counter\n",
    "from spacy.lang.en import stop_words\n",
    "\n",
    "\n",
    "import nltk\n",
    "from nltk.corpus import words\n",
    "nltk.download('words')\n",
    "\n",
    "\n",
    "DICT_WORDS_COUNT = 1000\n",
    "stopwords = stop_words.STOP_WORDS"
   ]
  },
  {
   "cell_type": "code",
   "execution_count": 6,
   "metadata": {},
   "outputs": [
    {
     "data": {
      "text/plain": [
       "236736"
      ]
     },
     "execution_count": 6,
     "metadata": {},
     "output_type": "execute_result"
    }
   ],
   "source": [
    "english_words_corpora = words.words()\n",
    "len(english_words_corpora)"
   ]
  },
  {
   "cell_type": "code",
   "execution_count": 7,
   "metadata": {},
   "outputs": [],
   "source": [
    "def clean_text(text):\n",
    "\n",
    "    if 'Lines:' in text:\n",
    "        start = text.index('Lines:') + 5\n",
    "        text = text[start:]\n",
    "\n",
    "    text = text.lower()\n",
    "\n",
    "    text = re.sub(r'[\\w\\d.]+@[\\w\\d]+.[\\w\\d]+', ' ', text)\n",
    "    text = re.sub(r'(http|https)://[\\w\\d/.]+', ' ', text)\n",
    "\n",
    "    text = re.sub(r'[^a-z]', ' ', text)\n",
    "\n",
    "    text = re.sub(r'([^\\w]|[-_])+', ' ', text)\n",
    "    text = re.sub(r'\\d+', ' ', text)\n",
    "    text = re.sub(r'(.)\\1{2,}', r'\\1', text)\n",
    "    text = re.sub(r'\\s+', ' ', text)\n",
    "\n",
    "    text = text.strip()\n",
    "    \n",
    "    words = [\n",
    "        w for w in text.split() \\\n",
    "            if len(w) > 3 and \\\n",
    "                w not in stopwords and \\\n",
    "                w in english_words_corpora\n",
    "    ]\n",
    "\n",
    "    return ' '.join(words)"
   ]
  },
  {
   "cell_type": "code",
   "execution_count": 8,
   "metadata": {},
   "outputs": [],
   "source": [
    "from random import randint, seed\n",
    "import warnings\n",
    "warnings.filterwarnings('ignore')"
   ]
  },
  {
   "cell_type": "code",
   "execution_count": 9,
   "metadata": {},
   "outputs": [],
   "source": [
    "seed(4242)\n",
    "samples1000 = list(filter(lambda it: randint(0, 9) == 0, zip(train_data['data'], train_data['target'])))\n",
    "# samples1000 = list(zip(train_data['data'], train_data['target']))"
   ]
  },
  {
   "cell_type": "code",
   "execution_count": 10,
   "metadata": {},
   "outputs": [
    {
     "data": {
      "image/png": "[encoded data removed]",
      "text/plain": [
       "<Figure size 640x480 with 1 Axes>"
      ]
     },
     "metadata": {},
     "output_type": "display_data"
    }
   ],
   "source": [
    "texts1000, targets1000 = zip(*samples1000)\n",
    "plt.hist(targets1000, bins=20)\n",
    "None"
   ]
  },
  {
   "cell_type": "code",
   "execution_count": 11,
   "metadata": {},
   "outputs": [
    {
     "name": "stderr",
     "output_type": "stream",
     "text": [
      "Train texts: 100%|██████████| 1131/1131 [01:37<00:00, 11.63it/s]\n"
     ]
    }
   ],
   "source": [
    "clean_train_texts = [\n",
    "    clean_text(text) for text, target in tqdm(samples1000, desc='Train texts')\n",
    "]"
   ]
  },
  {
   "cell_type": "markdown",
   "metadata": {},
   "source": [
    "## LDA"
   ]
  },
  {
   "cell_type": "code",
   "execution_count": 12,
   "metadata": {},
   "outputs": [],
   "source": [
    "import numpy as np\n",
    "from sklearn.feature_extraction.text import CountVectorizer\n",
    "from gensim import corpora, models\n",
    "from gensim.utils import simple_preprocess\n",
    "from sklearn.feature_extraction.text import TfidfVectorizer"
   ]
  },
  {
   "cell_type": "code",
   "execution_count": 13,
   "metadata": {},
   "outputs": [],
   "source": [
    "# Preprocess the text data and create a list of tokenized documents\n",
    "tokenized_documents = [simple_preprocess(text) for text in clean_train_texts]\n",
    "\n",
    "# Create a dictionary mapping of words to unique IDs\n",
    "dictionary = corpora.Dictionary(tokenized_documents)\n",
    "\n",
    "# Create a Bag of Words (BoW) representation of the documents\n",
    "bow_corpus = [dictionary.doc2bow(doc) for doc in tokenized_documents]"
   ]
  },
  {
   "cell_type": "code",
   "execution_count": 14,
   "metadata": {},
   "outputs": [],
   "source": [
    "# Create a TF-IDF model\n",
    "tfidf = models.TfidfModel(bow_corpus)\n",
    "corpus_tfidf = tfidf[bow_corpus]"
   ]
  },
  {
   "cell_type": "code",
   "execution_count": 15,
   "metadata": {},
   "outputs": [],
   "source": [
    "lda_models = []"
   ]
  },
  {
   "cell_type": "code",
   "execution_count": 16,
   "metadata": {},
   "outputs": [],
   "source": [
    "for alpha in [0.01, 0.5, 1, 2]:\n",
    "    for beta in [0.01, 0.5, 1, 2]:\n",
    "        lda_model = models.LdaModel(\n",
    "            corpus_tfidf, \n",
    "            num_topics=10, \n",
    "            id2word=dictionary, \n",
    "            passes=15,\n",
    "            alpha=alpha,\n",
    "            eta=beta,\n",
    "        )\n",
    "        lda_models.append(lda_model)"
   ]
  },
  {
   "cell_type": "code",
   "execution_count": 26,
   "metadata": {},
   "outputs": [
    {
     "name": "stdout",
     "output_type": "stream",
     "text": [
      "LDA params: alpha=0.01, beta=0.01\n",
      "(0, '0.006*\"moral\" + 0.006*\"motif\" + 0.006*\"window\" + 0.003*\"posting\" + 0.003*\"host\"')\n",
      "(1, '0.006*\"mouse\" + 0.003*\"year\" + 0.003*\"article\" + 0.003*\"begin\" + 0.003*\"world\"')\n",
      "(2, '0.004*\"game\" + 0.004*\"package\" + 0.004*\"dyer\" + 0.004*\"blood\" + 0.003*\"address\"')\n",
      "(3, '0.006*\"screen\" + 0.004*\"monitor\" + 0.004*\"card\" + 0.004*\"display\" + 0.004*\"apple\"')\n",
      "(4, '0.006*\"people\" + 0.005*\"think\" + 0.004*\"like\" + 0.004*\"time\" + 0.004*\"know\"')\n",
      "(5, '0.005*\"article\" + 0.003*\"apple\" + 0.003*\"example\" + 0.003*\"draft\" + 0.003*\"pick\"')\n",
      "(6, '0.005*\"file\" + 0.005*\"font\" + 0.004*\"wave\" + 0.004*\"server\" + 0.004*\"mail\"')\n",
      "(7, '0.004*\"drive\" + 0.004*\"yeast\" + 0.004*\"life\" + 0.003*\"frank\" + 0.003*\"inner\"')\n",
      "(8, '0.008*\"window\" + 0.005*\"game\" + 0.005*\"manager\" + 0.004*\"test\" + 0.004*\"berlin\"')\n",
      "(9, '0.005*\"drive\" + 0.004*\"thanks\" + 0.003*\"government\" + 0.003*\"control\" + 0.003*\"system\"')\n",
      "\n",
      "LDA params: alpha=0.01, beta=0.50\n",
      "(0, '0.000*\"posting\" + 0.000*\"host\" + 0.000*\"file\" + 0.000*\"people\" + 0.000*\"distribution\"')\n",
      "(1, '0.000*\"monitor\" + 0.000*\"thanks\" + 0.000*\"people\" + 0.000*\"year\" + 0.000*\"good\"')\n",
      "(2, '0.000*\"like\" + 0.000*\"think\" + 0.000*\"people\" + 0.000*\"article\" + 0.000*\"know\"')\n",
      "(3, '0.000*\"pick\" + 0.000*\"temp\" + 0.000*\"eric\" + 0.000*\"available\" + 0.000*\"hotel\"')\n",
      "(4, '0.001*\"think\" + 0.000*\"correct\" + 0.000*\"address\" + 0.000*\"like\" + 0.000*\"article\"')\n",
      "(5, '0.001*\"thanks\" + 0.001*\"motif\" + 0.001*\"mail\" + 0.001*\"posting\" + 0.001*\"host\"')\n",
      "(6, '0.001*\"mouse\" + 0.000*\"game\" + 0.000*\"screen\" + 0.000*\"people\" + 0.000*\"program\"')\n",
      "(7, '0.000*\"like\" + 0.000*\"host\" + 0.000*\"posting\" + 0.000*\"article\" + 0.000*\"good\"')\n",
      "(8, '0.001*\"moral\" + 0.001*\"like\" + 0.001*\"know\" + 0.001*\"drive\" + 0.000*\"thanks\"')\n",
      "(9, '0.001*\"window\" + 0.001*\"know\" + 0.001*\"people\" + 0.001*\"thanks\" + 0.001*\"host\"')\n",
      "\n",
      "LDA params: alpha=0.01, beta=1.00\n",
      "(0, '0.000*\"diving\" + 0.000*\"epileptic\" + 0.000*\"added\" + 0.000*\"converter\" + 0.000*\"foreskin\"')\n",
      "(1, '0.000*\"window\" + 0.000*\"paolo\" + 0.000*\"motif\" + 0.000*\"prism\" + 0.000*\"reap\"')\n",
      "(2, '0.000*\"copper\" + 0.000*\"zinc\" + 0.000*\"galvanized\" + 0.000*\"lemon\" + 0.000*\"acid\"')\n",
      "(3, '0.000*\"turk\" + 0.000*\"brewmaster\" + 0.000*\"tenure\" + 0.000*\"equation\" + 0.000*\"quadric\"')\n",
      "(4, '0.001*\"people\" + 0.001*\"thanks\" + 0.001*\"know\" + 0.001*\"like\" + 0.001*\"article\"')\n",
      "(5, '0.000*\"paddock\" + 0.000*\"espionage\" + 0.000*\"inquiry\" + 0.000*\"operation\" + 0.000*\"times\"')\n",
      "(6, '0.000*\"disconcerting\" + 0.000*\"hooper\" + 0.000*\"wash\" + 0.000*\"semiconductor\" + 0.000*\"clipper\"')\n",
      "(7, '0.000*\"unconfirmed\" + 0.000*\"tony\" + 0.000*\"pink\" + 0.000*\"confirm\" + 0.000*\"rumor\"')\n",
      "(8, '0.000*\"damnation\" + 0.000*\"chop\" + 0.000*\"mule\" + 0.000*\"season\" + 0.000*\"game\"')\n",
      "(9, '0.000*\"brown\" + 0.000*\"murphy\" + 0.000*\"hull\" + 0.000*\"wally\" + 0.000*\"craven\"')\n",
      "\n",
      "LDA params: alpha=0.01, beta=2.00\n",
      "(0, '0.000*\"hooper\" + 0.000*\"semiconductor\" + 0.000*\"clipper\" + 0.000*\"chop\" + 0.000*\"mule\"')\n",
      "(1, '0.000*\"tripple\" + 0.000*\"bases\" + 0.000*\"loaded\" + 0.000*\"mike\" + 0.000*\"hooper\"')\n",
      "(2, '0.000*\"retract\" + 0.000*\"foreskin\" + 0.000*\"circumcision\" + 0.000*\"adult\" + 0.000*\"male\"')\n",
      "(3, '0.000*\"foreskin\" + 0.000*\"retract\" + 0.000*\"circumcision\" + 0.000*\"adult\" + 0.000*\"male\"')\n",
      "(4, '0.001*\"people\" + 0.001*\"thanks\" + 0.001*\"know\" + 0.001*\"like\" + 0.001*\"article\"')\n",
      "(5, '0.000*\"greed\" + 0.000*\"forthright\" + 0.000*\"butcher\" + 0.000*\"attribute\" + 0.000*\"knife\"')\n",
      "(6, '0.000*\"damnation\" + 0.000*\"believing\" + 0.000*\"prepared\" + 0.000*\"eternal\" + 0.000*\"hell\"')\n",
      "(7, '0.000*\"damnation\" + 0.000*\"believing\" + 0.000*\"prepared\" + 0.000*\"eternal\" + 0.000*\"hell\"')\n",
      "(8, '0.000*\"brown\" + 0.000*\"murphy\" + 0.000*\"hull\" + 0.000*\"otto\" + 0.000*\"steen\"')\n",
      "(9, '0.000*\"tack\" + 0.000*\"eventual\" + 0.000*\"mouthed\" + 0.000*\"roid\" + 0.000*\"corn\"')\n",
      "\n",
      "LDA params: alpha=0.50, beta=0.01\n",
      "(0, '0.012*\"controller\" + 0.011*\"friend\" + 0.010*\"access\" + 0.010*\"experience\" + 0.010*\"light\"')\n",
      "(1, '0.017*\"price\" + 0.014*\"drive\" + 0.014*\"offer\" + 0.013*\"peace\" + 0.013*\"sound\"')\n",
      "(2, '0.024*\"data\" + 0.022*\"display\" + 0.021*\"stuff\" + 0.021*\"monitor\" + 0.016*\"exist\"')\n",
      "(3, '0.014*\"address\" + 0.010*\"program\" + 0.009*\"need\" + 0.009*\"hard\" + 0.009*\"mike\"')\n",
      "(4, '0.008*\"people\" + 0.008*\"think\" + 0.006*\"game\" + 0.006*\"work\" + 0.006*\"right\"')\n",
      "(5, '0.014*\"time\" + 0.012*\"color\" + 0.011*\"days\" + 0.010*\"department\" + 0.010*\"test\"')\n",
      "(6, '0.028*\"thanks\" + 0.017*\"mouse\" + 0.017*\"number\" + 0.017*\"advance\" + 0.016*\"graphics\"')\n",
      "(7, '0.012*\"available\" + 0.010*\"space\" + 0.008*\"idea\" + 0.008*\"screen\" + 0.008*\"different\"')\n",
      "(8, '0.029*\"file\" + 0.016*\"system\" + 0.015*\"video\" + 0.015*\"running\" + 0.012*\"original\"')\n",
      "(9, '0.025*\"window\" + 0.015*\"driver\" + 0.015*\"sale\" + 0.014*\"board\" + 0.014*\"works\"')\n",
      "\n",
      "LDA params: alpha=0.50, beta=0.50\n",
      "(0, '0.000*\"thanks\" + 0.000*\"host\" + 0.000*\"diving\" + 0.000*\"disconcerting\" + 0.000*\"posting\"')\n",
      "(1, '0.000*\"thanks\" + 0.000*\"posting\" + 0.000*\"diving\" + 0.000*\"disconcerting\" + 0.000*\"host\"')\n",
      "(2, '0.000*\"thanks\" + 0.000*\"posting\" + 0.000*\"host\" + 0.000*\"drive\" + 0.000*\"disconcerting\"')\n",
      "(3, '0.000*\"thanks\" + 0.000*\"host\" + 0.000*\"posting\" + 0.000*\"diving\" + 0.000*\"article\"')\n",
      "(4, '0.000*\"thanks\" + 0.000*\"posting\" + 0.000*\"host\" + 0.000*\"diving\" + 0.000*\"disconcerting\"')\n",
      "(5, '0.002*\"window\" + 0.002*\"card\" + 0.001*\"drive\" + 0.001*\"thanks\" + 0.001*\"file\"')\n",
      "(6, '0.000*\"host\" + 0.000*\"posting\" + 0.000*\"thanks\" + 0.000*\"mail\" + 0.000*\"article\"')\n",
      "(7, '0.002*\"people\" + 0.002*\"article\" + 0.002*\"think\" + 0.002*\"know\" + 0.002*\"like\"')\n",
      "(8, '0.000*\"thanks\" + 0.000*\"diving\" + 0.000*\"host\" + 0.000*\"posting\" + 0.000*\"disconcerting\"')\n",
      "(9, '0.000*\"brown\" + 0.000*\"yeast\" + 0.000*\"murphy\" + 0.000*\"file\" + 0.000*\"hull\"')\n",
      "\n",
      "LDA params: alpha=0.50, beta=1.00\n",
      "(0, '0.000*\"thanks\" + 0.000*\"posting\" + 0.000*\"host\" + 0.000*\"window\" + 0.000*\"article\"')\n",
      "(1, '0.000*\"thanks\" + 0.000*\"host\" + 0.000*\"posting\" + 0.000*\"article\" + 0.000*\"know\"')\n",
      "(2, '0.000*\"thanks\" + 0.000*\"host\" + 0.000*\"article\" + 0.000*\"posting\" + 0.000*\"know\"')\n",
      "(3, '0.000*\"thanks\" + 0.000*\"posting\" + 0.000*\"know\" + 0.000*\"article\" + 0.000*\"host\"')\n",
      "(4, '0.000*\"thanks\" + 0.000*\"host\" + 0.000*\"posting\" + 0.000*\"article\" + 0.000*\"know\"')\n",
      "(5, '0.000*\"thanks\" + 0.000*\"article\" + 0.000*\"host\" + 0.000*\"posting\" + 0.000*\"file\"')\n",
      "(6, '0.000*\"thanks\" + 0.000*\"posting\" + 0.000*\"know\" + 0.000*\"article\" + 0.000*\"host\"')\n",
      "(7, '0.001*\"people\" + 0.001*\"like\" + 0.001*\"know\" + 0.001*\"think\" + 0.001*\"article\"')\n",
      "(8, '0.000*\"thanks\" + 0.000*\"posting\" + 0.000*\"file\" + 0.000*\"host\" + 0.000*\"article\"')\n",
      "(9, '0.000*\"thanks\" + 0.000*\"posting\" + 0.000*\"host\" + 0.000*\"article\" + 0.000*\"know\"')\n",
      "\n",
      "LDA params: alpha=0.50, beta=2.00\n",
      "(0, '0.000*\"thanks\" + 0.000*\"people\" + 0.000*\"know\" + 0.000*\"like\" + 0.000*\"article\"')\n",
      "(1, '0.000*\"people\" + 0.000*\"know\" + 0.000*\"article\" + 0.000*\"thanks\" + 0.000*\"like\"')\n",
      "(2, '0.000*\"people\" + 0.000*\"know\" + 0.000*\"thanks\" + 0.000*\"like\" + 0.000*\"article\"')\n",
      "(3, '0.000*\"thanks\" + 0.000*\"people\" + 0.000*\"article\" + 0.000*\"know\" + 0.000*\"like\"')\n",
      "(4, '0.000*\"people\" + 0.000*\"know\" + 0.000*\"thanks\" + 0.000*\"like\" + 0.000*\"article\"')\n",
      "(5, '0.000*\"thanks\" + 0.000*\"people\" + 0.000*\"know\" + 0.000*\"article\" + 0.000*\"like\"')\n",
      "(6, '0.000*\"people\" + 0.000*\"thanks\" + 0.000*\"know\" + 0.000*\"article\" + 0.000*\"like\"')\n",
      "(7, '0.000*\"people\" + 0.000*\"know\" + 0.000*\"thanks\" + 0.000*\"like\" + 0.000*\"host\"')\n",
      "(8, '0.000*\"thanks\" + 0.000*\"people\" + 0.000*\"know\" + 0.000*\"article\" + 0.000*\"like\"')\n",
      "(9, '0.000*\"people\" + 0.000*\"know\" + 0.000*\"thanks\" + 0.000*\"like\" + 0.000*\"article\"')\n",
      "\n",
      "LDA params: alpha=1.00, beta=0.01\n",
      "(0, '0.010*\"possible\" + 0.010*\"video\" + 0.009*\"high\" + 0.009*\"center\" + 0.008*\"host\"')\n",
      "(1, '0.012*\"system\" + 0.009*\"send\" + 0.008*\"server\" + 0.008*\"long\" + 0.007*\"know\"')\n",
      "(2, '0.012*\"said\" + 0.012*\"need\" + 0.012*\"maybe\" + 0.011*\"screen\" + 0.011*\"motif\"')\n",
      "(3, '0.012*\"look\" + 0.011*\"team\" + 0.010*\"money\" + 0.010*\"people\" + 0.010*\"test\"')\n",
      "(4, '0.012*\"program\" + 0.010*\"access\" + 0.010*\"church\" + 0.009*\"person\" + 0.009*\"comes\"')\n",
      "(5, '0.016*\"window\" + 0.013*\"information\" + 0.013*\"file\" + 0.011*\"able\" + 0.011*\"list\"')\n",
      "(6, '0.013*\"best\" + 0.012*\"drive\" + 0.011*\"point\" + 0.011*\"thing\" + 0.010*\"disk\"')\n",
      "(7, '0.012*\"find\" + 0.010*\"come\" + 0.010*\"mark\" + 0.009*\"data\" + 0.009*\"wrong\"')\n",
      "(8, '0.011*\"posting\" + 0.010*\"support\" + 0.010*\"driver\" + 0.009*\"mail\" + 0.008*\"free\"')\n",
      "(9, '0.013*\"want\" + 0.012*\"true\" + 0.012*\"seen\" + 0.011*\"computer\" + 0.011*\"question\"')\n",
      "\n",
      "LDA params: alpha=1.00, beta=0.50\n",
      "(0, '0.000*\"like\" + 0.000*\"host\" + 0.000*\"people\" + 0.000*\"thanks\" + 0.000*\"posting\"')\n",
      "(1, '0.000*\"like\" + 0.000*\"people\" + 0.000*\"posting\" + 0.000*\"thanks\" + 0.000*\"host\"')\n",
      "(2, '0.000*\"people\" + 0.000*\"know\" + 0.000*\"thanks\" + 0.000*\"posting\" + 0.000*\"article\"')\n",
      "(3, '0.000*\"know\" + 0.000*\"article\" + 0.000*\"posting\" + 0.000*\"think\" + 0.000*\"time\"')\n",
      "(4, '0.000*\"article\" + 0.000*\"thanks\" + 0.000*\"know\" + 0.000*\"people\" + 0.000*\"host\"')\n",
      "(5, '0.000*\"think\" + 0.000*\"people\" + 0.000*\"know\" + 0.000*\"thanks\" + 0.000*\"host\"')\n",
      "(6, '0.000*\"know\" + 0.000*\"host\" + 0.000*\"article\" + 0.000*\"good\" + 0.000*\"file\"')\n",
      "(7, '0.000*\"thanks\" + 0.000*\"people\" + 0.000*\"think\" + 0.000*\"like\" + 0.000*\"posting\"')\n",
      "(8, '0.000*\"time\" + 0.000*\"host\" + 0.000*\"people\" + 0.000*\"good\" + 0.000*\"posting\"')\n",
      "(9, '0.000*\"thanks\" + 0.000*\"like\" + 0.000*\"know\" + 0.000*\"article\" + 0.000*\"people\"')\n",
      "\n",
      "LDA params: alpha=1.00, beta=1.00\n",
      "(0, '0.000*\"thanks\" + 0.000*\"article\" + 0.000*\"people\" + 0.000*\"know\" + 0.000*\"like\"')\n",
      "(1, '0.000*\"know\" + 0.000*\"people\" + 0.000*\"thanks\" + 0.000*\"like\" + 0.000*\"host\"')\n",
      "(2, '0.000*\"know\" + 0.000*\"people\" + 0.000*\"like\" + 0.000*\"host\" + 0.000*\"thanks\"')\n",
      "(3, '0.000*\"know\" + 0.000*\"article\" + 0.000*\"people\" + 0.000*\"like\" + 0.000*\"host\"')\n",
      "(4, '0.000*\"thanks\" + 0.000*\"like\" + 0.000*\"people\" + 0.000*\"article\" + 0.000*\"know\"')\n",
      "(5, '0.000*\"thanks\" + 0.000*\"know\" + 0.000*\"host\" + 0.000*\"article\" + 0.000*\"people\"')\n",
      "(6, '0.000*\"people\" + 0.000*\"like\" + 0.000*\"know\" + 0.000*\"thanks\" + 0.000*\"article\"')\n",
      "(7, '0.000*\"thanks\" + 0.000*\"people\" + 0.000*\"like\" + 0.000*\"know\" + 0.000*\"posting\"')\n",
      "(8, '0.000*\"people\" + 0.000*\"article\" + 0.000*\"thanks\" + 0.000*\"know\" + 0.000*\"posting\"')\n",
      "(9, '0.000*\"people\" + 0.000*\"like\" + 0.000*\"thanks\" + 0.000*\"know\" + 0.000*\"host\"')\n",
      "\n",
      "LDA params: alpha=1.00, beta=2.00\n",
      "(0, '0.000*\"people\" + 0.000*\"thanks\" + 0.000*\"know\" + 0.000*\"article\" + 0.000*\"like\"')\n",
      "(1, '0.000*\"people\" + 0.000*\"know\" + 0.000*\"like\" + 0.000*\"thanks\" + 0.000*\"article\"')\n",
      "(2, '0.000*\"thanks\" + 0.000*\"know\" + 0.000*\"people\" + 0.000*\"like\" + 0.000*\"article\"')\n",
      "(3, '0.000*\"thanks\" + 0.000*\"people\" + 0.000*\"know\" + 0.000*\"like\" + 0.000*\"article\"')\n",
      "(4, '0.000*\"know\" + 0.000*\"people\" + 0.000*\"thanks\" + 0.000*\"article\" + 0.000*\"like\"')\n",
      "(5, '0.000*\"thanks\" + 0.000*\"people\" + 0.000*\"know\" + 0.000*\"article\" + 0.000*\"like\"')\n",
      "(6, '0.000*\"people\" + 0.000*\"know\" + 0.000*\"thanks\" + 0.000*\"article\" + 0.000*\"like\"')\n",
      "(7, '0.000*\"thanks\" + 0.000*\"people\" + 0.000*\"know\" + 0.000*\"like\" + 0.000*\"article\"')\n",
      "(8, '0.000*\"people\" + 0.000*\"like\" + 0.000*\"know\" + 0.000*\"thanks\" + 0.000*\"article\"')\n",
      "(9, '0.000*\"people\" + 0.000*\"thanks\" + 0.000*\"know\" + 0.000*\"like\" + 0.000*\"article\"')\n",
      "\n",
      "LDA params: alpha=2.00, beta=0.01\n",
      "(0, '0.012*\"need\" + 0.011*\"data\" + 0.011*\"able\" + 0.011*\"sale\" + 0.010*\"left\"')\n",
      "(1, '0.013*\"posting\" + 0.009*\"board\" + 0.009*\"monitor\" + 0.008*\"hand\" + 0.008*\"work\"')\n",
      "(2, '0.010*\"evidence\" + 0.009*\"look\" + 0.009*\"server\" + 0.009*\"machine\" + 0.008*\"days\"')\n",
      "(3, '0.012*\"sure\" + 0.011*\"thing\" + 0.010*\"hockey\" + 0.009*\"church\" + 0.009*\"best\"')\n",
      "(4, '0.011*\"great\" + 0.009*\"mike\" + 0.009*\"display\" + 0.009*\"check\" + 0.008*\"matter\"')\n",
      "(5, '0.010*\"screen\" + 0.009*\"truth\" + 0.009*\"government\" + 0.009*\"read\" + 0.009*\"center\"')\n",
      "(6, '0.008*\"answer\" + 0.008*\"access\" + 0.008*\"going\" + 0.008*\"drive\" + 0.008*\"posted\"')\n",
      "(7, '0.009*\"like\" + 0.009*\"interested\" + 0.009*\"little\" + 0.009*\"test\" + 0.008*\"true\"')\n",
      "(8, '0.012*\"long\" + 0.012*\"post\" + 0.012*\"number\" + 0.012*\"point\" + 0.011*\"thanks\"')\n",
      "(9, '0.010*\"disk\" + 0.009*\"believe\" + 0.009*\"good\" + 0.009*\"information\" + 0.009*\"space\"')\n",
      "\n",
      "LDA params: alpha=2.00, beta=0.50\n",
      "(0, '0.000*\"host\" + 0.000*\"know\" + 0.000*\"thanks\" + 0.000*\"posting\" + 0.000*\"people\"')\n",
      "(1, '0.000*\"know\" + 0.000*\"thanks\" + 0.000*\"people\" + 0.000*\"think\" + 0.000*\"like\"')\n",
      "(2, '0.000*\"know\" + 0.000*\"article\" + 0.000*\"think\" + 0.000*\"like\" + 0.000*\"thanks\"')\n",
      "(3, '0.001*\"host\" + 0.000*\"know\" + 0.000*\"like\" + 0.000*\"people\" + 0.000*\"article\"')\n",
      "(4, '0.000*\"host\" + 0.000*\"thanks\" + 0.000*\"people\" + 0.000*\"posting\" + 0.000*\"like\"')\n",
      "(5, '0.001*\"people\" + 0.000*\"thanks\" + 0.000*\"posting\" + 0.000*\"think\" + 0.000*\"like\"')\n",
      "(6, '0.000*\"like\" + 0.000*\"article\" + 0.000*\"know\" + 0.000*\"posting\" + 0.000*\"people\"')\n",
      "(7, '0.000*\"think\" + 0.000*\"time\" + 0.000*\"like\" + 0.000*\"people\" + 0.000*\"posting\"')\n",
      "(8, '0.000*\"posting\" + 0.000*\"article\" + 0.000*\"people\" + 0.000*\"thanks\" + 0.000*\"know\"')\n",
      "(9, '0.000*\"thanks\" + 0.000*\"time\" + 0.000*\"article\" + 0.000*\"people\" + 0.000*\"posting\"')\n",
      "\n",
      "LDA params: alpha=2.00, beta=1.00\n",
      "(0, '0.000*\"thanks\" + 0.000*\"people\" + 0.000*\"article\" + 0.000*\"know\" + 0.000*\"host\"')\n",
      "(1, '0.000*\"thanks\" + 0.000*\"posting\" + 0.000*\"know\" + 0.000*\"article\" + 0.000*\"people\"')\n",
      "(2, '0.000*\"article\" + 0.000*\"know\" + 0.000*\"thanks\" + 0.000*\"people\" + 0.000*\"posting\"')\n",
      "(3, '0.000*\"know\" + 0.000*\"article\" + 0.000*\"posting\" + 0.000*\"thanks\" + 0.000*\"like\"')\n",
      "(4, '0.000*\"people\" + 0.000*\"like\" + 0.000*\"know\" + 0.000*\"host\" + 0.000*\"article\"')\n",
      "(5, '0.000*\"people\" + 0.000*\"think\" + 0.000*\"posting\" + 0.000*\"like\" + 0.000*\"thanks\"')\n",
      "(6, '0.000*\"thanks\" + 0.000*\"know\" + 0.000*\"people\" + 0.000*\"article\" + 0.000*\"like\"')\n",
      "(7, '0.000*\"know\" + 0.000*\"thanks\" + 0.000*\"like\" + 0.000*\"people\" + 0.000*\"host\"')\n",
      "(8, '0.000*\"know\" + 0.000*\"article\" + 0.000*\"host\" + 0.000*\"posting\" + 0.000*\"thanks\"')\n",
      "(9, '0.000*\"people\" + 0.000*\"like\" + 0.000*\"thanks\" + 0.000*\"know\" + 0.000*\"article\"')\n",
      "\n",
      "LDA params: alpha=2.00, beta=2.00\n",
      "(0, '0.000*\"people\" + 0.000*\"thanks\" + 0.000*\"know\" + 0.000*\"like\" + 0.000*\"article\"')\n",
      "(1, '0.000*\"people\" + 0.000*\"know\" + 0.000*\"thanks\" + 0.000*\"like\" + 0.000*\"article\"')\n",
      "(2, '0.000*\"know\" + 0.000*\"people\" + 0.000*\"thanks\" + 0.000*\"like\" + 0.000*\"article\"')\n",
      "(3, '0.000*\"people\" + 0.000*\"thanks\" + 0.000*\"like\" + 0.000*\"know\" + 0.000*\"article\"')\n",
      "(4, '0.000*\"thanks\" + 0.000*\"people\" + 0.000*\"know\" + 0.000*\"like\" + 0.000*\"article\"')\n",
      "(5, '0.000*\"people\" + 0.000*\"thanks\" + 0.000*\"know\" + 0.000*\"article\" + 0.000*\"like\"')\n",
      "(6, '0.000*\"people\" + 0.000*\"thanks\" + 0.000*\"know\" + 0.000*\"article\" + 0.000*\"like\"')\n",
      "(7, '0.000*\"know\" + 0.000*\"people\" + 0.000*\"thanks\" + 0.000*\"like\" + 0.000*\"article\"')\n",
      "(8, '0.000*\"people\" + 0.000*\"know\" + 0.000*\"thanks\" + 0.000*\"article\" + 0.000*\"posting\"')\n",
      "(9, '0.000*\"thanks\" + 0.000*\"people\" + 0.000*\"know\" + 0.000*\"article\" + 0.000*\"like\"')\n",
      "\n"
     ]
    }
   ],
   "source": [
    "for lda_model in lda_models:\n",
    "    alpha, beta = lda_model.alpha[0], lda_model.eta[0]\n",
    "    print(f'LDA params: alpha={alpha:.2f}, beta={beta:.2f}')\n",
    "\n",
    "    for topic in lda_model.print_topics(num_words=5):\n",
    "        print(topic)\n",
    "\n",
    "    print()"
   ]
  },
  {
   "cell_type": "code",
   "execution_count": 35,
   "metadata": {},
   "outputs": [],
   "source": [
    "def get_dataset(lda_model):\n",
    "    document_topic_vectors = []\n",
    "    for i, doc_bow in enumerate(bow_corpus):\n",
    "        document_topics = lda_model.get_document_topics(doc_bow, minimum_probability=0.0)\n",
    "        document_topic_vector = [topic_prob for _, topic_prob in document_topics]\n",
    "        document_topic_vectors.append(document_topic_vector)\n",
    "\n",
    "    df = pd.DataFrame(document_topic_vectors)\n",
    "    df['target'] = targets1000\n",
    "    df = df[df['target'] < 4]\n",
    "    \n",
    "    return df"
   ]
  },
  {
   "cell_type": "code",
   "execution_count": 36,
   "metadata": {},
   "outputs": [],
   "source": [
    "from catboost import CatBoostClassifier\n",
    "from sklearn.model_selection import train_test_split\n",
    "from sklearn.metrics import f1_score, accuracy_score\n",
    "\n",
    "\n",
    "def train_and_eval_lda_catboost(df):\n",
    "    X_train, X_val, y_train, y_val = train_test_split(\n",
    "        df.drop('target', axis=1),\n",
    "        df['target'],\n",
    "        test_size=0.2,\n",
    "        shuffle=True,\n",
    "        random_state=42,\n",
    "    )\n",
    "                \n",
    "    clf = CatBoostClassifier(\n",
    "        iterations=2500,\n",
    "        logging_level='Silent',\n",
    "    )\n",
    "\n",
    "    clf.fit(\n",
    "        X=X_train,\n",
    "        y=y_train,\n",
    "        eval_set=(X_val, y_val),\n",
    "        early_stopping_rounds=100,\n",
    "    )\n",
    "\n",
    "    y_pred = clf.predict(X_val)\n",
    "    acc = accuracy_score(y_val, y_pred)\n",
    "    f1 = f1_score(y_val, y_pred, average='macro')\n",
    "    return acc, f1"
   ]
  },
  {
   "cell_type": "code",
   "execution_count": 37,
   "metadata": {},
   "outputs": [
    {
     "name": "stdout",
     "output_type": "stream",
     "text": [
      "LDA params: alpha=0.01, beta=0.01. Accuracy=0.3913, f1_score=0.3621\n",
      "LDA params: alpha=0.01, beta=0.50. Accuracy=0.4130, f1_score=0.3702\n",
      "LDA params: alpha=0.01, beta=1.00. Accuracy=0.4130, f1_score=0.3667\n",
      "LDA params: alpha=0.01, beta=2.00. Accuracy=0.4130, f1_score=0.3702\n",
      "\n",
      "LDA params: alpha=0.50, beta=0.01. Accuracy=0.5652, f1_score=0.5712\n",
      "LDA params: alpha=0.50, beta=0.50. Accuracy=0.4565, f1_score=0.4410\n",
      "LDA params: alpha=0.50, beta=1.00. Accuracy=0.3913, f1_score=0.3514\n",
      "LDA params: alpha=0.50, beta=2.00. Accuracy=0.3696, f1_score=0.3377\n",
      "\n",
      "LDA params: alpha=1.00, beta=0.01. Accuracy=0.3696, f1_score=0.3129\n",
      "LDA params: alpha=1.00, beta=0.50. Accuracy=0.4565, f1_score=0.4591\n",
      "LDA params: alpha=1.00, beta=1.00. Accuracy=0.4565, f1_score=0.4563\n",
      "LDA params: alpha=1.00, beta=2.00. Accuracy=0.3696, f1_score=0.2862\n",
      "\n",
      "LDA params: alpha=2.00, beta=0.01. Accuracy=0.3043, f1_score=0.2194\n",
      "LDA params: alpha=2.00, beta=0.50. Accuracy=0.4565, f1_score=0.4245\n",
      "LDA params: alpha=2.00, beta=1.00. Accuracy=0.5000, f1_score=0.4929\n",
      "LDA params: alpha=2.00, beta=2.00. Accuracy=0.2609, f1_score=0.2512\n",
      "\n"
     ]
    }
   ],
   "source": [
    "for i, lda_model in enumerate(lda_models):\n",
    "    df = get_dataset(lda_model)\n",
    "    acc, f1 = train_and_eval_lda_catboost(df)\n",
    "    alpha, beta = lda_model.alpha[0], lda_model.eta[0]\n",
    "    print(f'LDA params: alpha={alpha:.2f}, beta={beta:.2f}. Accuracy={acc:.4f}, f1_score={f1:.4f}')\n",
    "\n",
    "    if i % 4 == 3:\n",
    "        print()"
   ]
  },
  {
   "cell_type": "code",
   "execution_count": null,
   "metadata": {},
   "outputs": [],
   "source": []
  },
  {
   "cell_type": "code",
   "execution_count": null,
   "metadata": {},
   "outputs": [],
   "source": []
  }
 ],
 "metadata": {
  "kernelspec": {
   "display_name": "base",
   "language": "python",
   "name": "python3"
  },
  "language_info": {
   "codemirror_mode": {
    "name": "ipython",
    "version": 3
   },
   "file_extension": ".py",
   "mimetype": "text/x-python",
   "name": "python",
   "nbconvert_exporter": "python",
   "pygments_lexer": "ipython3",
   "version": "3.11.5"
  }
 },
 "nbformat": 4,
 "nbformat_minor": 2
}
