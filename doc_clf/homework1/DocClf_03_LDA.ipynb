{
 "cells": [
  {
   "cell_type": "markdown",
   "metadata": {},
   "source": [
    "# Задание практика №3\n",
    "\n",
    "Практика 3: Задание аналогично заданию 2, но для представления документов используются вектора, которые показывают распределение тем коллекции в этом документе. По сути каждый признак - это тема, значение признака  в векторе - вероятность этой темы в этом документа. Для того. чтобы это сделать используем LDA. + Нужно посмотреть какие темы будут появлятся, что эти темы из себя представляют. Подсказка в файле"
   ]
  },
  {
   "cell_type": "code",
   "execution_count": 1,
   "metadata": {},
   "outputs": [],
   "source": [
    "import numpy as np\n",
    "import pandas as pd\n",
    "import matplotlib.pyplot as plt\n",
    "%matplotlib inline"
   ]
  },
  {
   "cell_type": "markdown",
   "metadata": {},
   "source": [
    "## Dataset"
   ]
  },
  {
   "cell_type": "code",
   "execution_count": 2,
   "metadata": {},
   "outputs": [
    {
     "data": {
      "text/plain": [
       "(11314, 7532)"
      ]
     },
     "execution_count": 2,
     "metadata": {},
     "output_type": "execute_result"
    }
   ],
   "source": [
    "from sklearn.datasets import fetch_20newsgroups\n",
    "\n",
    "\n",
    "train_data = fetch_20newsgroups(subset='train')\n",
    "val_data = fetch_20newsgroups(subset='test')\n",
    "\n",
    "len(train_data['data']), len(val_data['data'])"
   ]
  },
  {
   "cell_type": "code",
   "execution_count": 3,
   "metadata": {},
   "outputs": [
    {
     "data": {
      "image/png": "[encoded data removed]",
      "text/plain": [
       "<Figure size 640x480 with 1 Axes>"
      ]
     },
     "metadata": {},
     "output_type": "display_data"
    }
   ],
   "source": [
    "plt.hist(train_data['target'], bins=20)\n",
    "None"
   ]
  },
  {
   "cell_type": "markdown",
   "metadata": {},
   "source": [
    "## Text preprocessing"
   ]
  },
  {
   "cell_type": "code",
   "execution_count": 4,
   "metadata": {},
   "outputs": [],
   "source": [
    "! pip install -qq spacy"
   ]
  },
  {
   "cell_type": "code",
   "execution_count": 5,
   "metadata": {},
   "outputs": [
    {
     "name": "stderr",
     "output_type": "stream",
     "text": [
      "[nltk_data] Downloading package words to /Users/ktann/nltk_data...\n",
      "[nltk_data]   Package words is already up-to-date!\n"
     ]
    }
   ],
   "source": [
    "from tqdm import tqdm\n",
    "import re\n",
    "from collections import Counter\n",
    "from spacy.lang.en import stop_words\n",
    "\n",
    "\n",
    "import nltk\n",
    "from nltk.corpus import words\n",
    "nltk.download('words')\n",
    "\n",
    "\n",
    "DICT_WORDS_COUNT = 1000\n",
    "stopwords = stop_words.STOP_WORDS"
   ]
  },
  {
   "cell_type": "code",
   "execution_count": 6,
   "metadata": {},
   "outputs": [
    {
     "data": {
      "text/plain": [
       "236736"
      ]
     },
     "execution_count": 6,
     "metadata": {},
     "output_type": "execute_result"
    }
   ],
   "source": [
    "english_words_corpora = words.words()\n",
    "len(english_words_corpora)"
   ]
  },
  {
   "cell_type": "code",
   "execution_count": 7,
   "metadata": {},
   "outputs": [],
   "source": [
    "def clean_text(text):\n",
    "\n",
    "    if 'Lines:' in text:\n",
    "        start = text.index('Lines:') + 5\n",
    "        text = text[start:]\n",
    "\n",
    "    text = text.lower()\n",
    "\n",
    "    text = re.sub(r'[\\w\\d.]+@[\\w\\d]+.[\\w\\d]+', ' ', text)\n",
    "    text = re.sub(r'(http|https)://[\\w\\d/.]+', ' ', text)\n",
    "\n",
    "    text = re.sub(r'[^a-z]', ' ', text)\n",
    "\n",
    "    text = re.sub(r'([^\\w]|[-_])+', ' ', text)\n",
    "    text = re.sub(r'\\d+', ' ', text)\n",
    "    text = re.sub(r'(.)\\1{2,}', r'\\1', text)\n",
    "    text = re.sub(r'\\s+', ' ', text)\n",
    "\n",
    "    text = text.strip()\n",
    "    \n",
    "    words = [\n",
    "        w for w in text.split() \\\n",
    "            if len(w) > 3 and \\\n",
    "                w not in stopwords and \\\n",
    "                w in english_words_corpora\n",
    "    ]\n",
    "\n",
    "    return ' '.join(words)"
   ]
  },
  {
   "cell_type": "code",
   "execution_count": 9,
   "metadata": {},
   "outputs": [],
   "source": [
    "from random import randint, seed\n",
    "import warnings\n",
    "warnings.filterwarnings('ignore')"
   ]
  },
  {
   "cell_type": "code",
   "execution_count": 10,
   "metadata": {},
   "outputs": [],
   "source": [
    "seed(4242)\n",
    "samples1000 = list(filter(lambda it: randint(0, 9) == 0, zip(train_data['data'], train_data['target'])))\n",
    "# samples1000 = list(zip(train_data['data'], train_data['target']))"
   ]
  },
  {
   "cell_type": "code",
   "execution_count": 11,
   "metadata": {},
   "outputs": [
    {
     "data": {
      "image/png": "[encoded data removed]",
      "text/plain": [
       "<Figure size 640x480 with 1 Axes>"
      ]
     },
     "metadata": {},
     "output_type": "display_data"
    }
   ],
   "source": [
    "texts1000, targets1000 = zip(*samples1000)\n",
    "plt.hist(targets1000, bins=20)\n",
    "None"
   ]
  },
  {
   "cell_type": "code",
   "execution_count": 12,
   "metadata": {},
   "outputs": [
    {
     "name": "stderr",
     "output_type": "stream",
     "text": [
      "Train texts: 100%|██████████| 1131/1131 [01:37<00:00, 11.57it/s]\n"
     ]
    }
   ],
   "source": [
    "clean_train_texts = [\n",
    "    clean_text(text) for text, target in tqdm(samples1000, desc='Train texts')\n",
    "]"
   ]
  },
  {
   "cell_type": "markdown",
   "metadata": {},
   "source": [
    "## LDA"
   ]
  },
  {
   "cell_type": "code",
   "execution_count": 13,
   "metadata": {},
   "outputs": [],
   "source": [
    "import numpy as np\n",
    "from sklearn.feature_extraction.text import CountVectorizer\n",
    "from gensim import corpora, models\n",
    "from gensim.utils import simple_preprocess\n",
    "from sklearn.feature_extraction.text import TfidfVectorizer"
   ]
  },
  {
   "cell_type": "code",
   "execution_count": 14,
   "metadata": {},
   "outputs": [],
   "source": [
    "# Preprocess the text data and create a list of tokenized documents\n",
    "tokenized_documents = [simple_preprocess(text) for text in clean_train_texts]\n",
    "\n",
    "# Create a dictionary mapping of words to unique IDs\n",
    "dictionary = corpora.Dictionary(tokenized_documents)\n",
    "\n",
    "# Create a Bag of Words (BoW) representation of the documents\n",
    "bow_corpus = [dictionary.doc2bow(doc) for doc in tokenized_documents]"
   ]
  },
  {
   "cell_type": "code",
   "execution_count": 15,
   "metadata": {},
   "outputs": [],
   "source": [
    "# Create a TF-IDF model\n",
    "tfidf = models.TfidfModel(bow_corpus)\n",
    "corpus_tfidf = tfidf[bow_corpus]"
   ]
  },
  {
   "cell_type": "code",
   "execution_count": 16,
   "metadata": {},
   "outputs": [
    {
     "name": "stdout",
     "output_type": "stream",
     "text": [
      "(19, '0.000*\"pollux\" + 0.000*\"leadoff\" + 0.000*\"yesterday\" + 0.000*\"bigot\" + 0.000*\"conine\"')\n",
      "(17, '0.030*\"network\" + 0.027*\"blood\" + 0.021*\"brad\" + 0.013*\"possibility\" + 0.013*\"stolen\"')\n",
      "(12, '0.047*\"access\" + 0.037*\"state\" + 0.022*\"expressed\" + 0.018*\"steven\" + 0.010*\"employer\"')\n",
      "(39, '0.000*\"pollux\" + 0.000*\"leadoff\" + 0.000*\"yesterday\" + 0.000*\"bigot\" + 0.000*\"conine\"')\n",
      "(98, '0.010*\"friendship\" + 0.005*\"surely\" + 0.004*\"offended\" + 0.003*\"striving\" + 0.003*\"complication\"')\n",
      "(60, '0.000*\"pollux\" + 0.000*\"leadoff\" + 0.000*\"yesterday\" + 0.000*\"bigot\" + 0.000*\"conine\"')\n",
      "(30, '0.017*\"penalty\" + 0.013*\"king\" + 0.013*\"temple\" + 0.011*\"guilty\" + 0.009*\"stratus\"')\n",
      "(47, '0.009*\"interference\" + 0.003*\"manipulation\" + 0.003*\"boss\" + 0.003*\"ideological\" + 0.002*\"cultural\"')\n",
      "(10, '0.000*\"pollux\" + 0.000*\"leadoff\" + 0.000*\"yesterday\" + 0.000*\"bigot\" + 0.000*\"conine\"')\n",
      "(43, '0.000*\"pollux\" + 0.000*\"leadoff\" + 0.000*\"yesterday\" + 0.000*\"bigot\" + 0.000*\"conine\"')\n",
      "(82, '0.000*\"pollux\" + 0.000*\"leadoff\" + 0.000*\"yesterday\" + 0.000*\"bigot\" + 0.000*\"conine\"')\n",
      "(24, '0.000*\"pollux\" + 0.000*\"leadoff\" + 0.000*\"yesterday\" + 0.000*\"bigot\" + 0.000*\"conine\"')\n",
      "(4, '0.000*\"pollux\" + 0.000*\"leadoff\" + 0.000*\"yesterday\" + 0.000*\"bigot\" + 0.000*\"conine\"')\n",
      "(79, '0.000*\"pollux\" + 0.000*\"leadoff\" + 0.000*\"yesterday\" + 0.000*\"bigot\" + 0.000*\"conine\"')\n",
      "(76, '0.065*\"drive\" + 0.034*\"data\" + 0.023*\"comes\" + 0.020*\"mode\" + 0.019*\"interface\"')\n",
      "(88, '0.009*\"blah\" + 0.007*\"obstruction\" + 0.007*\"forgot\" + 0.003*\"defendant\" + 0.002*\"phrase\"')\n",
      "(54, '0.000*\"pollux\" + 0.000*\"leadoff\" + 0.000*\"yesterday\" + 0.000*\"bigot\" + 0.000*\"conine\"')\n",
      "(80, '0.028*\"serial\" + 0.021*\"chips\" + 0.018*\"unit\" + 0.016*\"cover\" + 0.014*\"algorithm\"')\n",
      "(50, '0.000*\"pollux\" + 0.000*\"leadoff\" + 0.000*\"yesterday\" + 0.000*\"bigot\" + 0.000*\"conine\"')\n",
      "(51, '0.044*\"space\" + 0.017*\"station\" + 0.004*\"planetary\" + 0.004*\"foundation\" + 0.003*\"banquet\"')\n"
     ]
    }
   ],
   "source": [
    "lda_model = models.LdaModel(corpus_tfidf, num_topics=100, id2word=dictionary, passes=15)\n",
    "\n",
    "for topic in lda_model.print_topics(num_words=5):\n",
    "    print(topic)\n",
    "\n",
    "\n",
    "document_topic_vectors = []\n",
    "for doc_bow in corpus_tfidf:\n",
    "    document_topics = lda_model.get_document_topics(doc_bow, minimum_probability=0.0)\n",
    "    document_topic_vector = [topic_prob for _, topic_prob in document_topics]\n",
    "    document_topic_vectors.append(document_topic_vector)"
   ]
  },
  {
   "cell_type": "code",
   "execution_count": 17,
   "metadata": {},
   "outputs": [
    {
     "name": "stdout",
     "output_type": "stream",
     "text": [
      "Document 1 Topic Vector: [0.000244353, 0.000244353, 0.000244353, 0.000244353, 0.000244353, 0.000244353, 0.000244353, 0.000244353, 0.000244353, 0.024710925, 0.000244353, 0.000244353, 0.024674812, 0.000244353, 0.000244353, 0.000244353, 0.000244353, 0.000244353, 0.000244353, 0.000244353, 0.000244353, 0.000244353, 0.024669854, 0.000244353, 0.000244353, 0.000244353, 0.15171635, 0.000244353, 0.067196384, 0.000244353, 0.000244353, 0.000244353, 0.02467251, 0.000244353, 0.000244353, 0.000244353, 0.000244353, 0.000244353, 0.000244353, 0.000244353, 0.000244353, 0.0480154, 0.0818073, 0.000244353, 0.000244353, 0.000244353, 0.000244353, 0.000244353, 0.000244353, 0.000244353, 0.000244353, 0.000244353, 0.000244353, 0.000244353, 0.000244353, 0.000244353, 0.000244353, 0.000244353, 0.000244353, 0.000244353, 0.000244353, 0.000244353, 0.000244353, 0.35964513, 0.000244353, 0.000244353, 0.000244353, 0.025754353, 0.000244353, 0.023799868, 0.000244353, 0.000244353, 0.000244353, 0.024638465, 0.000244353, 0.000244353, 0.024620824, 0.000244353, 0.000244353, 0.000244353, 0.023967013, 0.000244353, 0.000244353, 0.000244353, 0.000244353, 0.000244353, 0.024783323, 0.000244353, 0.000244353, 0.000244353, 0.000244353, 0.000244353, 0.000244353, 0.000244353, 0.000244353, 0.000244353, 0.000244353, 0.024801841, 0.000244353, 0.000244353]\n",
      "Document 2 Topic Vector: [9.0262314e-05, 9.0262314e-05, 9.0262314e-05, 9.0262314e-05, 9.0262314e-05, 9.0262314e-05, 9.0262314e-05, 9.0262314e-05, 9.0262314e-05, 0.009101593, 9.0262314e-05, 9.0262314e-05, 9.0262314e-05, 9.0262314e-05, 9.0262314e-05, 9.0262314e-05, 9.0262314e-05, 9.0262314e-05, 0.009107446, 9.0262314e-05, 9.0262314e-05, 9.0262314e-05, 9.0262314e-05, 9.0262314e-05, 9.0262314e-05, 9.0262314e-05, 0.31883532, 9.0262314e-05, 0.032857236, 9.0262314e-05, 9.0262314e-05, 9.0262314e-05, 0.009109293, 9.0262314e-05, 9.0262314e-05, 9.0262314e-05, 9.0262314e-05, 9.0262314e-05, 9.0262314e-05, 9.0262314e-05, 9.0262314e-05, 9.0262314e-05, 0.010200528, 9.0262314e-05, 9.0262314e-05, 9.0262314e-05, 9.0262314e-05, 9.0262314e-05, 9.0262314e-05, 9.0262314e-05, 9.0262314e-05, 0.00877359, 9.0262314e-05, 9.0262314e-05, 9.0262314e-05, 9.0262314e-05, 9.0262314e-05, 0.009334838, 9.0262314e-05, 9.0262314e-05, 9.0262314e-05, 9.0262314e-05, 0.058470063, 0.33907127, 9.0262314e-05, 9.0262314e-05, 9.0262314e-05, 0.009110512, 9.0262314e-05, 9.0262314e-05, 9.0262314e-05, 0.018130591, 9.0262314e-05, 9.0262314e-05, 9.0262314e-05, 9.0262314e-05, 0.03508636, 9.0262314e-05, 0.009083794, 9.0262314e-05, 9.0262314e-05, 0.0091017755, 9.0262314e-05, 9.0262314e-05, 9.0262314e-05, 9.0262314e-05, 0.01836349, 9.0262314e-05, 9.0262314e-05, 0.017729351, 9.0262314e-05, 9.0262314e-05, 9.0262314e-05, 9.0262314e-05, 0.036163617, 0.009103534, 9.0262314e-05, 0.02604483, 9.0262314e-05, 9.0262314e-05]\n",
      "Document 3 Topic Vector: [0.0005884504, 0.0005884504, 0.0005884504, 0.0005884504, 0.0005884504, 0.0005884504, 0.0005884504, 0.0005884504, 0.0005884504, 0.0005884504, 0.0005884504, 0.0005884504, 0.0005884504, 0.0005884504, 0.0005884504, 0.0005884504, 0.0005884504, 0.0005884504, 0.0005884504, 0.0005884504, 0.06990421, 0.0005884504, 0.0005884504, 0.0005884504, 0.0005884504, 0.0005884504, 0.075086094, 0.0005884504, 0.1537526, 0.0005884504, 0.0005884504, 0.0005884504, 0.0005884504, 0.0005884504, 0.0005884504, 0.0005884504, 0.0005884504, 0.0005884504, 0.0005884504, 0.0005884504, 0.0005884504, 0.049304172, 0.1182723, 0.0005884504, 0.0005884504, 0.0005884504, 0.0005884504, 0.0005884504, 0.0005884504, 0.0005884504, 0.0005884504, 0.0005884504, 0.0005884504, 0.0005884504, 0.0005884504, 0.0005884504, 0.0005884504, 0.0005884504, 0.0005884504, 0.0005884504, 0.0005884504, 0.0005884504, 0.076089345, 0.22027533, 0.0005884504, 0.0005884504, 0.0005884504, 0.06877666, 0.0005884504, 0.0005884504, 0.0005884504, 0.059414543, 0.0005884504, 0.0005884504, 0.0005884504, 0.0005884504, 0.056164198, 0.0005884504, 0.0005884504, 0.0005884504, 0.0005884504, 0.0005884504, 0.0005884504, 0.0005884504, 0.0005884504, 0.0005884504, 0.0005884504, 0.0005884504, 0.0005884504, 0.0005884504, 0.0005884504, 0.0005884504, 0.0005884504, 0.0005884504, 0.0005884504, 0.0005884504, 0.0005884504, 0.0005884504, 0.0005884504, 0.0005884504]\n",
      "Document 4 Topic Vector: [0.00021762242, 0.00021762242, 0.00021762242, 0.06549754, 0.00021762242, 0.00021762242, 0.00021762242, 0.00021762242, 0.00021762242, 0.00021762242, 0.00021762242, 0.00021762242, 0.00021762242, 0.021960754, 0.00021762242, 0.00021762242, 0.00021762242, 0.02195537, 0.00021762242, 0.00021762242, 0.17294416, 0.00021762242, 0.00021762242, 0.00021762242, 0.00021762242, 0.00021762242, 0.03672032, 0.00021762242, 0.00021762242, 0.00021762242, 0.00021762242, 0.00021762242, 0.00021762242, 0.00021762242, 0.00021762242, 0.00021762242, 0.021972073, 0.00021762242, 0.00021762242, 0.00021762242, 0.00021762242, 0.021971336, 0.0729823, 0.00021762242, 0.00021762242, 0.00021762242, 0.00021762242, 0.00021762242, 0.00021762242, 0.00021762242, 0.00021762242, 0.00021762242, 0.00021762242, 0.00021762242, 0.00021762242, 0.00021762242, 0.00021762242, 0.00021762242, 0.00021762242, 0.00021762242, 0.00021762242, 0.00021762242, 0.024912305, 0.13642548, 0.00021762242, 0.00021762242, 0.00021762242, 0.00021762242, 0.00021762242, 0.00021762242, 0.00021762242, 0.032575835, 0.00021762242, 0.021938616, 0.00021762242, 0.00021762242, 0.022135537, 0.00021762242, 0.02194742, 0.00021762242, 0.13252969, 0.00021762242, 0.00021762242, 0.00021762242, 0.00021762242, 0.00021762242, 0.03314295, 0.00021762242, 0.00021762242, 0.00021762242, 0.00021762242, 0.00021762242, 0.00021762242, 0.00021762242, 0.00021762242, 0.00021762242, 0.00021762242, 0.12032566, 0.00021762242, 0.00021762242]\n",
      "Document 5 Topic Vector: [0.00023760108, 0.02746292, 0.00023760108, 0.00023760108, 0.00023760108, 0.00023760108, 0.00023760108, 0.00023760108, 0.00023760108, 0.00023760108, 0.00023760108, 0.00023760108, 0.00023760108, 0.00023760108, 0.00023760108, 0.00023760108, 0.00023760108, 0.00023760108, 0.047700863, 0.00023760108, 0.00023760108, 0.00023760108, 0.00023760108, 0.00023760108, 0.00023760108, 0.00023760108, 0.21453048, 0.00023760108, 0.06246727, 0.00023760108, 0.00023760108, 0.00023760108, 0.00023760108, 0.00023760108, 0.00023760108, 0.00023760108, 0.00023760108, 0.00023760108, 0.00023760108, 0.00023760108, 0.00023760108, 0.00023760108, 0.024088291, 0.00023760108, 0.00023760108, 0.00023760108, 0.00023760108, 0.00023760108, 0.00023760108, 0.00023760108, 0.00023760108, 0.00023760108, 0.00023760108, 0.00023760108, 0.00023760108, 0.00023760108, 0.00023760108, 0.15095435, 0.00023760108, 0.00023760108, 0.00023760108, 0.00023760108, 0.00023760108, 0.18934822, 0.00023760108, 0.00023760108, 0.00023760108, 0.02397968, 0.00023760108, 0.00023760108, 0.00023760108, 0.00023760108, 0.00023760108, 0.00023760108, 0.00023760108, 0.049256343, 0.047750212, 0.00023760108, 0.00023760108, 0.00023760108, 0.00023760108, 0.00023760108, 0.00023760108, 0.00023760108, 0.00023760108, 0.00023760108, 0.06998803, 0.024074648, 0.00023760108, 0.023982558, 0.00023760108, 0.00023760108, 0.00023760108, 0.00023760108, 0.00023760108, 0.00023760108, 0.00023760108, 0.02398246, 0.00023760108, 0.00023760108]\n"
     ]
    }
   ],
   "source": [
    "document_topic_vectors = []\n",
    "\n",
    "for i, doc_bow in enumerate(bow_corpus):\n",
    "    document_topics = lda_model.get_document_topics(doc_bow, minimum_probability=0.0)\n",
    "    document_topic_vector = [topic_prob for _, topic_prob in document_topics]\n",
    "    document_topic_vectors.append(document_topic_vector)\n",
    "\n",
    "    if i < 5:\n",
    "        print(f\"Document {i + 1} Topic Vector: {document_topic_vector}\")"
   ]
  },
  {
   "cell_type": "code",
   "execution_count": 18,
   "metadata": {},
   "outputs": [
    {
     "data": {
      "text/html": [
       "<div>\n",
       "<style scoped>\n",
       "    .dataframe tbody tr th:only-of-type {\n",
       "        vertical-align: middle;\n",
       "    }\n",
       "\n",
       "    .dataframe tbody tr th {\n",
       "        vertical-align: top;\n",
       "    }\n",
       "\n",
       "    .dataframe thead th {\n",
       "        text-align: right;\n",
       "    }\n",
       "</style>\n",
       "<table border=\"1\" class=\"dataframe\">\n",
       "  <thead>\n",
       "    <tr style=\"text-align: right;\">\n",
       "      <th></th>\n",
       "      <th>0</th>\n",
       "      <th>1</th>\n",
       "      <th>2</th>\n",
       "      <th>3</th>\n",
       "      <th>4</th>\n",
       "      <th>5</th>\n",
       "      <th>6</th>\n",
       "      <th>7</th>\n",
       "      <th>8</th>\n",
       "      <th>9</th>\n",
       "      <th>...</th>\n",
       "      <th>91</th>\n",
       "      <th>92</th>\n",
       "      <th>93</th>\n",
       "      <th>94</th>\n",
       "      <th>95</th>\n",
       "      <th>96</th>\n",
       "      <th>97</th>\n",
       "      <th>98</th>\n",
       "      <th>99</th>\n",
       "      <th>target</th>\n",
       "    </tr>\n",
       "  </thead>\n",
       "  <tbody>\n",
       "    <tr>\n",
       "      <th>0</th>\n",
       "      <td>0.000244</td>\n",
       "      <td>0.000244</td>\n",
       "      <td>0.000244</td>\n",
       "      <td>0.000244</td>\n",
       "      <td>0.000244</td>\n",
       "      <td>0.000244</td>\n",
       "      <td>0.000244</td>\n",
       "      <td>0.000244</td>\n",
       "      <td>0.000244</td>\n",
       "      <td>0.024711</td>\n",
       "      <td>...</td>\n",
       "      <td>0.000244</td>\n",
       "      <td>0.000244</td>\n",
       "      <td>0.000244</td>\n",
       "      <td>0.000244</td>\n",
       "      <td>0.000244</td>\n",
       "      <td>0.000244</td>\n",
       "      <td>0.024802</td>\n",
       "      <td>0.000244</td>\n",
       "      <td>0.000244</td>\n",
       "      <td>4</td>\n",
       "    </tr>\n",
       "    <tr>\n",
       "      <th>1</th>\n",
       "      <td>0.000090</td>\n",
       "      <td>0.000090</td>\n",
       "      <td>0.000090</td>\n",
       "      <td>0.000090</td>\n",
       "      <td>0.000090</td>\n",
       "      <td>0.000090</td>\n",
       "      <td>0.000090</td>\n",
       "      <td>0.000090</td>\n",
       "      <td>0.000090</td>\n",
       "      <td>0.009102</td>\n",
       "      <td>...</td>\n",
       "      <td>0.000090</td>\n",
       "      <td>0.000090</td>\n",
       "      <td>0.000090</td>\n",
       "      <td>0.036164</td>\n",
       "      <td>0.009104</td>\n",
       "      <td>0.000090</td>\n",
       "      <td>0.026045</td>\n",
       "      <td>0.000090</td>\n",
       "      <td>0.000090</td>\n",
       "      <td>19</td>\n",
       "    </tr>\n",
       "    <tr>\n",
       "      <th>2</th>\n",
       "      <td>0.000588</td>\n",
       "      <td>0.000588</td>\n",
       "      <td>0.000588</td>\n",
       "      <td>0.000588</td>\n",
       "      <td>0.000588</td>\n",
       "      <td>0.000588</td>\n",
       "      <td>0.000588</td>\n",
       "      <td>0.000588</td>\n",
       "      <td>0.000588</td>\n",
       "      <td>0.000588</td>\n",
       "      <td>...</td>\n",
       "      <td>0.000588</td>\n",
       "      <td>0.000588</td>\n",
       "      <td>0.000588</td>\n",
       "      <td>0.000588</td>\n",
       "      <td>0.000588</td>\n",
       "      <td>0.000588</td>\n",
       "      <td>0.000588</td>\n",
       "      <td>0.000588</td>\n",
       "      <td>0.000588</td>\n",
       "      <td>12</td>\n",
       "    </tr>\n",
       "    <tr>\n",
       "      <th>3</th>\n",
       "      <td>0.000218</td>\n",
       "      <td>0.000218</td>\n",
       "      <td>0.000218</td>\n",
       "      <td>0.065498</td>\n",
       "      <td>0.000218</td>\n",
       "      <td>0.000218</td>\n",
       "      <td>0.000218</td>\n",
       "      <td>0.000218</td>\n",
       "      <td>0.000218</td>\n",
       "      <td>0.000218</td>\n",
       "      <td>...</td>\n",
       "      <td>0.000218</td>\n",
       "      <td>0.000218</td>\n",
       "      <td>0.000218</td>\n",
       "      <td>0.000218</td>\n",
       "      <td>0.000218</td>\n",
       "      <td>0.000218</td>\n",
       "      <td>0.120326</td>\n",
       "      <td>0.000218</td>\n",
       "      <td>0.000218</td>\n",
       "      <td>6</td>\n",
       "    </tr>\n",
       "    <tr>\n",
       "      <th>4</th>\n",
       "      <td>0.000238</td>\n",
       "      <td>0.027463</td>\n",
       "      <td>0.000238</td>\n",
       "      <td>0.000238</td>\n",
       "      <td>0.000238</td>\n",
       "      <td>0.000238</td>\n",
       "      <td>0.000238</td>\n",
       "      <td>0.000238</td>\n",
       "      <td>0.000238</td>\n",
       "      <td>0.000238</td>\n",
       "      <td>...</td>\n",
       "      <td>0.000238</td>\n",
       "      <td>0.000238</td>\n",
       "      <td>0.000238</td>\n",
       "      <td>0.000238</td>\n",
       "      <td>0.000238</td>\n",
       "      <td>0.000238</td>\n",
       "      <td>0.023982</td>\n",
       "      <td>0.000238</td>\n",
       "      <td>0.000238</td>\n",
       "      <td>17</td>\n",
       "    </tr>\n",
       "    <tr>\n",
       "      <th>...</th>\n",
       "      <td>...</td>\n",
       "      <td>...</td>\n",
       "      <td>...</td>\n",
       "      <td>...</td>\n",
       "      <td>...</td>\n",
       "      <td>...</td>\n",
       "      <td>...</td>\n",
       "      <td>...</td>\n",
       "      <td>...</td>\n",
       "      <td>...</td>\n",
       "      <td>...</td>\n",
       "      <td>...</td>\n",
       "      <td>...</td>\n",
       "      <td>...</td>\n",
       "      <td>...</td>\n",
       "      <td>...</td>\n",
       "      <td>...</td>\n",
       "      <td>...</td>\n",
       "      <td>...</td>\n",
       "      <td>...</td>\n",
       "      <td>...</td>\n",
       "    </tr>\n",
       "    <tr>\n",
       "      <th>1126</th>\n",
       "      <td>0.000484</td>\n",
       "      <td>0.000484</td>\n",
       "      <td>0.000484</td>\n",
       "      <td>0.000484</td>\n",
       "      <td>0.000484</td>\n",
       "      <td>0.000484</td>\n",
       "      <td>0.000484</td>\n",
       "      <td>0.000484</td>\n",
       "      <td>0.000484</td>\n",
       "      <td>0.000484</td>\n",
       "      <td>...</td>\n",
       "      <td>0.000484</td>\n",
       "      <td>0.000484</td>\n",
       "      <td>0.000484</td>\n",
       "      <td>0.048880</td>\n",
       "      <td>0.000484</td>\n",
       "      <td>0.000484</td>\n",
       "      <td>0.000484</td>\n",
       "      <td>0.000484</td>\n",
       "      <td>0.000484</td>\n",
       "      <td>15</td>\n",
       "    </tr>\n",
       "    <tr>\n",
       "      <th>1127</th>\n",
       "      <td>0.000334</td>\n",
       "      <td>0.000334</td>\n",
       "      <td>0.000334</td>\n",
       "      <td>0.000334</td>\n",
       "      <td>0.000334</td>\n",
       "      <td>0.000334</td>\n",
       "      <td>0.000334</td>\n",
       "      <td>0.000334</td>\n",
       "      <td>0.000334</td>\n",
       "      <td>0.000334</td>\n",
       "      <td>...</td>\n",
       "      <td>0.000334</td>\n",
       "      <td>0.000334</td>\n",
       "      <td>0.000334</td>\n",
       "      <td>0.000334</td>\n",
       "      <td>0.000334</td>\n",
       "      <td>0.000334</td>\n",
       "      <td>0.000334</td>\n",
       "      <td>0.000334</td>\n",
       "      <td>0.000334</td>\n",
       "      <td>8</td>\n",
       "    </tr>\n",
       "    <tr>\n",
       "      <th>1128</th>\n",
       "      <td>0.000625</td>\n",
       "      <td>0.000625</td>\n",
       "      <td>0.000625</td>\n",
       "      <td>0.000625</td>\n",
       "      <td>0.000625</td>\n",
       "      <td>0.000625</td>\n",
       "      <td>0.000625</td>\n",
       "      <td>0.000625</td>\n",
       "      <td>0.000625</td>\n",
       "      <td>0.063119</td>\n",
       "      <td>...</td>\n",
       "      <td>0.000625</td>\n",
       "      <td>0.000625</td>\n",
       "      <td>0.000625</td>\n",
       "      <td>0.000625</td>\n",
       "      <td>0.000625</td>\n",
       "      <td>0.000625</td>\n",
       "      <td>0.188135</td>\n",
       "      <td>0.000625</td>\n",
       "      <td>0.000625</td>\n",
       "      <td>2</td>\n",
       "    </tr>\n",
       "    <tr>\n",
       "      <th>1129</th>\n",
       "      <td>0.000560</td>\n",
       "      <td>0.000560</td>\n",
       "      <td>0.000560</td>\n",
       "      <td>0.000560</td>\n",
       "      <td>0.000560</td>\n",
       "      <td>0.000560</td>\n",
       "      <td>0.000560</td>\n",
       "      <td>0.000560</td>\n",
       "      <td>0.000560</td>\n",
       "      <td>0.000560</td>\n",
       "      <td>...</td>\n",
       "      <td>0.000560</td>\n",
       "      <td>0.000560</td>\n",
       "      <td>0.000560</td>\n",
       "      <td>0.112508</td>\n",
       "      <td>0.000560</td>\n",
       "      <td>0.000560</td>\n",
       "      <td>0.112507</td>\n",
       "      <td>0.000560</td>\n",
       "      <td>0.000560</td>\n",
       "      <td>5</td>\n",
       "    </tr>\n",
       "    <tr>\n",
       "      <th>1130</th>\n",
       "      <td>0.001284</td>\n",
       "      <td>0.001284</td>\n",
       "      <td>0.001284</td>\n",
       "      <td>0.001284</td>\n",
       "      <td>0.001284</td>\n",
       "      <td>0.001284</td>\n",
       "      <td>0.001284</td>\n",
       "      <td>0.001284</td>\n",
       "      <td>0.001284</td>\n",
       "      <td>0.001284</td>\n",
       "      <td>...</td>\n",
       "      <td>0.001284</td>\n",
       "      <td>0.001284</td>\n",
       "      <td>0.001284</td>\n",
       "      <td>0.001284</td>\n",
       "      <td>0.001284</td>\n",
       "      <td>0.001284</td>\n",
       "      <td>0.001284</td>\n",
       "      <td>0.001284</td>\n",
       "      <td>0.001284</td>\n",
       "      <td>5</td>\n",
       "    </tr>\n",
       "  </tbody>\n",
       "</table>\n",
       "<p>1131 rows × 101 columns</p>\n",
       "</div>"
      ],
      "text/plain": [
       "             0         1         2         3         4         5         6  \\\n",
       "0     0.000244  0.000244  0.000244  0.000244  0.000244  0.000244  0.000244   \n",
       "1     0.000090  0.000090  0.000090  0.000090  0.000090  0.000090  0.000090   \n",
       "2     0.000588  0.000588  0.000588  0.000588  0.000588  0.000588  0.000588   \n",
       "3     0.000218  0.000218  0.000218  0.065498  0.000218  0.000218  0.000218   \n",
       "4     0.000238  0.027463  0.000238  0.000238  0.000238  0.000238  0.000238   \n",
       "...        ...       ...       ...       ...       ...       ...       ...   \n",
       "1126  0.000484  0.000484  0.000484  0.000484  0.000484  0.000484  0.000484   \n",
       "1127  0.000334  0.000334  0.000334  0.000334  0.000334  0.000334  0.000334   \n",
       "1128  0.000625  0.000625  0.000625  0.000625  0.000625  0.000625  0.000625   \n",
       "1129  0.000560  0.000560  0.000560  0.000560  0.000560  0.000560  0.000560   \n",
       "1130  0.001284  0.001284  0.001284  0.001284  0.001284  0.001284  0.001284   \n",
       "\n",
       "             7         8         9  ...        91        92        93  \\\n",
       "0     0.000244  0.000244  0.024711  ...  0.000244  0.000244  0.000244   \n",
       "1     0.000090  0.000090  0.009102  ...  0.000090  0.000090  0.000090   \n",
       "2     0.000588  0.000588  0.000588  ...  0.000588  0.000588  0.000588   \n",
       "3     0.000218  0.000218  0.000218  ...  0.000218  0.000218  0.000218   \n",
       "4     0.000238  0.000238  0.000238  ...  0.000238  0.000238  0.000238   \n",
       "...        ...       ...       ...  ...       ...       ...       ...   \n",
       "1126  0.000484  0.000484  0.000484  ...  0.000484  0.000484  0.000484   \n",
       "1127  0.000334  0.000334  0.000334  ...  0.000334  0.000334  0.000334   \n",
       "1128  0.000625  0.000625  0.063119  ...  0.000625  0.000625  0.000625   \n",
       "1129  0.000560  0.000560  0.000560  ...  0.000560  0.000560  0.000560   \n",
       "1130  0.001284  0.001284  0.001284  ...  0.001284  0.001284  0.001284   \n",
       "\n",
       "            94        95        96        97        98        99  target  \n",
       "0     0.000244  0.000244  0.000244  0.024802  0.000244  0.000244       4  \n",
       "1     0.036164  0.009104  0.000090  0.026045  0.000090  0.000090      19  \n",
       "2     0.000588  0.000588  0.000588  0.000588  0.000588  0.000588      12  \n",
       "3     0.000218  0.000218  0.000218  0.120326  0.000218  0.000218       6  \n",
       "4     0.000238  0.000238  0.000238  0.023982  0.000238  0.000238      17  \n",
       "...        ...       ...       ...       ...       ...       ...     ...  \n",
       "1126  0.048880  0.000484  0.000484  0.000484  0.000484  0.000484      15  \n",
       "1127  0.000334  0.000334  0.000334  0.000334  0.000334  0.000334       8  \n",
       "1128  0.000625  0.000625  0.000625  0.188135  0.000625  0.000625       2  \n",
       "1129  0.112508  0.000560  0.000560  0.112507  0.000560  0.000560       5  \n",
       "1130  0.001284  0.001284  0.001284  0.001284  0.001284  0.001284       5  \n",
       "\n",
       "[1131 rows x 101 columns]"
      ]
     },
     "execution_count": 18,
     "metadata": {},
     "output_type": "execute_result"
    }
   ],
   "source": [
    "df = pd.DataFrame(document_topic_vectors)\n",
    "df['target'] = targets1000\n",
    "df"
   ]
  },
  {
   "cell_type": "markdown",
   "metadata": {},
   "source": [
    "## Training"
   ]
  },
  {
   "cell_type": "code",
   "execution_count": 19,
   "metadata": {},
   "outputs": [],
   "source": [
    "from sklearn.tree import DecisionTreeClassifier\n",
    "from sklearn.model_selection import train_test_split\n",
    "from sklearn.metrics import f1_score, accuracy_score"
   ]
  },
  {
   "cell_type": "code",
   "execution_count": 20,
   "metadata": {},
   "outputs": [
    {
     "name": "stdout",
     "output_type": "stream",
     "text": [
      "max_depth=   8    =>    acc=0.1278, macro-f1=0.1243\n",
      "\n",
      "max_depth=  16    =>    acc=0.1410, macro-f1=0.1449\n",
      "\n",
      "max_depth=  32    =>    acc=0.1410, macro-f1=0.1437\n",
      "\n",
      "max_depth=  64    =>    acc=0.1454, macro-f1=0.1455\n",
      "\n"
     ]
    }
   ],
   "source": [
    "for md in [8, 16, 32, 64]:\n",
    "\n",
    "    md = int(md)\n",
    "\n",
    "    X_train, X_val, y_train, y_val = train_test_split(\n",
    "        df.drop('target', axis=1),\n",
    "        df['target'],\n",
    "        test_size=0.2,\n",
    "        shuffle=True,\n",
    "        random_state=42,\n",
    "    )\n",
    "                \n",
    "    clf = DecisionTreeClassifier(\n",
    "        max_depth=md,\n",
    "        random_state=42,\n",
    "    )\n",
    "    clf.fit(X_train, y_train)\n",
    "\n",
    "    y_pred = clf.predict(X_val)\n",
    "    acc = accuracy_score(y_val, y_pred)\n",
    "    f1 = f1_score(y_val, y_pred, average='macro')\n",
    "\n",
    "    print(f'max_depth={md:4d}    =>    acc={acc:.4f}, macro-f1={f1:.4f}')\n",
    "    print()"
   ]
  },
  {
   "cell_type": "code",
   "execution_count": 21,
   "metadata": {},
   "outputs": [],
   "source": [
    "! pip install -qq catboost"
   ]
  },
  {
   "cell_type": "code",
   "execution_count": 22,
   "metadata": {},
   "outputs": [],
   "source": [
    "from catboost import CatBoostClassifier"
   ]
  },
  {
   "cell_type": "code",
   "execution_count": 23,
   "metadata": {},
   "outputs": [
    {
     "name": "stdout",
     "output_type": "stream",
     "text": [
      "Learning rate set to 0.075934\n",
      "0:\tlearn: 2.9749174\ttest: 2.9882998\tbest: 2.9882998 (0)\ttotal: 118ms\tremaining: 4m 53s\n",
      "200:\tlearn: 1.2821182\ttest: 2.5402804\tbest: 2.5402804 (200)\ttotal: 11.8s\tremaining: 2m 14s\n",
      "400:\tlearn: 0.7776001\ttest: 2.4863475\tbest: 2.4863475 (400)\ttotal: 23.2s\tremaining: 2m 1s\n",
      "Stopped by overfitting detector  (100 iterations wait)\n",
      "\n",
      "bestTest = 2.477796727\n",
      "bestIteration = 465\n",
      "\n",
      "Shrink model to first 466 iterations.\n",
      "\n",
      "acc=0.2467, macro-f1=0.2260\n"
     ]
    }
   ],
   "source": [
    "X_train, X_val, y_train, y_val = train_test_split(\n",
    "    df.drop('target', axis=1),\n",
    "    df['target'],\n",
    "    test_size=0.2,\n",
    "    shuffle=True,\n",
    "    random_state=42,\n",
    ")\n",
    "            \n",
    "clf = CatBoostClassifier(\n",
    "    iterations=2500,\n",
    "    verbose=200,\n",
    ")\n",
    "clf.fit(\n",
    "    X=X_train,\n",
    "    y=y_train,\n",
    "    eval_set=(X_val, y_val),\n",
    "    early_stopping_rounds=100,\n",
    ")\n",
    "\n",
    "y_pred = clf.predict(X_val)\n",
    "acc = accuracy_score(y_val, y_pred)\n",
    "f1 = f1_score(y_val, y_pred, average='macro')\n",
    "\n",
    "print()\n",
    "print(f'acc={acc:.4f}, macro-f1={f1:.4f}')"
   ]
  },
  {
   "cell_type": "code",
   "execution_count": null,
   "metadata": {},
   "outputs": [],
   "source": []
  },
  {
   "cell_type": "code",
   "execution_count": null,
   "metadata": {},
   "outputs": [],
   "source": []
  },
  {
   "cell_type": "code",
   "execution_count": null,
   "metadata": {},
   "outputs": [],
   "source": []
  }
 ],
 "metadata": {
  "kernelspec": {
   "display_name": "base",
   "language": "python",
   "name": "python3"
  },
  "language_info": {
   "codemirror_mode": {
    "name": "ipython",
    "version": 3
   },
   "file_extension": ".py",
   "mimetype": "text/x-python",
   "name": "python",
   "nbconvert_exporter": "python",
   "pygments_lexer": "ipython3",
   "version": "3.11.5"
  }
 },
 "nbformat": 4,
 "nbformat_minor": 2
}
