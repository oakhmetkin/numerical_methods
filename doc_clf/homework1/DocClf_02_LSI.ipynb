{
 "cells": [
  {
   "cell_type": "markdown",
   "metadata": {},
   "source": [
    "# Задание практика №2\n",
    "\n",
    "Обучить классификатор и классифицировать тексты, используя для представления документов вектора полученные с помощью LSA (латентно-семантический анализ).  В случае ЛСА используется матрица терм-документ, ячейки матрицы содержат вес TF-IDF каждого терма (слова) в соответствующем документе. До построения матрицы тексты нужно предобратотать"
   ]
  },
  {
   "cell_type": "code",
   "execution_count": 6,
   "metadata": {},
   "outputs": [],
   "source": [
    "import numpy as np\n",
    "import pandas as pd\n",
    "import matplotlib.pyplot as plt\n",
    "%matplotlib inline"
   ]
  },
  {
   "cell_type": "markdown",
   "metadata": {},
   "source": [
    "## Dataset"
   ]
  },
  {
   "cell_type": "code",
   "execution_count": 7,
   "metadata": {},
   "outputs": [
    {
     "data": {
      "text/plain": [
       "(11314, 7532)"
      ]
     },
     "execution_count": 7,
     "metadata": {},
     "output_type": "execute_result"
    }
   ],
   "source": [
    "from sklearn.datasets import fetch_20newsgroups\n",
    "\n",
    "\n",
    "train_data = fetch_20newsgroups(subset='train')\n",
    "val_data = fetch_20newsgroups(subset='test')\n",
    "\n",
    "len(train_data['data']), len(val_data['data'])"
   ]
  },
  {
   "cell_type": "code",
   "execution_count": 8,
   "metadata": {},
   "outputs": [
    {
     "data": {
      "image/png": "[encoded data removed]",
      "text/plain": [
       "<Figure size 640x480 with 1 Axes>"
      ]
     },
     "metadata": {},
     "output_type": "display_data"
    }
   ],
   "source": [
    "plt.hist(train_data['target'], bins=20)\n",
    "None"
   ]
  },
  {
   "cell_type": "markdown",
   "metadata": {},
   "source": [
    "## Text preprocessing"
   ]
  },
  {
   "cell_type": "code",
   "execution_count": 9,
   "metadata": {},
   "outputs": [],
   "source": [
    "! pip install -qq spacy"
   ]
  },
  {
   "cell_type": "code",
   "execution_count": 10,
   "metadata": {},
   "outputs": [
    {
     "name": "stderr",
     "output_type": "stream",
     "text": [
      "[nltk_data] Downloading package words to /Users/ktann/nltk_data...\n",
      "[nltk_data]   Package words is already up-to-date!\n"
     ]
    }
   ],
   "source": [
    "from tqdm import tqdm\n",
    "import re\n",
    "from collections import Counter\n",
    "from spacy.lang.en import stop_words\n",
    "\n",
    "\n",
    "import nltk\n",
    "from nltk.corpus import words\n",
    "nltk.download('words')\n",
    "\n",
    "\n",
    "DICT_WORDS_COUNT = 1000\n",
    "stopwords = stop_words.STOP_WORDS"
   ]
  },
  {
   "cell_type": "code",
   "execution_count": 11,
   "metadata": {},
   "outputs": [
    {
     "data": {
      "text/plain": [
       "236736"
      ]
     },
     "execution_count": 11,
     "metadata": {},
     "output_type": "execute_result"
    }
   ],
   "source": [
    "english_words_corpora = words.words()\n",
    "len(english_words_corpora)"
   ]
  },
  {
   "cell_type": "code",
   "execution_count": 12,
   "metadata": {},
   "outputs": [],
   "source": [
    "from nltk.stem import SnowballStemmer\n",
    "stemmer = SnowballStemmer('english')"
   ]
  },
  {
   "cell_type": "code",
   "execution_count": 13,
   "metadata": {},
   "outputs": [],
   "source": [
    "def clean_text(text):\n",
    "\n",
    "    if 'Lines:' in text:\n",
    "        start = text.index('Lines:') + 5\n",
    "        text = text[start:]\n",
    "\n",
    "    text = text.lower()\n",
    "\n",
    "    text = re.sub(r'[\\w\\d.]+@[\\w\\d]+.[\\w\\d]+', ' ', text)\n",
    "    text = re.sub(r'(http|https)://[\\w\\d/.]+', ' ', text)\n",
    "\n",
    "    text = re.sub(r'[^a-z]', ' ', text)\n",
    "\n",
    "    text = re.sub(r'([^\\w]|[-_])+', ' ', text)\n",
    "    text = re.sub(r'\\d+', ' ', text)\n",
    "    text = re.sub(r'(.)\\1{2,}', r'\\1', text)\n",
    "    text = re.sub(r'\\s+', ' ', text)\n",
    "\n",
    "    text = text.strip()\n",
    "    \n",
    "    # words = [\n",
    "    #     w for w in text.split() \\\n",
    "    #         if len(w) > 3 and \\\n",
    "    #             w not in stopwords and \\\n",
    "    #             w in english_words_corpora\n",
    "    # ]\n",
    "    \n",
    "    words = [\n",
    "        stemmer.stem(w) for w in text.split() \\\n",
    "            if len(w) > 3 and \\\n",
    "                w not in stopwords\n",
    "    ]\n",
    "\n",
    "    \n",
    "\n",
    "    return ' '.join(words)"
   ]
  },
  {
   "cell_type": "code",
   "execution_count": 14,
   "metadata": {},
   "outputs": [
    {
     "name": "stdout",
     "output_type": "stream",
     "text": [
      "From: lerxst@wam.umd.edu (where's my thing)\n",
      "Subject: WHAT car is this!?\n",
      "Nntp-Posting-Host: rac3.wam.umd.edu\n",
      "Organization: University of Maryland, College Park\n",
      "Lines: 15\n",
      "\n",
      " I was wondering if anyone out there could enlighten me on this car I saw\n",
      "the other day. It was a 2-door sports car, looked to be from the late 60s/\n",
      "early 70s. It was called a Bricklin. The doors were really small. In addition,\n",
      "the front bumper was separate from the rest of the body. This is \n",
      "all I know. If anyone can tellme a model name, engine specs, years\n",
      "of production, where this car is made, history, or whatever info you\n",
      "have on this funky looking car, please e-mail.\n",
      "\n",
      "Thanks,\n",
      "- IL\n",
      "   ---- brought to you by your neighborhood Lerxst ----\n",
      "\n",
      "\n",
      "\n",
      "\n",
      "\n",
      "\n",
      "wonder enlighten door sport look late earli call bricklin door small addit bumper separ rest bodi know tellm model engin spec year product histori info funki look mail thank brought neighborhood lerxst\n"
     ]
    }
   ],
   "source": [
    "text = train_data['data'][0]\n",
    "print(text)\n",
    "print()\n",
    "\n",
    "print(clean_text(text))"
   ]
  },
  {
   "cell_type": "code",
   "execution_count": 15,
   "metadata": {},
   "outputs": [],
   "source": [
    "from random import randint, seed\n",
    "import warnings\n",
    "warnings.filterwarnings('ignore')"
   ]
  },
  {
   "cell_type": "code",
   "execution_count": 16,
   "metadata": {},
   "outputs": [],
   "source": [
    "seed(4242)\n",
    "# samples1000 = list(filter(lambda it: randint(0, 9) == 0, zip(train_data['data'], train_data['target'])))\n",
    "samples1000 = list(zip(train_data['data'], train_data['target']))"
   ]
  },
  {
   "cell_type": "code",
   "execution_count": 17,
   "metadata": {},
   "outputs": [
    {
     "data": {
      "image/png": "[encoded data removed]",
      "text/plain": [
       "<Figure size 640x480 with 1 Axes>"
      ]
     },
     "metadata": {},
     "output_type": "display_data"
    }
   ],
   "source": [
    "texts1000, targets1000 = zip(*samples1000)\n",
    "plt.hist(targets1000, bins=20)\n",
    "None"
   ]
  },
  {
   "cell_type": "code",
   "execution_count": 18,
   "metadata": {},
   "outputs": [
    {
     "name": "stderr",
     "output_type": "stream",
     "text": [
      "Train texts:   0%|          | 0/11314 [00:00<?, ?it/s]"
     ]
    },
    {
     "name": "stderr",
     "output_type": "stream",
     "text": [
      "Train texts: 100%|██████████| 11314/11314 [00:09<00:00, 1154.06it/s]\n"
     ]
    }
   ],
   "source": [
    "clean_train_texts = [\n",
    "    clean_text(text) for text, target in tqdm(samples1000, desc='Train texts')\n",
    "]"
   ]
  },
  {
   "cell_type": "markdown",
   "metadata": {},
   "source": [
    "## LSI"
   ]
  },
  {
   "cell_type": "code",
   "execution_count": 19,
   "metadata": {},
   "outputs": [],
   "source": [
    "import numpy as np\n",
    "from sklearn.feature_extraction.text import CountVectorizer\n",
    "from gensim import corpora, models\n",
    "from gensim.utils import simple_preprocess\n",
    "from sklearn.feature_extraction.text import TfidfVectorizer"
   ]
  },
  {
   "cell_type": "code",
   "execution_count": 20,
   "metadata": {},
   "outputs": [],
   "source": [
    "# Preprocess the text data and create a list of tokenized documents\n",
    "tokenized_documents = [simple_preprocess(text) for text in clean_train_texts]\n",
    "\n",
    "# Create a dictionary mapping of words to unique IDs\n",
    "dictionary = corpora.Dictionary(tokenized_documents)\n",
    "\n",
    "# Create a Bag of Words (BoW) representation of the documents\n",
    "bow_corpus = [dictionary.doc2bow(doc) for doc in tokenized_documents]"
   ]
  },
  {
   "cell_type": "code",
   "execution_count": 21,
   "metadata": {},
   "outputs": [],
   "source": [
    "# Create a TF-IDF model\n",
    "tfidf = models.TfidfModel(bow_corpus)\n",
    "corpus_tfidf = tfidf[bow_corpus]"
   ]
  },
  {
   "cell_type": "code",
   "execution_count": 22,
   "metadata": {},
   "outputs": [
    {
     "name": "stdout",
     "output_type": "stream",
     "text": [
      "(0, '0.114*\"peopl\" + 0.110*\"window\" + 0.100*\"like\" + 0.099*\"know\" + 0.097*\"think\" + 0.094*\"system\" + 0.091*\"drive\" + 0.090*\"post\" + 0.088*\"time\" + 0.083*\"work\"')\n",
      "(1, '0.321*\"window\" + 0.194*\"card\" + 0.188*\"drive\" + 0.179*\"file\" + -0.151*\"christian\" + 0.133*\"driver\" + 0.127*\"scsi\" + -0.125*\"peopl\" + 0.123*\"disk\" + 0.122*\"thank\"')\n",
      "(2, '0.400*\"game\" + 0.299*\"team\" + 0.208*\"player\" + 0.177*\"play\" + -0.159*\"encrypt\" + 0.146*\"hockey\" + 0.141*\"season\" + 0.134*\"score\" + -0.120*\"chip\" + 0.114*\"year\"')\n",
      "(3, '-0.325*\"encrypt\" + -0.284*\"chip\" + 0.273*\"window\" + 0.236*\"christian\" + -0.198*\"clipper\" + 0.169*\"jesus\" + -0.161*\"escrow\" + -0.155*\"secur\" + -0.155*\"govern\" + -0.137*\"key\"')\n",
      "(4, '0.545*\"drive\" + 0.388*\"scsi\" + -0.328*\"window\" + -0.205*\"file\" + 0.152*\"disk\" + 0.124*\"floppi\" + 0.121*\"control\" + 0.120*\"hard\" + -0.102*\"program\" + -0.100*\"encrypt\"')\n",
      "(5, '0.329*\"israel\" + 0.293*\"isra\" + 0.262*\"armenian\" + -0.227*\"christian\" + 0.218*\"arab\" + -0.172*\"jesus\" + 0.142*\"jew\" + 0.137*\"turkish\" + -0.126*\"chip\" + 0.123*\"window\"')\n",
      "(6, '0.212*\"bike\" + -0.211*\"window\" + -0.199*\"game\" + -0.180*\"encrypt\" + -0.178*\"scsi\" + 0.155*\"space\" + -0.151*\"chip\" + -0.150*\"team\" + -0.147*\"card\" + 0.147*\"nasa\"')\n",
      "(7, '0.493*\"card\" + -0.303*\"file\" + -0.300*\"drive\" + -0.206*\"scsi\" + 0.201*\"video\" + 0.193*\"driver\" + -0.182*\"window\" + 0.177*\"monitor\" + -0.141*\"disk\" + 0.129*\"simm\"')\n",
      "(8, '0.459*\"armenian\" + -0.319*\"israel\" + -0.286*\"isra\" + 0.232*\"turkish\" + -0.193*\"arab\" + 0.161*\"armenia\" + 0.145*\"turk\" + 0.144*\"card\" + 0.123*\"driver\" + 0.114*\"turkey\"')\n",
      "(9, '-0.298*\"armenian\" + 0.279*\"window\" + 0.201*\"bike\" + -0.157*\"mail\" + 0.155*\"driver\" + -0.153*\"turkish\" + -0.138*\"thank\" + -0.117*\"christian\" + -0.112*\"space\" + -0.106*\"armenia\"')\n",
      "(10, '0.324*\"bike\" + -0.249*\"moral\" + -0.221*\"space\" + -0.219*\"scsi\" + -0.190*\"nasa\" + -0.190*\"object\" + -0.139*\"card\" + 0.126*\"ride\" + 0.121*\"jesus\" + 0.119*\"motorcycl\"')\n",
      "(11, '0.395*\"moral\" + 0.261*\"object\" + -0.242*\"space\" + -0.187*\"nasa\" + -0.157*\"jesus\" + 0.154*\"nntp\" + 0.153*\"host\" + -0.152*\"scsi\" + 0.139*\"post\" + -0.126*\"christian\"')\n",
      "(12, '-0.296*\"file\" + 0.255*\"bike\" + 0.218*\"scsi\" + 0.197*\"window\" + 0.191*\"chip\" + -0.159*\"card\" + 0.144*\"moral\" + 0.129*\"object\" + -0.129*\"mail\" + -0.125*\"drive\"')\n",
      "(13, '0.596*\"scsi\" + -0.220*\"drive\" + -0.182*\"disk\" + 0.163*\"thank\" + 0.159*\"host\" + 0.158*\"nntp\" + 0.157*\"post\" + 0.127*\"distribut\" + 0.114*\"mail\" + -0.104*\"file\"')\n",
      "(14, '-0.373*\"file\" + -0.303*\"bike\" + 0.268*\"window\" + -0.213*\"card\" + 0.203*\"simm\" + -0.189*\"driver\" + -0.154*\"moral\" + -0.136*\"scsi\" + -0.132*\"object\" + 0.132*\"mous\"')\n",
      "(15, '-0.315*\"simm\" + 0.211*\"driver\" + 0.197*\"drive\" + 0.196*\"window\" + 0.178*\"nntp\" + 0.176*\"host\" + 0.168*\"space\" + 0.166*\"nasa\" + 0.162*\"card\" + -0.150*\"file\"')\n",
      "(16, '0.323*\"simm\" + 0.314*\"file\" + 0.176*\"host\" + 0.175*\"nntp\" + -0.156*\"mail\" + -0.149*\"price\" + 0.144*\"post\" + -0.141*\"window\" + -0.129*\"offer\" + 0.128*\"color\"')\n",
      "(17, '-0.386*\"simm\" + -0.171*\"price\" + -0.165*\"window\" + 0.157*\"mous\" + -0.143*\"sale\" + -0.125*\"offer\" + 0.121*\"problem\" + -0.120*\"ship\" + -0.119*\"file\" + -0.115*\"bike\"')\n",
      "(18, '-0.377*\"monitor\" + -0.312*\"color\" + 0.283*\"mous\" + 0.197*\"simm\" + 0.196*\"port\" + 0.191*\"modem\" + -0.171*\"imag\" + -0.157*\"display\" + -0.153*\"screen\" + 0.147*\"driver\"')\n",
      "(19, '0.215*\"simm\" + 0.203*\"drive\" + -0.189*\"printer\" + -0.162*\"mous\" + -0.156*\"modem\" + -0.151*\"port\" + 0.146*\"homosexu\" + -0.141*\"file\" + -0.138*\"jesus\" + -0.135*\"moral\"')\n",
      "Document 0:\n",
      "Topic Vector: [(0, 0.09162935502897407), (1, 0.01691697726763387), (2, 0.025124201544452333), (3, -0.008473431792716087), (4, -0.00638916791207119), (5, -0.004736634117437542), (6, 0.053080462078431354), (7, 0.012421655477888798), (8, -0.007547582632868704), (9, -0.03293038963302652), (10, 0.04430936485251947), (11, -0.009031263327123722), (12, -0.0010648517453979865), (13, 0.0246359795183824), (14, -0.0148173727845308), (15, 0.00012516628692422344), (16, -0.03868500355180762), (17, 0.0005935619089384956), (18, -0.002215582816815812), (19, 0.010717441023751256)]\n",
      "Doc vec len: 20\n",
      "\n",
      "Document 1:\n",
      "Topic Vector: [(0, 0.12340648931537065), (1, 0.0953664611307371), (2, 0.014261665922293415), (3, -0.007758466769548035), (4, 0.0803795325469846), (5, -0.0015963734765784563), (6, 0.0020932741283445203), (7, 0.0492190721817596), (8, -0.00565780394724466), (9, -0.030486644871061706), (10, 0.003497808153039979), (11, 0.022466731206409976), (12, -0.02459370267384109), (13, -0.04005789932072929), (14, 0.006793198378848398), (15, 0.005589394673878535), (16, 0.02052699453245562), (17, 0.005855217474698913), (18, 0.04845240865801514), (19, 0.03157813374924324)]\n",
      "Doc vec len: 20\n",
      "\n",
      "Document 2:\n",
      "Topic Vector: [(0, 0.20176065164340665), (1, 0.054068280928246705), (2, 0.03215684314435632), (3, 0.01568073437287117), (4, 0.014381571037334267), (5, -0.013942210922988115), (6, 0.0331530998104226), (7, 0.015728693868474555), (8, -0.015669654170790828), (9, -0.018050783643224315), (10, 0.047301605579175045), (11, 0.012230922428363248), (12, -0.007611457281513253), (13, -0.012065232096079275), (14, 0.005652512837251803), (15, -0.06285725494493066), (16, 0.014243344301236747), (17, 0.0037344307950850854), (18, 0.017279985332778146), (19, 0.016817313556155594)]\n",
      "Doc vec len: 20\n",
      "\n",
      "Document 3:\n",
      "Topic Vector: [(0, 0.1436312338855372), (1, 0.049888713026335914), (2, -0.017943450221135523), (3, -0.06777913505010368), (4, -0.029687531426906277), (5, -0.05894333673228347), (6, 0.0031620796685575265), (7, 0.03703391924110139), (8, -0.012271622664489537), (9, -0.06057416468844009), (10, 0.024139245519186517), (11, 0.047850368433728446), (12, 0.04324933862324316), (13, 0.06523160166767371), (14, -0.0001336395280020278), (15, 0.028207222634963065), (16, 0.05377644601021753), (17, 0.024202198498709845), (18, 0.004850750010369279), (19, 0.012831274379357755)]\n",
      "Doc vec len: 20\n",
      "\n",
      "Document 4:\n",
      "Topic Vector: [(0, 0.11555696268794703), (1, 0.017404713094279677), (2, -0.014252028466686056), (3, 0.0175090141669202), (4, -0.008493833985916152), (5, -0.01922725064621091), (6, 0.005930237012801582), (7, -0.0013213140816918177), (8, -0.010861260870740292), (9, 0.0076184171824847085), (10, -0.03713486643921673), (11, 0.001320850848248498), (12, 0.038514459218133165), (13, -0.019191639203236594), (14, 0.004759156036205311), (15, -0.0033935356514937336), (16, 0.033415708978042066), (17, -0.020940102638985637), (18, 0.03776272888251374), (19, 0.025373997962009787)]\n",
      "Doc vec len: 20\n",
      "\n"
     ]
    }
   ],
   "source": [
    "# Train the LSI model (Latent Semantic Indexing)\n",
    "lsi_model = models.LsiModel(corpus_tfidf, id2word=dictionary, num_topics=20)\n",
    "\n",
    "# Print the top topics and their top words\n",
    "lsi_topics = lsi_model.print_topics(num_topics=20, num_words=10)\n",
    "for topic in lsi_topics:\n",
    "    print(topic)\n",
    "\n",
    "# Get the document vectors\n",
    "document_topic_vectors = []\n",
    "for doc_bow in corpus_tfidf:\n",
    "    document_topic_vector = lsi_model[doc_bow]\n",
    "    document_topic_vectors.append(document_topic_vector)\n",
    "\n",
    "# Get topic vectors for multiple documents\n",
    "for i, doc_idx in enumerate([0, 1, 2, 3, 4], start=1):\n",
    "    doc_bow = corpus_tfidf[doc_idx]\n",
    "    document_topic_vector = lsi_model[doc_bow]\n",
    "    print(f\"Document {doc_idx}:\")\n",
    "    print(f\"Topic Vector: {document_topic_vector}\") \n",
    "    print(f'Doc vec len: {len(document_topic_vector)}')\n",
    "    print()"
   ]
  },
  {
   "cell_type": "code",
   "execution_count": 23,
   "metadata": {},
   "outputs": [
    {
     "data": {
      "text/html": [
       "<div>\n",
       "<style scoped>\n",
       "    .dataframe tbody tr th:only-of-type {\n",
       "        vertical-align: middle;\n",
       "    }\n",
       "\n",
       "    .dataframe tbody tr th {\n",
       "        vertical-align: top;\n",
       "    }\n",
       "\n",
       "    .dataframe thead th {\n",
       "        text-align: right;\n",
       "    }\n",
       "</style>\n",
       "<table border=\"1\" class=\"dataframe\">\n",
       "  <thead>\n",
       "    <tr style=\"text-align: right;\">\n",
       "      <th></th>\n",
       "      <th>target</th>\n",
       "    </tr>\n",
       "  </thead>\n",
       "  <tbody>\n",
       "    <tr>\n",
       "      <th>0</th>\n",
       "      <td>7</td>\n",
       "    </tr>\n",
       "    <tr>\n",
       "      <th>1</th>\n",
       "      <td>4</td>\n",
       "    </tr>\n",
       "    <tr>\n",
       "      <th>2</th>\n",
       "      <td>4</td>\n",
       "    </tr>\n",
       "    <tr>\n",
       "      <th>3</th>\n",
       "      <td>1</td>\n",
       "    </tr>\n",
       "    <tr>\n",
       "      <th>4</th>\n",
       "      <td>14</td>\n",
       "    </tr>\n",
       "    <tr>\n",
       "      <th>...</th>\n",
       "      <td>...</td>\n",
       "    </tr>\n",
       "    <tr>\n",
       "      <th>11309</th>\n",
       "      <td>13</td>\n",
       "    </tr>\n",
       "    <tr>\n",
       "      <th>11310</th>\n",
       "      <td>4</td>\n",
       "    </tr>\n",
       "    <tr>\n",
       "      <th>11311</th>\n",
       "      <td>3</td>\n",
       "    </tr>\n",
       "    <tr>\n",
       "      <th>11312</th>\n",
       "      <td>1</td>\n",
       "    </tr>\n",
       "    <tr>\n",
       "      <th>11313</th>\n",
       "      <td>8</td>\n",
       "    </tr>\n",
       "  </tbody>\n",
       "</table>\n",
       "<p>11314 rows × 1 columns</p>\n",
       "</div>"
      ],
      "text/plain": [
       "       target\n",
       "0           7\n",
       "1           4\n",
       "2           4\n",
       "3           1\n",
       "4          14\n",
       "...       ...\n",
       "11309      13\n",
       "11310       4\n",
       "11311       3\n",
       "11312       1\n",
       "11313       8\n",
       "\n",
       "[11314 rows x 1 columns]"
      ]
     },
     "execution_count": 23,
     "metadata": {},
     "output_type": "execute_result"
    }
   ],
   "source": [
    "df = pd.DataFrame(targets1000, columns=['target'])\n",
    "df"
   ]
  },
  {
   "cell_type": "code",
   "execution_count": 24,
   "metadata": {},
   "outputs": [
    {
     "name": "stderr",
     "output_type": "stream",
     "text": [
      "100%|██████████| 11314/11314 [00:01<00:00, 10930.75it/s]\n"
     ]
    }
   ],
   "source": [
    "docs_vectors = []\n",
    "\n",
    "for doc_idx in tqdm(range(len(df))):\n",
    "    doc_bow = corpus_tfidf[doc_idx]\n",
    "    document_topic_vector = lsi_model[doc_bow]\n",
    "\n",
    "    if document_topic_vector:\n",
    "        _, vec = zip(*document_topic_vector)\n",
    "    else:\n",
    "        vec = [None] * 20\n",
    "\n",
    "    docs_vectors.append(vec)"
   ]
  },
  {
   "cell_type": "code",
   "execution_count": 25,
   "metadata": {},
   "outputs": [
    {
     "data": {
      "text/plain": [
       "11314"
      ]
     },
     "execution_count": 25,
     "metadata": {},
     "output_type": "execute_result"
    }
   ],
   "source": [
    "len(docs_vectors)"
   ]
  },
  {
   "cell_type": "code",
   "execution_count": 26,
   "metadata": {},
   "outputs": [],
   "source": [
    "df[[f'vec{i}' for i in range(20)]] = docs_vectors"
   ]
  },
  {
   "cell_type": "code",
   "execution_count": 27,
   "metadata": {},
   "outputs": [
    {
     "data": {
      "text/html": [
       "<div>\n",
       "<style scoped>\n",
       "    .dataframe tbody tr th:only-of-type {\n",
       "        vertical-align: middle;\n",
       "    }\n",
       "\n",
       "    .dataframe tbody tr th {\n",
       "        vertical-align: top;\n",
       "    }\n",
       "\n",
       "    .dataframe thead th {\n",
       "        text-align: right;\n",
       "    }\n",
       "</style>\n",
       "<table border=\"1\" class=\"dataframe\">\n",
       "  <thead>\n",
       "    <tr style=\"text-align: right;\">\n",
       "      <th></th>\n",
       "      <th>target</th>\n",
       "      <th>vec0</th>\n",
       "      <th>vec1</th>\n",
       "      <th>vec2</th>\n",
       "      <th>vec3</th>\n",
       "      <th>vec4</th>\n",
       "      <th>vec5</th>\n",
       "      <th>vec6</th>\n",
       "      <th>vec7</th>\n",
       "      <th>vec8</th>\n",
       "      <th>...</th>\n",
       "      <th>vec10</th>\n",
       "      <th>vec11</th>\n",
       "      <th>vec12</th>\n",
       "      <th>vec13</th>\n",
       "      <th>vec14</th>\n",
       "      <th>vec15</th>\n",
       "      <th>vec16</th>\n",
       "      <th>vec17</th>\n",
       "      <th>vec18</th>\n",
       "      <th>vec19</th>\n",
       "    </tr>\n",
       "  </thead>\n",
       "  <tbody>\n",
       "    <tr>\n",
       "      <th>0</th>\n",
       "      <td>7</td>\n",
       "      <td>0.091629</td>\n",
       "      <td>0.016917</td>\n",
       "      <td>0.025124</td>\n",
       "      <td>-0.008473</td>\n",
       "      <td>-0.006389</td>\n",
       "      <td>-0.004737</td>\n",
       "      <td>0.053080</td>\n",
       "      <td>0.012422</td>\n",
       "      <td>-0.007548</td>\n",
       "      <td>...</td>\n",
       "      <td>0.044309</td>\n",
       "      <td>-0.009031</td>\n",
       "      <td>-0.001065</td>\n",
       "      <td>0.024636</td>\n",
       "      <td>-0.014817</td>\n",
       "      <td>0.000125</td>\n",
       "      <td>-0.038685</td>\n",
       "      <td>0.000594</td>\n",
       "      <td>-0.002216</td>\n",
       "      <td>0.010717</td>\n",
       "    </tr>\n",
       "    <tr>\n",
       "      <th>1</th>\n",
       "      <td>4</td>\n",
       "      <td>0.123406</td>\n",
       "      <td>0.095366</td>\n",
       "      <td>0.014262</td>\n",
       "      <td>-0.007758</td>\n",
       "      <td>0.080380</td>\n",
       "      <td>-0.001596</td>\n",
       "      <td>0.002093</td>\n",
       "      <td>0.049219</td>\n",
       "      <td>-0.005658</td>\n",
       "      <td>...</td>\n",
       "      <td>0.003498</td>\n",
       "      <td>0.022467</td>\n",
       "      <td>-0.024594</td>\n",
       "      <td>-0.040058</td>\n",
       "      <td>0.006793</td>\n",
       "      <td>0.005589</td>\n",
       "      <td>0.020527</td>\n",
       "      <td>0.005855</td>\n",
       "      <td>0.048452</td>\n",
       "      <td>0.031578</td>\n",
       "    </tr>\n",
       "    <tr>\n",
       "      <th>2</th>\n",
       "      <td>4</td>\n",
       "      <td>0.201761</td>\n",
       "      <td>0.054068</td>\n",
       "      <td>0.032157</td>\n",
       "      <td>0.015681</td>\n",
       "      <td>0.014382</td>\n",
       "      <td>-0.013942</td>\n",
       "      <td>0.033153</td>\n",
       "      <td>0.015729</td>\n",
       "      <td>-0.015670</td>\n",
       "      <td>...</td>\n",
       "      <td>0.047302</td>\n",
       "      <td>0.012231</td>\n",
       "      <td>-0.007611</td>\n",
       "      <td>-0.012065</td>\n",
       "      <td>0.005653</td>\n",
       "      <td>-0.062857</td>\n",
       "      <td>0.014243</td>\n",
       "      <td>0.003734</td>\n",
       "      <td>0.017280</td>\n",
       "      <td>0.016817</td>\n",
       "    </tr>\n",
       "    <tr>\n",
       "      <th>3</th>\n",
       "      <td>1</td>\n",
       "      <td>0.143631</td>\n",
       "      <td>0.049889</td>\n",
       "      <td>-0.017943</td>\n",
       "      <td>-0.067779</td>\n",
       "      <td>-0.029688</td>\n",
       "      <td>-0.058943</td>\n",
       "      <td>0.003162</td>\n",
       "      <td>0.037034</td>\n",
       "      <td>-0.012272</td>\n",
       "      <td>...</td>\n",
       "      <td>0.024139</td>\n",
       "      <td>0.047850</td>\n",
       "      <td>0.043249</td>\n",
       "      <td>0.065232</td>\n",
       "      <td>-0.000134</td>\n",
       "      <td>0.028207</td>\n",
       "      <td>0.053776</td>\n",
       "      <td>0.024202</td>\n",
       "      <td>0.004851</td>\n",
       "      <td>0.012831</td>\n",
       "    </tr>\n",
       "    <tr>\n",
       "      <th>4</th>\n",
       "      <td>14</td>\n",
       "      <td>0.115557</td>\n",
       "      <td>0.017405</td>\n",
       "      <td>-0.014252</td>\n",
       "      <td>0.017509</td>\n",
       "      <td>-0.008494</td>\n",
       "      <td>-0.019227</td>\n",
       "      <td>0.005930</td>\n",
       "      <td>-0.001321</td>\n",
       "      <td>-0.010861</td>\n",
       "      <td>...</td>\n",
       "      <td>-0.037135</td>\n",
       "      <td>0.001321</td>\n",
       "      <td>0.038514</td>\n",
       "      <td>-0.019192</td>\n",
       "      <td>0.004759</td>\n",
       "      <td>-0.003394</td>\n",
       "      <td>0.033416</td>\n",
       "      <td>-0.020940</td>\n",
       "      <td>0.037763</td>\n",
       "      <td>0.025374</td>\n",
       "    </tr>\n",
       "    <tr>\n",
       "      <th>...</th>\n",
       "      <td>...</td>\n",
       "      <td>...</td>\n",
       "      <td>...</td>\n",
       "      <td>...</td>\n",
       "      <td>...</td>\n",
       "      <td>...</td>\n",
       "      <td>...</td>\n",
       "      <td>...</td>\n",
       "      <td>...</td>\n",
       "      <td>...</td>\n",
       "      <td>...</td>\n",
       "      <td>...</td>\n",
       "      <td>...</td>\n",
       "      <td>...</td>\n",
       "      <td>...</td>\n",
       "      <td>...</td>\n",
       "      <td>...</td>\n",
       "      <td>...</td>\n",
       "      <td>...</td>\n",
       "      <td>...</td>\n",
       "      <td>...</td>\n",
       "    </tr>\n",
       "    <tr>\n",
       "      <th>11309</th>\n",
       "      <td>13</td>\n",
       "      <td>0.082152</td>\n",
       "      <td>-0.023349</td>\n",
       "      <td>-0.000927</td>\n",
       "      <td>0.001680</td>\n",
       "      <td>-0.002880</td>\n",
       "      <td>-0.008534</td>\n",
       "      <td>0.031020</td>\n",
       "      <td>-0.006141</td>\n",
       "      <td>0.000653</td>\n",
       "      <td>...</td>\n",
       "      <td>-0.009963</td>\n",
       "      <td>-0.012269</td>\n",
       "      <td>-0.004896</td>\n",
       "      <td>-0.001946</td>\n",
       "      <td>-0.008888</td>\n",
       "      <td>-0.047291</td>\n",
       "      <td>-0.009432</td>\n",
       "      <td>0.050017</td>\n",
       "      <td>0.003580</td>\n",
       "      <td>0.046909</td>\n",
       "    </tr>\n",
       "    <tr>\n",
       "      <th>11310</th>\n",
       "      <td>4</td>\n",
       "      <td>0.102249</td>\n",
       "      <td>0.093842</td>\n",
       "      <td>0.005899</td>\n",
       "      <td>0.005547</td>\n",
       "      <td>0.083225</td>\n",
       "      <td>0.005381</td>\n",
       "      <td>0.003991</td>\n",
       "      <td>0.023504</td>\n",
       "      <td>0.009340</td>\n",
       "      <td>...</td>\n",
       "      <td>0.013537</td>\n",
       "      <td>0.013540</td>\n",
       "      <td>0.006191</td>\n",
       "      <td>-0.088556</td>\n",
       "      <td>0.050903</td>\n",
       "      <td>-0.034346</td>\n",
       "      <td>0.006577</td>\n",
       "      <td>0.070824</td>\n",
       "      <td>-0.034528</td>\n",
       "      <td>-0.014349</td>\n",
       "    </tr>\n",
       "    <tr>\n",
       "      <th>11311</th>\n",
       "      <td>3</td>\n",
       "      <td>0.056280</td>\n",
       "      <td>0.033024</td>\n",
       "      <td>-0.007748</td>\n",
       "      <td>-0.031485</td>\n",
       "      <td>0.033491</td>\n",
       "      <td>-0.012723</td>\n",
       "      <td>-0.005382</td>\n",
       "      <td>0.026117</td>\n",
       "      <td>0.010721</td>\n",
       "      <td>...</td>\n",
       "      <td>0.014465</td>\n",
       "      <td>-0.005770</td>\n",
       "      <td>0.031843</td>\n",
       "      <td>-0.022576</td>\n",
       "      <td>0.030764</td>\n",
       "      <td>-0.026839</td>\n",
       "      <td>0.023536</td>\n",
       "      <td>0.008705</td>\n",
       "      <td>0.033457</td>\n",
       "      <td>0.000066</td>\n",
       "    </tr>\n",
       "    <tr>\n",
       "      <th>11312</th>\n",
       "      <td>1</td>\n",
       "      <td>0.116360</td>\n",
       "      <td>0.007291</td>\n",
       "      <td>-0.000887</td>\n",
       "      <td>0.007048</td>\n",
       "      <td>-0.028048</td>\n",
       "      <td>-0.012431</td>\n",
       "      <td>0.051154</td>\n",
       "      <td>-0.002069</td>\n",
       "      <td>-0.034886</td>\n",
       "      <td>...</td>\n",
       "      <td>-0.062320</td>\n",
       "      <td>-0.024181</td>\n",
       "      <td>0.009869</td>\n",
       "      <td>0.014811</td>\n",
       "      <td>-0.014997</td>\n",
       "      <td>0.002363</td>\n",
       "      <td>0.002843</td>\n",
       "      <td>0.045791</td>\n",
       "      <td>-0.020221</td>\n",
       "      <td>0.016940</td>\n",
       "    </tr>\n",
       "    <tr>\n",
       "      <th>11313</th>\n",
       "      <td>8</td>\n",
       "      <td>0.095569</td>\n",
       "      <td>0.027088</td>\n",
       "      <td>0.020347</td>\n",
       "      <td>-0.037026</td>\n",
       "      <td>0.001221</td>\n",
       "      <td>-0.016398</td>\n",
       "      <td>0.063016</td>\n",
       "      <td>0.007396</td>\n",
       "      <td>-0.012364</td>\n",
       "      <td>...</td>\n",
       "      <td>0.046468</td>\n",
       "      <td>0.031523</td>\n",
       "      <td>0.042341</td>\n",
       "      <td>0.019177</td>\n",
       "      <td>-0.004879</td>\n",
       "      <td>0.046948</td>\n",
       "      <td>0.049331</td>\n",
       "      <td>0.042101</td>\n",
       "      <td>0.003716</td>\n",
       "      <td>-0.034005</td>\n",
       "    </tr>\n",
       "  </tbody>\n",
       "</table>\n",
       "<p>11314 rows × 21 columns</p>\n",
       "</div>"
      ],
      "text/plain": [
       "       target      vec0      vec1      vec2      vec3      vec4      vec5  \\\n",
       "0           7  0.091629  0.016917  0.025124 -0.008473 -0.006389 -0.004737   \n",
       "1           4  0.123406  0.095366  0.014262 -0.007758  0.080380 -0.001596   \n",
       "2           4  0.201761  0.054068  0.032157  0.015681  0.014382 -0.013942   \n",
       "3           1  0.143631  0.049889 -0.017943 -0.067779 -0.029688 -0.058943   \n",
       "4          14  0.115557  0.017405 -0.014252  0.017509 -0.008494 -0.019227   \n",
       "...       ...       ...       ...       ...       ...       ...       ...   \n",
       "11309      13  0.082152 -0.023349 -0.000927  0.001680 -0.002880 -0.008534   \n",
       "11310       4  0.102249  0.093842  0.005899  0.005547  0.083225  0.005381   \n",
       "11311       3  0.056280  0.033024 -0.007748 -0.031485  0.033491 -0.012723   \n",
       "11312       1  0.116360  0.007291 -0.000887  0.007048 -0.028048 -0.012431   \n",
       "11313       8  0.095569  0.027088  0.020347 -0.037026  0.001221 -0.016398   \n",
       "\n",
       "           vec6      vec7      vec8  ...     vec10     vec11     vec12  \\\n",
       "0      0.053080  0.012422 -0.007548  ...  0.044309 -0.009031 -0.001065   \n",
       "1      0.002093  0.049219 -0.005658  ...  0.003498  0.022467 -0.024594   \n",
       "2      0.033153  0.015729 -0.015670  ...  0.047302  0.012231 -0.007611   \n",
       "3      0.003162  0.037034 -0.012272  ...  0.024139  0.047850  0.043249   \n",
       "4      0.005930 -0.001321 -0.010861  ... -0.037135  0.001321  0.038514   \n",
       "...         ...       ...       ...  ...       ...       ...       ...   \n",
       "11309  0.031020 -0.006141  0.000653  ... -0.009963 -0.012269 -0.004896   \n",
       "11310  0.003991  0.023504  0.009340  ...  0.013537  0.013540  0.006191   \n",
       "11311 -0.005382  0.026117  0.010721  ...  0.014465 -0.005770  0.031843   \n",
       "11312  0.051154 -0.002069 -0.034886  ... -0.062320 -0.024181  0.009869   \n",
       "11313  0.063016  0.007396 -0.012364  ...  0.046468  0.031523  0.042341   \n",
       "\n",
       "          vec13     vec14     vec15     vec16     vec17     vec18     vec19  \n",
       "0      0.024636 -0.014817  0.000125 -0.038685  0.000594 -0.002216  0.010717  \n",
       "1     -0.040058  0.006793  0.005589  0.020527  0.005855  0.048452  0.031578  \n",
       "2     -0.012065  0.005653 -0.062857  0.014243  0.003734  0.017280  0.016817  \n",
       "3      0.065232 -0.000134  0.028207  0.053776  0.024202  0.004851  0.012831  \n",
       "4     -0.019192  0.004759 -0.003394  0.033416 -0.020940  0.037763  0.025374  \n",
       "...         ...       ...       ...       ...       ...       ...       ...  \n",
       "11309 -0.001946 -0.008888 -0.047291 -0.009432  0.050017  0.003580  0.046909  \n",
       "11310 -0.088556  0.050903 -0.034346  0.006577  0.070824 -0.034528 -0.014349  \n",
       "11311 -0.022576  0.030764 -0.026839  0.023536  0.008705  0.033457  0.000066  \n",
       "11312  0.014811 -0.014997  0.002363  0.002843  0.045791 -0.020221  0.016940  \n",
       "11313  0.019177 -0.004879  0.046948  0.049331  0.042101  0.003716 -0.034005  \n",
       "\n",
       "[11314 rows x 21 columns]"
      ]
     },
     "execution_count": 27,
     "metadata": {},
     "output_type": "execute_result"
    }
   ],
   "source": [
    "df"
   ]
  },
  {
   "cell_type": "markdown",
   "metadata": {},
   "source": [
    "## Training"
   ]
  },
  {
   "cell_type": "code",
   "execution_count": 28,
   "metadata": {},
   "outputs": [],
   "source": [
    "from sklearn.tree import DecisionTreeClassifier\n",
    "from sklearn.model_selection import train_test_split\n",
    "from sklearn.metrics import f1_score, accuracy_score"
   ]
  },
  {
   "cell_type": "code",
   "execution_count": 29,
   "metadata": {},
   "outputs": [
    {
     "name": "stdout",
     "output_type": "stream",
     "text": [
      "max_depth=   5    =>    acc=0.3425, macro-f1=0.2845\n",
      "\n",
      "max_depth=   6    =>    acc=0.4030, macro-f1=0.3625\n",
      "\n",
      "max_depth=   7    =>    acc=0.4600, macro-f1=0.4461\n",
      "\n",
      "max_depth=   8    =>    acc=0.5077, macro-f1=0.5077\n",
      "\n",
      "max_depth=   9    =>    acc=0.5378, macro-f1=0.5440\n",
      "\n",
      "max_depth=  10    =>    acc=0.5572, macro-f1=0.5586\n",
      "\n",
      "max_depth=  11    =>    acc=0.5616, macro-f1=0.5510\n",
      "\n",
      "max_depth=  12    =>    acc=0.5727, macro-f1=0.5641\n",
      "\n"
     ]
    }
   ],
   "source": [
    "for md in np.linspace(5, 12, 8):\n",
    "\n",
    "    md = int(md)\n",
    "\n",
    "    X_train, X_val, y_train, y_val = train_test_split(\n",
    "        df.drop('target', axis=1),\n",
    "        df['target'],\n",
    "        test_size=0.2,\n",
    "        shuffle=True,\n",
    "        random_state=42,\n",
    "    )\n",
    "                \n",
    "    clf = DecisionTreeClassifier(\n",
    "        max_depth=md,\n",
    "        random_state=42,\n",
    "    )\n",
    "    clf.fit(X_train, y_train)\n",
    "\n",
    "    y_pred = clf.predict(X_val)\n",
    "    acc = accuracy_score(y_val, y_pred)\n",
    "    f1 = f1_score(y_val, y_pred, average='macro')\n",
    "\n",
    "    print(f'max_depth={md:4d}    =>    acc={acc:.4f}, macro-f1={f1:.4f}')\n",
    "    print()"
   ]
  },
  {
   "cell_type": "code",
   "execution_count": 30,
   "metadata": {},
   "outputs": [],
   "source": [
    "! pip install -qq catboost"
   ]
  },
  {
   "cell_type": "markdown",
   "metadata": {},
   "source": [
    "## GB"
   ]
  },
  {
   "cell_type": "code",
   "execution_count": 31,
   "metadata": {},
   "outputs": [],
   "source": [
    "from catboost import CatBoostClassifier"
   ]
  },
  {
   "cell_type": "code",
   "execution_count": 32,
   "metadata": {},
   "outputs": [
    {
     "name": "stdout",
     "output_type": "stream",
     "text": [
      "Learning rate set to 0.079515\n",
      "0:\tlearn: 2.7365640\ttest: 2.7405589\tbest: 2.7405589 (0)\ttotal: 92.6ms\tremaining: 3m 51s\n",
      "200:\tlearn: 0.7026193\ttest: 0.9129680\tbest: 0.9129680 (200)\ttotal: 4.21s\tremaining: 48.2s\n",
      "400:\tlearn: 0.5237178\ttest: 0.8684667\tbest: 0.8684314 (399)\ttotal: 8.13s\tremaining: 42.6s\n",
      "600:\tlearn: 0.4134982\ttest: 0.8524040\tbest: 0.8524040 (600)\ttotal: 12.1s\tremaining: 38.4s\n",
      "800:\tlearn: 0.3359766\ttest: 0.8448679\tbest: 0.8447868 (795)\ttotal: 16.1s\tremaining: 34.2s\n",
      "1000:\tlearn: 0.2822853\ttest: 0.8418315\tbest: 0.8414281 (984)\ttotal: 20.1s\tremaining: 30.2s\n",
      "1200:\tlearn: 0.2397010\ttest: 0.8400474\tbest: 0.8397667 (1160)\ttotal: 24.8s\tremaining: 26.8s\n",
      "Stopped by overfitting detector  (100 iterations wait)\n",
      "\n",
      "bestTest = 0.8397212129\n",
      "bestIteration = 1208\n",
      "\n",
      "Shrink model to first 1209 iterations.\n",
      "\n",
      "acc=0.7269, macro-f1=0.7162\n"
     ]
    }
   ],
   "source": [
    "X_train, X_val, y_train, y_val = train_test_split(\n",
    "    df.drop('target', axis=1),\n",
    "    df['target'],\n",
    "    test_size=0.2,\n",
    "    shuffle=True,\n",
    "    random_state=42,\n",
    ")\n",
    "            \n",
    "clf = CatBoostClassifier(\n",
    "    iterations=2500,\n",
    "    verbose=200,\n",
    ")\n",
    "clf.fit(\n",
    "    X=X_train,\n",
    "    y=y_train,\n",
    "    eval_set=(X_val, y_val),\n",
    "    early_stopping_rounds=100,\n",
    ")\n",
    "\n",
    "y_pred = clf.predict(X_val)\n",
    "acc = accuracy_score(y_val, y_pred)\n",
    "f1 = f1_score(y_val, y_pred, average='macro')\n",
    "\n",
    "print()\n",
    "print(f'acc={acc:.4f}, macro-f1={f1:.4f}')"
   ]
  },
  {
   "cell_type": "markdown",
   "metadata": {},
   "source": [
    "## RF"
   ]
  },
  {
   "cell_type": "code",
   "execution_count": 37,
   "metadata": {},
   "outputs": [],
   "source": [
    "from sklearn.ensemble import RandomForestClassifier"
   ]
  },
  {
   "cell_type": "code",
   "execution_count": 39,
   "metadata": {},
   "outputs": [
    {
     "name": "stdout",
     "output_type": "stream",
     "text": [
      "max_depth=   8    =>    acc=0.6217, macro-f1=0.6034\n",
      "\n",
      "max_depth=  16    =>    acc=0.6854, macro-f1=0.6751\n",
      "\n",
      "max_depth=  32    =>    acc=0.6867, macro-f1=0.6747\n",
      "\n",
      "max_depth=  64    =>    acc=0.6850, macro-f1=0.6731\n",
      "\n"
     ]
    }
   ],
   "source": [
    "for md in [8, 16, 32, 64]:\n",
    "\n",
    "    md = int(md)\n",
    "\n",
    "    dff = df.dropna()\n",
    "\n",
    "    X_train, X_val, y_train, y_val = train_test_split(\n",
    "        dff.drop('target', axis=1),\n",
    "        dff['target'],\n",
    "        test_size=0.2,\n",
    "        shuffle=True,\n",
    "        random_state=42,\n",
    "    )\n",
    "                \n",
    "    clf = RandomForestClassifier(\n",
    "        max_depth=md,\n",
    "        random_state=42,\n",
    "    )\n",
    "    clf.fit(X_train, y_train)\n",
    "\n",
    "    y_pred = clf.predict(X_val)\n",
    "    acc = accuracy_score(y_val, y_pred)\n",
    "    f1 = f1_score(y_val, y_pred, average='macro')\n",
    "\n",
    "    print(f'max_depth={md:4d}    =>    acc={acc:.4f}, macro-f1={f1:.4f}')\n",
    "    print()"
   ]
  },
  {
   "cell_type": "markdown",
   "metadata": {},
   "source": [
    "## AB"
   ]
  },
  {
   "cell_type": "code",
   "execution_count": 35,
   "metadata": {},
   "outputs": [],
   "source": [
    "from sklearn.ensemble import AdaBoostClassifier"
   ]
  },
  {
   "cell_type": "code",
   "execution_count": 40,
   "metadata": {},
   "outputs": [
    {
     "name": "stdout",
     "output_type": "stream",
     "text": [
      "acc=0.3717, macro-f1=0.3382\n",
      "\n"
     ]
    }
   ],
   "source": [
    "X_train, X_val, y_train, y_val = train_test_split(\n",
    "    dff.drop('target', axis=1),\n",
    "    dff['target'],\n",
    "    test_size=0.2,\n",
    "    shuffle=True,\n",
    "    random_state=42,\n",
    ")\n",
    "            \n",
    "clf = AdaBoostClassifier(\n",
    "    random_state=42,\n",
    ")\n",
    "clf.fit(X_train, y_train)\n",
    "\n",
    "y_pred = clf.predict(X_val)\n",
    "acc = accuracy_score(y_val, y_pred)\n",
    "f1 = f1_score(y_val, y_pred, average='macro')\n",
    "\n",
    "print(f'acc={acc:.4f}, macro-f1={f1:.4f}')\n",
    "print()"
   ]
  },
  {
   "cell_type": "code",
   "execution_count": null,
   "metadata": {},
   "outputs": [],
   "source": []
  },
  {
   "cell_type": "code",
   "execution_count": null,
   "metadata": {},
   "outputs": [],
   "source": []
  },
  {
   "cell_type": "code",
   "execution_count": null,
   "metadata": {},
   "outputs": [],
   "source": []
  },
  {
   "cell_type": "code",
   "execution_count": null,
   "metadata": {},
   "outputs": [],
   "source": []
  },
  {
   "cell_type": "code",
   "execution_count": null,
   "metadata": {},
   "outputs": [],
   "source": []
  },
  {
   "cell_type": "code",
   "execution_count": null,
   "metadata": {},
   "outputs": [],
   "source": []
  },
  {
   "cell_type": "code",
   "execution_count": null,
   "metadata": {},
   "outputs": [],
   "source": []
  }
 ],
 "metadata": {
  "kernelspec": {
   "display_name": "base",
   "language": "python",
   "name": "python3"
  },
  "language_info": {
   "codemirror_mode": {
    "name": "ipython",
    "version": 3
   },
   "file_extension": ".py",
   "mimetype": "text/x-python",
   "name": "python",
   "nbconvert_exporter": "python",
   "pygments_lexer": "ipython3",
   "version": "3.11.5"
  }
 },
 "nbformat": 4,
 "nbformat_minor": 2
}
