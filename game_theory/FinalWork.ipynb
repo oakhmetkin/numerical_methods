{
 "cells": [
  {
   "cell_type": "markdown",
   "metadata": {},
   "source": [
    "# Job Shop Problem (JSP)\n",
    "\n",
    "1. GA алгоритм\n",
    "2. Точный алгоритм, размерность 2xN"
   ]
  },
  {
   "cell_type": "code",
   "execution_count": 1,
   "metadata": {},
   "outputs": [],
   "source": [
    "import random\n",
    "import numpy as np\n",
    "import matplotlib.pyplot as plt\n",
    "%matplotlib inline"
   ]
  },
  {
   "cell_type": "markdown",
   "metadata": {},
   "source": [
    "## Genetic Algorithm"
   ]
  },
  {
   "cell_type": "code",
   "execution_count": 2,
   "metadata": {},
   "outputs": [],
   "source": [
    "from ga import genetic_search\n",
    "from estimator import estimate"
   ]
  },
  {
   "cell_type": "code",
   "execution_count": 3,
   "metadata": {},
   "outputs": [
    {
     "name": "stdout",
     "output_type": "stream",
     "text": [
      "Epoch: 50/1000; Best sol: 758\n",
      "Epoch: 100/1000; Best sol: 641\n",
      "Epoch: 150/1000; Best sol: 584\n",
      "Epoch: 200/1000; Best sol: 549\n",
      "Epoch: 250/1000; Best sol: 542\n",
      "Epoch: 300/1000; Best sol: 528\n",
      "Epoch: 350/1000; Best sol: 524\n",
      "Epoch: 400/1000; Best sol: 519\n",
      "Epoch: 450/1000; Best sol: 514\n",
      "Epoch: 500/1000; Best sol: 512\n",
      "Epoch: 550/1000; Best sol: 507\n",
      "Epoch: 600/1000; Best sol: 505\n",
      "Early stopping!\n",
      "Best time: 505\n"
     ]
    }
   ],
   "source": [
    "n, m = 50, 15\n",
    "\n",
    "# generate random JSP\n",
    "random.seed(42)\n",
    "sol = []\n",
    "\n",
    "for j in range(n):\n",
    "    for i in range(m):\n",
    "        sol.append((j, i, random.randint(1, 7)))\n",
    "\n",
    "# solution from GA\n",
    "random.seed(42)\n",
    "best_sol, best_times = genetic_search(sol, n, m, epoches=1000, levels=5, \n",
    "                            alive=16, count=3, early_stopping=50, verbose=50)\n",
    "print('Best time:', estimate(best_sol, n, m))"
   ]
  },
  {
   "cell_type": "code",
   "execution_count": 4,
   "metadata": {},
   "outputs": [
    {
     "data": {
      "image/png": "[encoded data removed]",
      "text/plain": [
       "<Figure size 640x480 with 1 Axes>"
      ]
     },
     "metadata": {},
     "output_type": "display_data"
    }
   ],
   "source": [
    "plt.plot(best_times, label='time')\n",
    "plt.title('final time of JSP')\n",
    "plt.legend()\n",
    "None"
   ]
  },
  {
   "cell_type": "markdown",
   "metadata": {},
   "source": [
    "## Точный алгоритм"
   ]
  },
  {
   "cell_type": "markdown",
   "metadata": {},
   "source": [
    "Job Shop Scheduling Problem (JSP) - это NP-полная задача комбинаторной оптимизации, и точное решение для больших инстанций может потребовать значительных вычислительных ресурсов. Однако для относительно небольших инстанций, например, с двумя машинами и небольшим количеством работ (N), можно применить точные методы решения. Вот базовая идея:\n",
    "\n",
    "1. **Определение переменных решения:** Каждая переменная решения `x[i, j, k]` равна 1, если задача `i` выполняется на машине `j` в момент времени `k`, и 0 в противном случае. Здесь `i` - номер задачи, `j` - номер машины, `k` - момент времени.\n",
    "\n",
    "2. **Определение целевой функции:** Целью является минимизация суммарного времени завершения выполнения всех задач.\n",
    "\n",
    "3. **Ограничения:**\n",
    "   - Каждая задача должна быть выполнена ровно один раз:\\\n",
    "   $i = 1 \\rightarrow \\sum_{k=1}^{N} x[i, j, k] = 1$,\\\n",
    "   $i = 2 \\rightarrow \\sum_{k=1}^{N} x[i, j, k] = 1$.\n",
    "   - Каждая машина должна выполнять только одну задачу в каждый момент времени:\\\n",
    "   $\\sum_{i=1}^{N} x[i, j, k] = 1$.\n",
    "\n",
    "4. **Решение задачи:** Применение линейного программирования (LP) или целочисленного программирования (IP) для решения задачи.\n",
    "\n",
    "5. **Интерпретация результата:** После решения задачи, переменные `x[i, j, k]` будут содержать информацию о том, какие задачи выполняются на каких машинах в каждый момент времени."
   ]
  },
  {
   "cell_type": "code",
   "execution_count": 5,
   "metadata": {},
   "outputs": [],
   "source": [
    "from exact_alg import solve_jsp"
   ]
  },
  {
   "cell_type": "code",
   "execution_count": 6,
   "metadata": {},
   "outputs": [
    {
     "name": "stdout",
     "output_type": "stream",
     "text": [
      "Time: 19\n"
     ]
    }
   ],
   "source": [
    "n, m = 5, 2\n",
    "\n",
    "# generate random Job Shop scheduling task\n",
    "random.seed(42)\n",
    "sol = []\n",
    "processing_times = []\n",
    "\n",
    "for j in range(n):\n",
    "    l = []\n",
    "    for i in range(m):\n",
    "        t = random.randint(1, 7)\n",
    "        sol.append((j, i, t))\n",
    "        l.append(t)\n",
    "    processing_times.append(l)\n",
    "\n",
    "# solution from MILP\n",
    "random.seed(42)\n",
    "best_sol = solve_jsp(n, m, processing_times, verbose=False)\n",
    "if not best_sol:\n",
    "    print('No optimal solution')\n",
    "print('Time:', estimate(best_sol, n, m))"
   ]
  },
  {
   "cell_type": "code",
   "execution_count": null,
   "metadata": {},
   "outputs": [],
   "source": []
  }
 ],
 "metadata": {
  "kernelspec": {
   "display_name": "base",
   "language": "python",
   "name": "python3"
  },
  "language_info": {
   "codemirror_mode": {
    "name": "ipython",
    "version": 3
   },
   "file_extension": ".py",
   "mimetype": "text/x-python",
   "name": "python",
   "nbconvert_exporter": "python",
   "pygments_lexer": "ipython3",
   "version": "3.9.13"
  }
 },
 "nbformat": 4,
 "nbformat_minor": 2
}
