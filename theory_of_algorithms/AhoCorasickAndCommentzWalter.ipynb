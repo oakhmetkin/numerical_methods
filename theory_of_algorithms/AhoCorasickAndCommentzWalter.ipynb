{
 "cells": [
  {
   "cell_type": "markdown",
   "id": "933d25b8",
   "metadata": {},
   "source": [
    "# Алгоритмы Aho-Corasick и Commentz-Walter"
   ]
  },
  {
   "cell_type": "markdown",
   "id": "2dfcf7e2",
   "metadata": {},
   "source": [
    "## Aho-Corasick"
   ]
  },
  {
   "cell_type": "markdown",
   "id": "c5f38d21",
   "metadata": {},
   "source": [
    "### Реализация"
   ]
  },
  {
   "cell_type": "code",
   "execution_count": 1,
   "id": "73bea191",
   "metadata": {},
   "outputs": [],
   "source": [
    "from collections import defaultdict\n",
    " \n",
    "\n",
    "class AhoCorasick:\n",
    "    def __init__(self, words):\n",
    "        self.max_states = sum([len(word) for word in words])\n",
    "        self.max_characters = 26\n",
    "        self.out = [0]*(self.max_states+1)\n",
    "        self.fail = [-1]*(self.max_states+1)\n",
    "        self.goto = [[-1]*self.max_characters for _ in range(self.max_states+1)]\n",
    "           \n",
    "        self.words = words\n",
    "        self.states_count = self.__build_matching_machine()\n",
    " \n",
    " \n",
    "    def __build_matching_machine(self):\n",
    "        k = len(self.words)\n",
    "        states = 1\n",
    " \n",
    "        for i in range(k):\n",
    "            word = self.words[i]\n",
    "            current_state = 0\n",
    " \n",
    "            for character in word:\n",
    "                ch = ord(character) - 97 # Ascii value of 'a' = 97\n",
    " \n",
    "                if self.goto[current_state][ch] == -1:\n",
    "                    self.goto[current_state][ch] = states\n",
    "                    states += 1\n",
    " \n",
    "                current_state = self.goto[current_state][ch]\n",
    " \n",
    "            self.out[current_state] |= (1<<i)\n",
    " \n",
    "        for ch in range(self.max_characters):\n",
    "            if self.goto[0][ch] == -1:\n",
    "                self.goto[0][ch] = 0\n",
    "        \n",
    "        queue = []\n",
    "        \n",
    "        for ch in range(self.max_characters):\n",
    "            if self.goto[0][ch] != 0:\n",
    "                self.fail[self.goto[0][ch]] = 0\n",
    "                queue.append(self.goto[0][ch])\n",
    " \n",
    "        while queue:\n",
    "            state = queue.pop(0)\n",
    " \n",
    "            for ch in range(self.max_characters):\n",
    "                if self.goto[state][ch] != -1:\n",
    "                    failure = self.fail[state]\n",
    " \n",
    "                    while self.goto[failure][ch] == -1:\n",
    "                        failure = self.fail[failure]\n",
    "                     \n",
    "                    failure = self.goto[failure][ch]\n",
    "                    self.fail[self.goto[state][ch]] = failure\n",
    " \n",
    "                    self.out[self.goto[state][ch]] |= self.out[failure]\n",
    "\n",
    "                    queue.append(self.goto[state][ch])\n",
    "         \n",
    "        return states\n",
    " \n",
    " \n",
    "    def __find_next_state(self, current_state, next_input):\n",
    "        answer = current_state\n",
    "        ch = ord(next_input) - 97 # Ascii value of 'a' is 97\n",
    " \n",
    "        while self.goto[answer][ch] == -1:\n",
    "            answer = self.fail[answer]\n",
    " \n",
    "        return self.goto[answer][ch]\n",
    " \n",
    " \n",
    "    def search_words(self, text):\n",
    "        current_state = 0\n",
    "        result = defaultdict(list)\n",
    "\n",
    "        for i in range(len(text)):\n",
    "            current_state = self.__find_next_state(current_state, text[i])\n",
    "\n",
    "            if self.out[current_state] == 0: continue\n",
    "\n",
    "            for j in range(len(self.words)):\n",
    "                if (self.out[current_state] & (1<<j)) > 0:\n",
    "                    word = self.words[j]\n",
    "\n",
    "                    result[word].append(i-len(word)+1)\n",
    "\n",
    "        return result"
   ]
  },
  {
   "cell_type": "markdown",
   "id": "0cd5f88d",
   "metadata": {},
   "source": [
    "### Пример использования"
   ]
  },
  {
   "cell_type": "code",
   "execution_count": 43,
   "id": "c971509b",
   "metadata": {},
   "outputs": [
    {
     "data": {
      "text/plain": [
       "[('his', [1]), ('he', [4, 12]), ('she', [3]), ('hers', [4])]"
      ]
     },
     "execution_count": 43,
     "metadata": {},
     "output_type": "execute_result"
    }
   ],
   "source": [
    "words = ['he', 'she', 'hers', 'his']\n",
    "text = 'ahishersaaaahe'\n",
    "\n",
    "aho_chorasick = AhoCorasick(words)\n",
    "result = aho_chorasick.search_words(text)\n",
    "list(result.items())"
   ]
  },
  {
   "cell_type": "markdown",
   "id": "66834446",
   "metadata": {},
   "source": [
    "## Commentz-Walter"
   ]
  },
  {
   "cell_type": "markdown",
   "id": "fb39edb5",
   "metadata": {},
   "source": [
    "### Реализация"
   ]
  },
  {
   "cell_type": "code",
   "execution_count": 3,
   "id": "44ca1124",
   "metadata": {},
   "outputs": [],
   "source": [
    "class TrieNode:\n",
    "    def __init__(self, char):\n",
    "        self.char = char\n",
    "        self.children = {}\n",
    "        self.failure_link = None\n",
    "        self.output_link = []\n",
    "        \n",
    "\n",
    "class CommentzWalter:\n",
    "    def __init__(self):\n",
    "        self.root = TrieNode(None)\n",
    "    \n",
    "    def add_word(self, word):\n",
    "        node = self.root\n",
    "        for char in word:\n",
    "            if char not in node.children:\n",
    "                node.children[char] = TrieNode(char)\n",
    "            node = node.children[char]\n",
    "        node.output_link.append(word)\n",
    "    \n",
    "    def build_matching_machine(self):\n",
    "        queue = []\n",
    "        \n",
    "        for child in self.root.children.values():\n",
    "            queue.append(child)\n",
    "            child.failure_link = self.root\n",
    "        \n",
    "        while queue:\n",
    "            current_node = queue.pop(0)\n",
    "            \n",
    "            for char, child in current_node.children.items():\n",
    "                queue.append(child)\n",
    "                failure_node = current_node.failure_link\n",
    "                \n",
    "                while failure_node and char not in failure_node.children:\n",
    "                    failure_node = failure_node.failure_link\n",
    "                \n",
    "                child.failure_link = failure_node.children[char] if failure_node else self.root\n",
    "                \n",
    "                child.output_link.extend(child.failure_link.output_link)\n",
    "    \n",
    "    def search(self, text):\n",
    "        result = []\n",
    "        current_node = self.root\n",
    "        \n",
    "        for i, char in enumerate(text):\n",
    "            while current_node and char not in current_node.children:\n",
    "                current_node = current_node.failure_link\n",
    "            \n",
    "            if not current_node:\n",
    "                current_node = self.root\n",
    "                continue\n",
    "            \n",
    "            current_node = current_node.children[char]\n",
    "            \n",
    "            if current_node.output_link:\n",
    "                result.extend((i - len(word) + 1, word) for word in current_node.output_link)\n",
    "        \n",
    "        return result"
   ]
  },
  {
   "cell_type": "markdown",
   "id": "4f4c7633",
   "metadata": {},
   "source": [
    "### Пример использования"
   ]
  },
  {
   "cell_type": "code",
   "execution_count": 44,
   "id": "46d75f9c",
   "metadata": {},
   "outputs": [
    {
     "data": {
      "text/plain": [
       "[(1, 'his'), (3, 'she'), (4, 'he'), (4, 'hers'), (12, 'he')]"
      ]
     },
     "execution_count": 44,
     "metadata": {},
     "output_type": "execute_result"
    }
   ],
   "source": [
    "words = ['he', 'she', 'hers', 'his']\n",
    "text = 'ahishersaaaahe'\n",
    "\n",
    "cw = CommentzWalter()\n",
    "\n",
    "for word in words: \n",
    "    cw.add_word(word)\n",
    "\n",
    "cw.build_matching_machine()\n",
    "\n",
    "result = cw.search(text)\n",
    "result"
   ]
  },
  {
   "cell_type": "markdown",
   "id": "e0d8b916",
   "metadata": {},
   "source": [
    "## Генерация текста для тестирования скорости алгоритмов"
   ]
  },
  {
   "cell_type": "code",
   "execution_count": 5,
   "id": "94b7c75b",
   "metadata": {},
   "outputs": [],
   "source": [
    "from random import choice, choices, randint\n",
    "from numpy.random import rand\n",
    "import string"
   ]
  },
  {
   "cell_type": "code",
   "execution_count": 6,
   "id": "5bb02b22",
   "metadata": {},
   "outputs": [],
   "source": [
    "ALPHABET = string.ascii_lowercase\n",
    "\n",
    "\n",
    "def generate_text_and_words(length=10**5, count=100, max_pattern_len=5, unique_words_count=100):  \n",
    "    words = [''.join(choices(ALPHABET, k=randint(2, max_pattern_len))) for _ in range(unique_words_count)]\n",
    "    words = list(set(words))\n",
    "    text = choices(ALPHABET, k=length)\n",
    "    \n",
    "    for _ in range(count):\n",
    "        word = choice(words)\n",
    "        l = len(word)\n",
    "        idx = randint(0, length-l-1)\n",
    "        text[idx:idx+l] = list(word)\n",
    "    \n",
    "    return { 'words': words, 'text': ''.join(text) }"
   ]
  },
  {
   "cell_type": "markdown",
   "id": "800ab48a",
   "metadata": {},
   "source": [
    "## Сравнение алгоритмов по скорости выполнения"
   ]
  },
  {
   "cell_type": "code",
   "execution_count": 67,
   "id": "93135b05",
   "metadata": {},
   "outputs": [],
   "source": [
    "import time\n",
    "import numpy as np\n",
    "import matplotlib.pyplot as plt\n",
    "%matplotlib inline"
   ]
  },
  {
   "cell_type": "code",
   "execution_count": 70,
   "id": "83f2a21d",
   "metadata": {},
   "outputs": [],
   "source": [
    "def benchmark(words, text, verbose=False):\n",
    "    start = time.time()\n",
    "    aho_chorasick = AhoCorasick(words)\n",
    "    result = aho_chorasick.search_words(text)\n",
    "    end = time.time()\n",
    "    ac_time = end - start\n",
    "    \n",
    "    if verbose:\n",
    "        print(f'Aho-Corasick:    {ac_time} sec')\n",
    "        print('matches count:  ', sum([len(m) for m in list(result.values())]))\n",
    "\n",
    "\n",
    "    start = time.time()\n",
    "    cw = CommentzWalter()\n",
    "\n",
    "    for word in words: \n",
    "        cw.add_word(word)\n",
    "\n",
    "    cw.build_matching_machine()\n",
    "    result = cw.search(text)\n",
    "    end = time.time()\n",
    "    cw_time = end - start\n",
    "    \n",
    "    if verbose:\n",
    "        print(f'Commentz-Walter: {cw_time} sec')\n",
    "        print('matches count:  ', len(result))\n",
    "    \n",
    "    return ac_time, cw_time"
   ]
  },
  {
   "cell_type": "code",
   "execution_count": 80,
   "id": "d66334d7",
   "metadata": {},
   "outputs": [],
   "source": [
    "from IPython.display import clear_output\n",
    "from tqdm import tqdm"
   ]
  },
  {
   "cell_type": "code",
   "execution_count": null,
   "id": "7978426e",
   "metadata": {},
   "outputs": [
    {
     "name": "stderr",
     "output_type": "stream",
     "text": [
      "\r",
      "  5%|████▏                                                                              | 1/20 [00:03<01:10,  3.71s/it]"
     ]
    },
    {
     "name": "stdout",
     "output_type": "stream",
     "text": [
      "benchmark for k: 45\n"
     ]
    }
   ],
   "source": [
    "TEXT_LENGTH = 2 * 10**6\n",
    "STEPS = range(0, 900, 45)\n",
    "np.random.seed(100)\n",
    "\n",
    "times = {\n",
    "    'AC': [],\n",
    "    'CW': [],\n",
    "}\n",
    "\n",
    "for k in tqdm(STEPS):\n",
    "    print(f'benchmark for k: {k}')\n",
    "    count = 100 + k // 2\n",
    "    mpl = 3 + k\n",
    "    uwc = 10 + k // 25\n",
    "    ex = generate_text_and_words(length=TEXT_LENGTH, count=count, max_pattern_len=mpl, unique_words_count=uwc)\n",
    "    \n",
    "    words, text = ex.values()\n",
    "    ac, cw = benchmark(words, text)\n",
    "    \n",
    "    times['AC'].append(ac)\n",
    "    times['CW'].append(cw)\n",
    "    \n",
    "    clear_output(wait=True)\n",
    "\n",
    "plt.plot(STEPS, times['AC'], label='Aho-Corasic')\n",
    "plt.plot(STEPS, times['CW'], label='Commentz-Walter')\n",
    "plt.legend()\n",
    "plt.title('Сравнение алгоритмов Aho-Corasic и Commetnz-Walter')\n",
    "plt.xlabel('words len')\n",
    "plt.ylabel('seconds')\n",
    "None"
   ]
  }
 ],
 "metadata": {
  "kernelspec": {
   "display_name": "Python 3 (ipykernel)",
   "language": "python",
   "name": "python3"
  },
  "language_info": {
   "codemirror_mode": {
    "name": "ipython",
    "version": 3
   },
   "file_extension": ".py",
   "mimetype": "text/x-python",
   "name": "python",
   "nbconvert_exporter": "python",
   "pygments_lexer": "ipython3",
   "version": "3.9.13"
  }
 },
 "nbformat": 4,
 "nbformat_minor": 5
}
