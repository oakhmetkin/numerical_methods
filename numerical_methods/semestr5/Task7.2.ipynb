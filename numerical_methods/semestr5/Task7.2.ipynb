{
 "cells": [
  {
   "cell_type": "markdown",
   "id": "57858041",
   "metadata": {},
   "source": [
    "# Квадратурные формулы"
   ]
  },
  {
   "cell_type": "markdown",
   "id": "8ee9f7dc",
   "metadata": {},
   "source": [
    "$\n",
    "f(x) = 2 cos(3.5x) exp({5x \\over 3}) + 3 sin(1.5x) exp(−4x) + 3 ,\n",
    "\\\\\n",
    "a = 1.5, b = 2.3, α = 1/5, β = 0;\n",
    "$"
   ]
  },
  {
   "cell_type": "code",
   "execution_count": 1,
   "id": "64a4e089",
   "metadata": {},
   "outputs": [],
   "source": [
    "a = 1.5\n",
    "b = 2.3\n",
    "alpha = 1/5\n",
    "beta = 0"
   ]
  },
  {
   "cell_type": "code",
   "execution_count": 2,
   "id": "9ce160e7",
   "metadata": {},
   "outputs": [],
   "source": [
    "def f(x):\n",
    "    it1 = 2 * np.cos(3.5 * x) * np.exp(5/3 * x)\n",
    "    it2 = 3 * np.sin(1.5 * x) * np.exp(-4 * x) + 3\n",
    "    return it1 + it2"
   ]
  },
  {
   "cell_type": "markdown",
   "id": "625ff857",
   "metadata": {},
   "source": [
    "**Весовая функция**\n",
    "$\n",
    "p(x) = (x - a)^{-\\alpha} (b - x)^{-\\beta}\n",
    "$"
   ]
  },
  {
   "cell_type": "code",
   "execution_count": 3,
   "id": "7f1380ed",
   "metadata": {},
   "outputs": [],
   "source": [
    "def p(x):\n",
    "    it1 = (x - a)**(-alpha)\n",
    "    it2 = (b - x)**(-beta)\n",
    "    return it1 * it2"
   ]
  },
  {
   "cell_type": "code",
   "execution_count": 4,
   "id": "59b22212",
   "metadata": {},
   "outputs": [],
   "source": [
    "def px_func(x, j):\n",
    "    return p(x) * (x**j)"
   ]
  },
  {
   "cell_type": "code",
   "execution_count": 5,
   "id": "5af9e856",
   "metadata": {},
   "outputs": [],
   "source": [
    "import math\n",
    "from scipy.integrate import quad\n",
    "import numpy as np\n",
    "import matplotlib.pyplot as plt\n",
    "%matplotlib inline"
   ]
  },
  {
   "cell_type": "code",
   "execution_count": 6,
   "id": "38930b4c",
   "metadata": {},
   "outputs": [],
   "source": [
    "epsilon = 0.0001\n",
    "X = np.linspace(a + epsilon, b - epsilon, 200)\n",
    "Y_f = f(X)\n",
    "Y_fp = f(X) * p(X)"
   ]
  },
  {
   "cell_type": "code",
   "execution_count": 7,
   "id": "0f8f84f6",
   "metadata": {},
   "outputs": [
    {
     "data": {
      "image/png": "[encoded data removed]",
      "text/plain": [
       "<Figure size 640x480 with 1 Axes>"
      ]
     },
     "metadata": {},
     "output_type": "display_data"
    }
   ],
   "source": [
    "plt.plot(X, Y_f, label='$ y = f(x) $')\n",
    "plt.plot(X, Y_fp, label='$ y = f(x) * p(x) $')\n",
    "plt.legend()\n",
    "plt.xlabel('x')\n",
    "plt.ylabel('y')\n",
    "None"
   ]
  },
  {
   "cell_type": "code",
   "execution_count": 8,
   "id": "4986850e",
   "metadata": {},
   "outputs": [],
   "source": [
    "def fp(x):\n",
    "    return f(x) * p(x)"
   ]
  },
  {
   "cell_type": "code",
   "execution_count": 9,
   "id": "a2462d0c",
   "metadata": {},
   "outputs": [
    {
     "name": "stdout",
     "output_type": "stream",
     "text": [
      "Точное значение интеграла: 32.2195145288426\n"
     ]
    }
   ],
   "source": [
    "exact_value, exact_err_rate = quad(fp, a, b)\n",
    "print('Точное значение интеграла:', exact_value)"
   ]
  },
  {
   "cell_type": "markdown",
   "id": "a8cb1643",
   "metadata": {},
   "source": [
    "## Решение с помощью КФ. Метод Ньютона-Котса"
   ]
  },
  {
   "cell_type": "markdown",
   "id": "86b16ba7",
   "metadata": {},
   "source": [
    "Зададим узлы:\n",
    "\n",
    "$\n",
    "x_1 = a\n",
    "\\\\\n",
    "x_2 = {a + b \\over 2}\n",
    "\\\\\n",
    "x_3 = b\n",
    "$"
   ]
  },
  {
   "cell_type": "markdown",
   "id": "f2a0a532",
   "metadata": {},
   "source": [
    "#### Интерполяционная квадратурная формула"
   ]
  },
  {
   "cell_type": "code",
   "execution_count": 10,
   "id": "63037198",
   "metadata": {},
   "outputs": [],
   "source": [
    "x1 = a\n",
    "x2 = (a + b) / 2\n",
    "x3 = b"
   ]
  },
  {
   "cell_type": "markdown",
   "id": "16ea31e5",
   "metadata": {},
   "source": [
    "Вычислим моменты:"
   ]
  },
  {
   "cell_type": "code",
   "execution_count": 11,
   "id": "687a2b3b",
   "metadata": {},
   "outputs": [
    {
     "data": {
      "text/plain": [
       "array([1.04563955, 1.94024228, 3.65924051])"
      ]
     },
     "execution_count": 11,
     "metadata": {},
     "output_type": "execute_result"
    }
   ],
   "source": [
    "n = 3\n",
    "mu = [quad(px_func, a, b, args=(i))[0] for i in range(n)]\n",
    "mu = np.array(mu)\n",
    "mu"
   ]
  },
  {
   "cell_type": "markdown",
   "id": "fa47b1b5",
   "metadata": {},
   "source": [
    "$\n",
    "A_j \\ - \\ коэффициенты\n",
    "\\\\\n",
    "x_j^s \\ - \\ матрица \\ СЛАУ\n",
    "\\\\\n",
    "\\mu_s \\ - \\ свободный \\ вектор\n",
    "\\\\\n",
    "СЛАУ: \\ x * A = s\n",
    "$"
   ]
  },
  {
   "cell_type": "code",
   "execution_count": 12,
   "id": "e5961f7e",
   "metadata": {},
   "outputs": [
    {
     "data": {
      "text/plain": [
       "array([[1.  , 1.  , 1.  ],\n",
       "       [1.5 , 1.9 , 2.3 ],\n",
       "       [2.25, 3.61, 5.29]])"
      ]
     },
     "execution_count": 12,
     "metadata": {},
     "output_type": "execute_result"
    }
   ],
   "source": [
    "x = [\n",
    "    [x1**0, x2**0, x3**0],\n",
    "    [x1**1, x2**1, x3**1],\n",
    "    [x1**2, x2**2, x3**2],\n",
    "]\n",
    "\n",
    "x = np.array(x)\n",
    "x"
   ]
  },
  {
   "cell_type": "code",
   "execution_count": 13,
   "id": "3dcd9033",
   "metadata": {},
   "outputs": [
    {
     "data": {
      "text/plain": [
       "array([0.2489618 , 0.66389813, 0.13277963])"
      ]
     },
     "execution_count": 13,
     "metadata": {},
     "output_type": "execute_result"
    }
   ],
   "source": [
    "A = np.linalg.solve(x, mu)\n",
    "A"
   ]
  },
  {
   "cell_type": "code",
   "execution_count": 14,
   "id": "7a04c453",
   "metadata": {},
   "outputs": [
    {
     "data": {
      "text/plain": [
       "33.26484741283031"
      ]
     },
     "execution_count": 14,
     "metadata": {},
     "output_type": "execute_result"
    }
   ],
   "source": [
    "sum(A * f(x[1]))"
   ]
  },
  {
   "cell_type": "markdown",
   "id": "224b32d0",
   "metadata": {},
   "source": [
    "**Оценка методической погрешности**"
   ]
  },
  {
   "cell_type": "markdown",
   "id": "38608b36",
   "metadata": {},
   "source": [
    "$\n",
    "R_n (f) = J(f) - \\sum_{j=1}^{n}{A_j f(x_j)}\n",
    "$"
   ]
  },
  {
   "cell_type": "code",
   "execution_count": 15,
   "id": "2bf466a0",
   "metadata": {},
   "outputs": [
    {
     "name": "stdout",
     "output_type": "stream",
     "text": [
      "Методическая погрешность: 1.0453328839877116\n",
      "Погрешность \"точного\" метода: 1.8411583369015716e-10\n"
     ]
    }
   ],
   "source": [
    "res = abs(exact_value - sum(A * f(x[1])))\n",
    "print('Методическая погрешность:', res)\n",
    "print('Погрешность \"точного\" метода:', exact_err_rate)"
   ]
  },
  {
   "cell_type": "markdown",
   "id": "704a70d3",
   "metadata": {},
   "source": [
    "## Составная квадратурная формула"
   ]
  },
  {
   "cell_type": "code",
   "execution_count": 30,
   "id": "bc30b0fa",
   "metadata": {},
   "outputs": [],
   "source": [
    "def calculate_for(ma, mb):\n",
    "    # задаем точки\n",
    "    x1 = ma\n",
    "    x2 = (ma + mb) / 2\n",
    "    x3 = mb\n",
    "    \n",
    "    # вычисляем моменты\n",
    "    n = 3\n",
    "    mu = [quad(px_func, ma, mb, args=(i))[0] for i in range(n)]\n",
    "    mu = np.array(mu)\n",
    "    \n",
    "    # решаем СЛАУ\n",
    "    x = [\n",
    "        [x1**0, x2**0, x3**0],\n",
    "        [x1**1, x2**1, x3**1],\n",
    "        [x1**2, x2**2, x3**2],\n",
    "    ]\n",
    "\n",
    "    x = np.array(x)\n",
    "    A = np.linalg.solve(x, mu)\n",
    "\n",
    "    # результат\n",
    "    return sum(A * f(x[1]))\n",
    "\n",
    "\n",
    "def skf(count):\n",
    "    res = 0\n",
    "    h = (b - a) / count\n",
    "    \n",
    "    for i in range(count):\n",
    "        ma, mb = a + i*h, a + (i + 1)*h\n",
    "        res += calculate_for(ma, mb)\n",
    "    \n",
    "    return res\n",
    "\n",
    "\n",
    "def skf_h(h):\n",
    "    res = 0\n",
    "    count = math.ceil((b - a) / h)\n",
    "    \n",
    "    for i in range(count):\n",
    "        ma, mb = a + i*h, a + (i + 1)*h\n",
    "        res += calculate_for(ma, mb)\n",
    "    \n",
    "    return res"
   ]
  },
  {
   "cell_type": "code",
   "execution_count": 17,
   "id": "65e7d627",
   "metadata": {},
   "outputs": [
    {
     "name": "stdout",
     "output_type": "stream",
     "text": [
      "i:   1; Result: 33.2648; Погрешность: 1.045332884\n",
      "i:   2; Result: 32.3006; Погрешность: 0.081076921\n",
      "i:   3; Result: 32.2366; Погрешность: 0.017099522\n",
      "i:   4; Result: 32.2252; Погрешность: 0.005656066\n",
      "i:   5; Result: 32.2219; Погрешность: 0.002399059\n",
      "i:   6; Result: 32.2207; Погрешность: 0.001191113\n",
      "i:   7; Result: 32.2202; Погрешность: 0.000659236\n",
      "i:   8; Result: 32.2199; Погрешность: 0.000395034\n",
      "i:   9; Result: 32.2198; Погрешность: 0.000251515\n"
     ]
    }
   ],
   "source": [
    "errors = []\n",
    "actual = quad(fp, a, b)[0]\n",
    "\n",
    "for i in [i for i in range(1, 10)]:    \n",
    "    res = skf(i)\n",
    "    \n",
    "    err = abs(actual - res)\n",
    "    errors.append(err)\n",
    "    print(f'i: {i:3}; Result: {res:.4f}; Погрешность: {err:.9f}')"
   ]
  },
  {
   "cell_type": "code",
   "execution_count": 18,
   "id": "b39c531a",
   "metadata": {},
   "outputs": [
    {
     "data": {
      "image/png": "[encoded data removed]",
      "text/plain": [
       "<Figure size 640x480 with 1 Axes>"
      ]
     },
     "metadata": {},
     "output_type": "display_data"
    }
   ],
   "source": [
    "plt.plot(errors)\n",
    "plt.title('Погрешность')\n",
    "None"
   ]
  },
  {
   "cell_type": "markdown",
   "id": "32b37fa6",
   "metadata": {},
   "source": [
    "## Процесс Эйткена"
   ]
  },
  {
   "cell_type": "code",
   "execution_count": 19,
   "id": "111c2e2d",
   "metadata": {},
   "outputs": [],
   "source": [
    "from math import log as ln"
   ]
  },
  {
   "cell_type": "code",
   "execution_count": 20,
   "id": "02751270",
   "metadata": {},
   "outputs": [
    {
     "data": {
      "text/plain": [
       "3.676380746413457"
      ]
     },
     "execution_count": 20,
     "metadata": {},
     "output_type": "execute_result"
    }
   ],
   "source": [
    "eps = 1e-6\n",
    "\n",
    "L = 2\n",
    "k = 1\n",
    "\n",
    "s1, s2, s3 = skf(k), skf(L * k), skf(L**2 * k)\n",
    "\n",
    "tmp = (s3 - s2) / (s2 - s1)\n",
    "\n",
    "m = -ln(tmp) / ln(L)\n",
    "m"
   ]
  },
  {
   "cell_type": "markdown",
   "id": "4f7ad3eb",
   "metadata": {},
   "source": [
    "## Метод Ричардсона"
   ]
  },
  {
   "cell_type": "code",
   "execution_count": 70,
   "id": "6a116d72",
   "metadata": {},
   "outputs": [
    {
     "data": {
      "text/plain": [
       "0.024999999999999994"
      ]
     },
     "execution_count": 70,
     "metadata": {},
     "output_type": "execute_result"
    }
   ],
   "source": [
    "h = 1/2*(b - a) / L**2\n",
    "k = 2\n",
    "hs = [h, h/2]\n",
    "h /= 2\n",
    "eps = 1e-5\n",
    "\n",
    "while True:\n",
    "    H = [\n",
    "        [hs[i]**j for i in range(k)] for j in range(m, m + k - 1)\n",
    "    ]\n",
    "    H.append([1] * (k))\n",
    "    H = np.array(H)\n",
    "    \n",
    "    S = np.array([skf_h(hs[i]) for i in range(k)])\n",
    "    \n",
    "    Cj = np.linalg.solve(H.T, S.T)\n",
    "    h_last = Cj[:-1]\n",
    "    r = Cj[:-1] @ np.array([h**j for j in range(m, m + k - 1)])\n",
    "    \n",
    "    if abs(r) <= eps:\n",
    "        break\n",
    "        \n",
    "    k += 1\n",
    "    h /= 2\n",
    "    hs.append(h)\n",
    "\n",
    "h_opt = hs[-1]\n",
    "h_opt"
   ]
  },
  {
   "cell_type": "code",
   "execution_count": 72,
   "id": "9ff11ce4",
   "metadata": {},
   "outputs": [
    {
     "name": "stdout",
     "output_type": "stream",
     "text": [
      "Result: 32.2195; Погрешность: 0.000001967\n"
     ]
    }
   ],
   "source": [
    "actual = quad(fp, a, b)[0]\n",
    "res = skf_h(h_opt)\n",
    "err = abs(actual - res)\n",
    "\n",
    "print(f'Result: {res:.4f}; Погрешность: {err:.9f}')"
   ]
  },
  {
   "cell_type": "markdown",
   "id": "8f53216b",
   "metadata": {},
   "source": [
    "## Метод Рунге"
   ]
  },
  {
   "cell_type": "code",
   "execution_count": null,
   "id": "69339814",
   "metadata": {},
   "outputs": [
    {
     "data": {
      "text/plain": [
       "(0.025120872706142244, 32)"
      ]
     },
     "metadata": {},
     "output_type": "display_data"
    }
   ],
   "source": [
    "eps = 1e-6\n",
    "\n",
    "m = math.ceil(3.676380746413457)\n",
    "L = 2\n",
    "k = 1\n",
    "\n",
    "s1, s2 = skf(k), skf(k * L)\n",
    "\n",
    "r1 = (s2 - s1) / (1 - L**(-m))\n",
    "r2 = (s2 - s1) / (L**m - 1)\n",
    "\n",
    "h_opt = (b - a) / k * (eps/abs(r1))**(1/m) # оптимальная длина h\n",
    "k_opt = math.ceil((b - a) / h_opt) # соответствующее h_opt кол-во отрезков разбиения\n",
    "\n",
    "h_opt, k_opt"
   ]
  },
  {
   "cell_type": "code",
   "execution_count": null,
   "id": "ec20c674",
   "metadata": {},
   "outputs": [],
   "source": []
  }
 ],
 "metadata": {
  "kernelspec": {
   "display_name": "Python 3 (ipykernel)",
   "language": "python",
   "name": "python3"
  },
  "language_info": {
   "codemirror_mode": {
    "name": "ipython",
    "version": 3
   },
   "file_extension": ".py",
   "mimetype": "text/x-python",
   "name": "python",
   "nbconvert_exporter": "python",
   "pygments_lexer": "ipython3",
   "version": "3.9.13"
  }
 },
 "nbformat": 4,
 "nbformat_minor": 5
}
