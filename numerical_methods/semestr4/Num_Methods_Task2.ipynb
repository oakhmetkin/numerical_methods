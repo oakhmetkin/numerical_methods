{
 "cells": [
  {
   "cell_type": "markdown",
   "id": "c5124901",
   "metadata": {},
   "source": [
    "# Проблема поиска собственных значений"
   ]
  },
  {
   "cell_type": "markdown",
   "id": "7b9b73a4",
   "metadata": {},
   "source": [
    "### Решенные задачи:\n",
    "- нахождение min и max собственного значения с помощью степенного метода\n",
    "- нахождение всех собственных значений с помощью сдвигов в степенном методе"
   ]
  },
  {
   "cell_type": "code",
   "execution_count": 1,
   "id": "450d5132",
   "metadata": {},
   "outputs": [],
   "source": [
    "import numpy as np"
   ]
  },
  {
   "cell_type": "code",
   "execution_count": 2,
   "id": "1ab5576e",
   "metadata": {},
   "outputs": [],
   "source": [
    "n = 4"
   ]
  },
  {
   "cell_type": "code",
   "execution_count": 3,
   "id": "36f1b7fa",
   "metadata": {},
   "outputs": [
    {
     "data": {
      "text/plain": [
       "array([-3.61202859, -0.67626238, -4.27910875,  4.62942143])"
      ]
     },
     "execution_count": 3,
     "metadata": {},
     "output_type": "execute_result"
    }
   ],
   "source": [
    "# n random eigenvalues\n",
    "rnd_eigen_values = np.random.rand(n)[::-1] * 10 - 5\n",
    "rnd_eigen_values"
   ]
  },
  {
   "cell_type": "code",
   "execution_count": 4,
   "id": "213485f1",
   "metadata": {},
   "outputs": [
    {
     "data": {
      "text/plain": [
       "array([[-3.61202859,  0.        ,  0.        ,  0.        ],\n",
       "       [ 0.        , -0.67626238,  0.        ,  0.        ],\n",
       "       [ 0.        ,  0.        , -4.27910875,  0.        ],\n",
       "       [ 0.        ,  0.        ,  0.        ,  4.62942143]])"
      ]
     },
     "execution_count": 4,
     "metadata": {},
     "output_type": "execute_result"
    }
   ],
   "source": [
    "# build diagonal matrix\n",
    "L = np.diag(rnd_eigen_values)\n",
    "L"
   ]
  },
  {
   "cell_type": "code",
   "execution_count": 5,
   "id": "123789c5",
   "metadata": {},
   "outputs": [
    {
     "data": {
      "text/plain": [
       "array([[ 5.77360522, 14.04220212,  2.72714737,  5.41974359],\n",
       "       [10.01341214,  2.09542634,  7.50338279,  1.03094069],\n",
       "       [ 5.03022587, 10.48383317,  1.05918499, 14.74461433],\n",
       "       [ 9.86467122,  6.24899502,  4.09220501,  7.21301075]])"
      ]
     },
     "execution_count": 5,
     "metadata": {},
     "output_type": "execute_result"
    }
   ],
   "source": [
    "# random matrix C\n",
    "C = np.random.rand(n, n) * 15\n",
    "assert np.linalg.det(C) != 0, 'det(A) = 0'\n",
    "C"
   ]
  },
  {
   "cell_type": "code",
   "execution_count": 6,
   "id": "8603d530",
   "metadata": {},
   "outputs": [
    {
     "data": {
      "text/plain": [
       "array([[ 21.839938  ,  19.0525282 ,   8.75860965,  22.97674633],\n",
       "       [ -3.13516812,  -5.28907275,  -1.47881282,  -1.83121785],\n",
       "       [-28.53640913, -23.57607699, -11.75957161, -29.04506931],\n",
       "       [ -4.63157513,  -4.08819098,  -1.39922032,  -8.72927194]])"
      ]
     },
     "execution_count": 6,
     "metadata": {},
     "output_type": "execute_result"
    }
   ],
   "source": [
    "A = np.linalg.inv(C) @ L @ C\n",
    "A"
   ]
  },
  {
   "cell_type": "code",
   "execution_count": 7,
   "id": "e732f886",
   "metadata": {},
   "outputs": [
    {
     "data": {
      "text/plain": [
       "array([ 4.62942143, -0.67626238, -4.27910875, -3.61202859])"
      ]
     },
     "execution_count": 7,
     "metadata": {},
     "output_type": "execute_result"
    }
   ],
   "source": [
    "# check eigenvalues of A\n",
    "np.linalg.eigvals(A)"
   ]
  },
  {
   "cell_type": "markdown",
   "id": "646fecb9",
   "metadata": {},
   "source": [
    "## Степенной метод"
   ]
  },
  {
   "cell_type": "code",
   "execution_count": 8,
   "id": "80653096",
   "metadata": {},
   "outputs": [],
   "source": [
    "def degree_method(A, n, eps=1e-6, delta=0.01, val='max', verbose=False):\n",
    "    y0 = np.random.rand(n)\n",
    "    z = y0 / np.linalg.norm(y0)\n",
    "    l_cur, l_prev = None, None\n",
    "    iters = 0\n",
    "    \n",
    "    if val == 'min':\n",
    "        A = np.linalg.inv(A)        \n",
    "    \n",
    "    while iters < 2 or abs(l_prev - l_cur) >= eps:\n",
    "        y = A @ z\n",
    "            \n",
    "        l_prev = l_cur\n",
    "        l_cur = np.mean(z / y if val == 'min' else y / z)\n",
    "            \n",
    "        z = y / np.linalg.norm(y)\n",
    "        iters += 1\n",
    "    \n",
    "    if verbose:\n",
    "        print('Iters:', iters)\n",
    "    \n",
    "    return l_cur, z"
   ]
  },
  {
   "cell_type": "code",
   "execution_count": 9,
   "id": "3b43d42d",
   "metadata": {},
   "outputs": [
    {
     "name": "stdout",
     "output_type": "stream",
     "text": [
      "Iters: 11\n"
     ]
    },
    {
     "data": {
      "text/plain": [
       "(-0.6762623188747873,\n",
       " array([ 0.42659234,  0.04142987, -0.89670235, -0.11057773]))"
      ]
     },
     "execution_count": 9,
     "metadata": {},
     "output_type": "execute_result"
    }
   ],
   "source": [
    "l, x = degree_method(A, n, val='min', verbose=True)\n",
    "l, x"
   ]
  },
  {
   "cell_type": "code",
   "execution_count": 10,
   "id": "134c51c8",
   "metadata": {},
   "outputs": [
    {
     "name": "stdout",
     "output_type": "stream",
     "text": [
      "Iters: 207\n"
     ]
    },
    {
     "data": {
      "text/plain": [
       "(4.629421904725254,\n",
       " array([ 0.60964701, -0.05523942, -0.7827048 , -0.11248258]))"
      ]
     },
     "execution_count": 10,
     "metadata": {},
     "output_type": "execute_result"
    }
   ],
   "source": [
    "l, x = degree_method(A, n, val='max', verbose=True)\n",
    "l, x"
   ]
  },
  {
   "cell_type": "markdown",
   "id": "7dda570a",
   "metadata": {},
   "source": [
    "## Обратный степенной метод со сдвигами (переменными и постоянными)"
   ]
  },
  {
   "cell_type": "code",
   "execution_count": 11,
   "id": "b494aeba",
   "metadata": {},
   "outputs": [],
   "source": [
    "def reverse_degree_method(A, n: int, k: int, eps=1e-6, verbose=False, fixed_shift=False):\n",
    "    \n",
    "    def get_for_s(A, n, s0):\n",
    "        s = s0\n",
    "        s_prev = None\n",
    "        y0 = np.random.rand(n)\n",
    "        z = y0 / np.linalg.norm(y0)\n",
    "        iters = 0\n",
    "        \n",
    "        if fixed_shift:\n",
    "            mtx = np.linalg.inv(A - s*np.eye(n))\n",
    "        \n",
    "        while iters < 1000 and (iters < 2 or abs(s - s_prev) >= eps):\n",
    "            if fixed_shift:\n",
    "                y = mtx @ z\n",
    "            else:\n",
    "                y = np.linalg.inv(A - s*np.eye(n)) @ z\n",
    "\n",
    "            s_prev = s\n",
    "            s = np.mean(z / y)\n",
    "            \n",
    "            if not fixed_shift:\n",
    "                s += s_prev\n",
    "                \n",
    "            z = y / np.linalg.norm(y)\n",
    "            iters += 1\n",
    "\n",
    "        s = s0 + s if fixed_shift else s\n",
    "        \n",
    "        if verbose:\n",
    "            print(f'Iters for s={s:5f}: iters={iters}')\n",
    "        \n",
    "        return s, z\n",
    "    \n",
    "    # finding eigenvalues range\n",
    "    l, x = degree_method(A, n, val='max')\n",
    "    max_abs_eigval = abs(l)\n",
    "    \n",
    "    # start approximations from [-max_abs; max_abs]\n",
    "    if k < n:\n",
    "        k = n\n",
    "    start_approx = np.random.rand(k) * 2*max_abs_eigval - max_abs_eigval\n",
    "    \n",
    "    es, ex = [], []\n",
    "    for s0 in start_approx:\n",
    "        s, x = get_for_s(A, n, float(s0))\n",
    "        es.append(s)\n",
    "        ex.append(x)\n",
    "    \n",
    "    return es, ex"
   ]
  },
  {
   "cell_type": "code",
   "execution_count": 12,
   "id": "09976a4f",
   "metadata": {},
   "outputs": [
    {
     "name": "stdout",
     "output_type": "stream",
     "text": [
      "s[1]=-3.61203; v[1]=(-0.1396106019775848, 0.8275567280278153, 0.029802643577752298, -0.5429277522351665)\n",
      "s[2]=-4.27911; v[2]=(0.559260899222389, 0.07170929391915626, -0.7079289683371663, -0.42534879752463917)\n",
      "s[3]=4.62942; v[3]=(0.6096470061131181, -0.055239420883992446, -0.7827048013530742, -0.11248256867869742)\n",
      "s[4]=-0.67626; v[4]=(0.42659233791584983, 0.04142987496461862, -0.896702351629668, -0.1105777340775642)\n"
     ]
    }
   ],
   "source": [
    "from math import log10\n",
    "\n",
    "\n",
    "# search parameters\n",
    "eps = 1e-8\n",
    "fixed_shift = True\n",
    "round_count = round(-log10(eps) - 3) if fixed_shift else round(-log10(eps) - 2)\n",
    "k = 20\n",
    "\n",
    "# search eigenvalues by k approximation values\n",
    "l, x = reverse_degree_method(A, n, k=k, eps=eps, verbose=False, fixed_shift=fixed_shift)\n",
    "\n",
    "# rounding up results (eigenvalues) and removing repetitions\n",
    "s_v = {round(s, round_count):  tuple(v) for s, v in zip(l, x)}\n",
    "\n",
    "# print results\n",
    "for i, s in enumerate(s_v):\n",
    "    print(f's[{i+1}]={s}; v[{i+1}]={s_v[s]}')"
   ]
  },
  {
   "cell_type": "code",
   "execution_count": null,
   "id": "3f17ab02",
   "metadata": {},
   "outputs": [],
   "source": []
  }
 ],
 "metadata": {
  "kernelspec": {
   "display_name": "Python 3 (ipykernel)",
   "language": "python",
   "name": "python3"
  },
  "language_info": {
   "codemirror_mode": {
    "name": "ipython",
    "version": 3
   },
   "file_extension": ".py",
   "mimetype": "text/x-python",
   "name": "python",
   "nbconvert_exporter": "python",
   "pygments_lexer": "ipython3",
   "version": "3.9.13"
  }
 },
 "nbformat": 4,
 "nbformat_minor": 5
}
