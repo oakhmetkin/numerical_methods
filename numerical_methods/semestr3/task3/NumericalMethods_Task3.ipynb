{
 "cells": [
  {
   "cell_type": "markdown",
   "id": "1d63df1c",
   "metadata": {},
   "source": [
    "## Ахметкин Олег\n",
    "### 21.Б06-пу"
   ]
  },
  {
   "cell_type": "markdown",
   "id": "7cc17b58",
   "metadata": {},
   "source": [
    "# 1. Решение нелинейного уравнения методом Ньютона"
   ]
  },
  {
   "cell_type": "markdown",
   "id": "0726ea43",
   "metadata": {},
   "source": [
    "$\n",
    "x \\ln(x+1) - 0.3 = 0 \\\\\n",
    "f(x) = x \\ln(x+1) - 0.3 , x \\in (-1, +\\infty) \\\\\n",
    "f^{'}(x) = \\ln(x+1) + \\frac{x}{x+1}\n",
    "$"
   ]
  },
  {
   "cell_type": "code",
   "execution_count": 99,
   "id": "46d23283",
   "metadata": {},
   "outputs": [],
   "source": [
    "from math import log, sin, cos"
   ]
  },
  {
   "cell_type": "code",
   "execution_count": 3,
   "id": "7a307929",
   "metadata": {},
   "outputs": [],
   "source": [
    "def f(x):\n",
    "    return x * log(x + 1) - 0.3"
   ]
  },
  {
   "cell_type": "code",
   "execution_count": 4,
   "id": "4020ef34",
   "metadata": {},
   "outputs": [],
   "source": [
    "def df(x):\n",
    "    return log(x + 1) + x / (x + 1)"
   ]
  },
  {
   "cell_type": "code",
   "execution_count": 100,
   "id": "f82a10d0",
   "metadata": {},
   "outputs": [],
   "source": [
    "def solve(f, df, x0, eps=1e-4):\n",
    "    while True:\n",
    "        x = x0 - f(x0) / df(x0)\n",
    "        \n",
    "        if abs(x - x0) < eps:\n",
    "            return x\n",
    "        \n",
    "        x0 = x"
   ]
  },
  {
   "cell_type": "code",
   "execution_count": 101,
   "id": "74dc08e1",
   "metadata": {},
   "outputs": [
    {
     "name": "stdout",
     "output_type": "stream",
     "text": [
      "x0 = -0.5;\tx = -0.4710542240593737\n",
      "x0 = 0.5;\tx = 0.6210348045841887\n",
      "x0 = 1.5;\tx = 0.6210348045841886\n",
      "x0 = 8.5;\tx = 0.6210348045841886\n",
      "x0 = 15.5;\tx = 0.6210348045841886\n",
      "x0 = 24.5;\tx = 0.6210348045841887\n",
      "x0 = 215.5;\tx = 0.6210348045841886\n",
      "x0 = 342.5;\tx = 0.6210348045841886\n",
      "x0 = 511.5;\tx = 0.6210348045841887\n",
      "x0 = 6560.5;\tx = 0.6210348045841886\n",
      "x0 = 9999.5;\tx = 0.6210348045841896\n",
      "x0 = 14640.5;\tx = 0.6210348045841887\n",
      "x0 = 248831.5;\tx = 0.6210348045841886\n",
      "x0 = 371292.5;\tx = 0.6210348045841886\n",
      "x0 = 537823.5;\tx = 0.6210348045841886\n"
     ]
    }
   ],
   "source": [
    "starts = [-1/2 + i**(1 + i//3) for i in range(15)]\n",
    "eps = 1e-7\n",
    "\n",
    "vals = []\n",
    "\n",
    "for x0 in starts:\n",
    "    x = solve(f, df, x0, eps)\n",
    "    vals.append(x)\n",
    "    print(f'x0 = {x0};\\tx = {x}')"
   ]
  },
  {
   "cell_type": "code",
   "execution_count": 7,
   "id": "fc6a65e4",
   "metadata": {},
   "outputs": [
    {
     "name": "stdout",
     "output_type": "stream",
     "text": [
      "Минимальный по модулю корень: -0.4710542240593737\n"
     ]
    }
   ],
   "source": [
    "abs_vals = [abs(v) for v in vals]\n",
    "ind = abs_vals.index(min(abs_vals))\n",
    "print('Минимальный по модулю корень:', vals[ind])"
   ]
  },
  {
   "attachments": {
    "image-2.png": {
     "image/png": "[encoded data removed]"
    }
   },
   "cell_type": "markdown",
   "id": "66273e1c",
   "metadata": {},
   "source": [
    "#### Решение в WolframAlpha:\n",
    "![image-2.png](attachment:image-2.png)"
   ]
  },
  {
   "cell_type": "markdown",
   "id": "6e80f416",
   "metadata": {},
   "source": [
    "# 2. Решение системы нелинейных уравнений методом Ньютона"
   ]
  },
  {
   "attachments": {
    "image.png": {
     "image/png": "[encoded data removed]"
    }
   },
   "cell_type": "markdown",
   "id": "da11b310",
   "metadata": {},
   "source": [
    "![image.png](attachment:image.png)"
   ]
  },
  {
   "cell_type": "markdown",
   "id": "b745d512",
   "metadata": {},
   "source": [
    "$\n",
    "\\begin{cases}\n",
    "    \\sin(x-1) + y = 1.3 \\\\\n",
    "    x - \\sin(y + 1) = 0.8\n",
    "\\end{cases}\n",
    "$\n",
    "\n",
    "$\n",
    "\\begin{cases}\n",
    "    f_1(x, y) = \\sin(x-1) + y - 1.3 = 0 \\\\\n",
    "    f_2(x, y) = x - \\sin(y + 1) - 0.8 = 0\n",
    "\\end{cases}\n",
    "$\n",
    "\n",
    "$\n",
    "\\frac{\\partial f_1}{\\partial x} = \\cos(x-1) \\\\\n",
    "\\frac{\\partial f_1}{\\partial y} = 1 \\\\\n",
    "\\frac{\\partial f_2}{\\partial x} = 1 \\\\\n",
    "\\frac{\\partial f_2}{\\partial y} = \\cos(y+1)\n",
    "$"
   ]
  },
  {
   "cell_type": "code",
   "execution_count": 92,
   "id": "0fc30fde",
   "metadata": {},
   "outputs": [],
   "source": [
    "def f1(x, y):\n",
    "    return sin(x - 1) + y - 1.3\n",
    "\n",
    "def f2(x, y):\n",
    "    return x - sin(y + 1) - 0.8"
   ]
  },
  {
   "cell_type": "code",
   "execution_count": 93,
   "id": "da084ef2",
   "metadata": {},
   "outputs": [],
   "source": [
    "def df1x(x, y):\n",
    "    return cos(x - 1)\n",
    "\n",
    "def df1y(x, y):\n",
    "    return 1\n",
    "\n",
    "def df2x(x, y):\n",
    "    return 1\n",
    "\n",
    "def df2y(x, y):\n",
    "    return cos(y + 1)"
   ]
  },
  {
   "cell_type": "markdown",
   "id": "1abb7600",
   "metadata": {},
   "source": [
    "$\n",
    "\\begin{cases}\n",
    "    f_1(x, y)^{'}_x g + f_1(x, y)^{'}_y h = -f_1(x, y) \\\\\n",
    "    f_2(x, y)^{'}_x g + f_2(x, y)^{'}_y h = -f_2(x, y)\n",
    "\\end{cases}\n",
    "$\n",
    "\n",
    "$\n",
    "k = f_1(x, y)^{'}_x f_2(x, y)^{'}_y - f_1(x, y)^{'}_y f_2(x, y)^{'}_x \\\\\n",
    "g = \\frac{1}{k}(-f_1(x, y)f_2(x, y)^{'}_y + f_2(x, y)f_1(x, y)^{'}_y) \\\\\n",
    "h = \\frac{1}{k}(-f_1(x, y)^{'}_x f_2(x, y) + f_1(x, y)f_2(x, y)^{'}_x)\n",
    "$"
   ]
  },
  {
   "cell_type": "code",
   "execution_count": 106,
   "id": "5241c54c",
   "metadata": {},
   "outputs": [],
   "source": [
    "def solve(f1, f2, df1x, df1y, df2x, df2y, x0, y0, eps=1e-6):\n",
    "    while True:\n",
    "        k = df1x(x0, y0)*df2y(x0, y0) - df1y(x0, y0)*df2x(x0, y0)\n",
    "        g = 1/k * (-f1(x0, y0)*df2y(x0, y0) + f2(x0, y0)*df1y(x0, y0))\n",
    "        h = 1/k * (-df1x(x0, y0)*f2(x0, y0) + f1(x0, y0)*df2x(x0, y0))\n",
    "        root = (x0 + g, y0 + h)\n",
    "        \n",
    "        if ((root[0] - x0)**2 + (root[1] - y0)**2)**0.5 < eps:\n",
    "            return root\n",
    "        \n",
    "        (x0, y0) = root"
   ]
  },
  {
   "cell_type": "code",
   "execution_count": 113,
   "id": "33c71909",
   "metadata": {},
   "outputs": [
    {
     "name": "stdout",
     "output_type": "stream",
     "text": [
      "(x0, y0) = (-100, -100);\t\t(x, y) = (1.799929231250693, 0.5826932159592243)\n",
      "(x0, y0) = (-80, -100);\t\t(x, y) = (1.7999292198833814, 0.5826932238792424)\n",
      "(x0, y0) = (-60, -100);\t\t(x, y) = (1.7999292286899597, 0.5826932177434151)\n",
      "(x0, y0) = (-40, -100);\t\t(x, y) = (1.7999292317116566, 0.5826932156380459)\n",
      "(x0, y0) = (-20, -100);\t\t(x, y) = (1.7999292319398474, 0.5826932154790528)\n",
      "(x0, y0) = (0, -100);\t\t(x, y) = (1.7999292236932865, 0.5826932212247954)\n",
      "(x0, y0) = (20, -100);\t\t(x, y) = (1.7999292268244753, 0.5826932190431804)\n",
      "(x0, y0) = (40, -100);\t\t(x, y) = (1.7999292323368778, 0.5826932152024196)\n",
      "(x0, y0) = (60, -100);\t\t(x, y) = (1.7999292257066226, 0.5826932198220331)\n",
      "(x0, y0) = (80, -100);\t\t(x, y) = (1.79992923262001, 0.5826932150051457)\n",
      "(x0, y0) = (100, -100);\t\t(x, y) = (1.7999292242735279, 0.5826932208205221)\n",
      "(x0, y0) = (-100, -80);\t\t(x, y) = (1.7999292311232489, 0.5826932160480212)\n",
      "(x0, y0) = (-80, -80);\t\t(x, y) = (1.7999292206023636, 0.5826932233783171)\n",
      "(x0, y0) = (-60, -80);\t\t(x, y) = (1.799929228035657, 0.5826932181991101)\n",
      "(x0, y0) = (-40, -80);\t\t(x, y) = (1.799929232338746, 0.5826932152011183)\n",
      "(x0, y0) = (-20, -80);\t\t(x, y) = (1.799929231882463, 0.5826932155190357)\n",
      "(x0, y0) = (0, -80);\t\t(x, y) = (1.799929225709448, 0.5826932198200646)\n",
      "(x0, y0) = (20, -80);\t\t(x, y) = (1.799929229398977, 0.5826932172494089)\n",
      "(x0, y0) = (40, -80);\t\t(x, y) = (1.7999292292720728, 0.5826932173378293)\n",
      "(x0, y0) = (60, -80);\t\t(x, y) = (1.799929222417688, 0.5826932221135417)\n",
      "(x0, y0) = (80, -80);\t\t(x, y) = (1.7999292325453435, 0.5826932150571699)\n",
      "(x0, y0) = (100, -80);\t\t(x, y) = (1.7999292249677905, 0.5826932203368049)\n",
      "(x0, y0) = (-100, -60);\t\t(x, y) = (1.7999292228144788, 0.5826932218370867)\n",
      "(x0, y0) = (-80, -60);\t\t(x, y) = (1.799929232539808, 0.5826932150610269)\n",
      "(x0, y0) = (-60, -60);\t\t(x, y) = (1.7999292326089458, 0.5826932150128545)\n",
      "(x0, y0) = (-40, -60);\t\t(x, y) = (1.799929222448935, 0.5826932220917712)\n",
      "(x0, y0) = (-20, -60);\t\t(x, y) = (1.7999292212392444, 0.5826932229345906)\n",
      "(x0, y0) = (0, -60);\t\t(x, y) = (1.799929230312734, 0.5826932166127491)\n",
      "(x0, y0) = (20, -60);\t\t(x, y) = (1.799929244679194, 0.5826932066026406)\n",
      "(x0, y0) = (40, -60);\t\t(x, y) = (1.7999292332598258, 0.582693214559349)\n",
      "(x0, y0) = (60, -60);\t\t(x, y) = (1.7999292442301313, 0.5826932069155413)\n",
      "(x0, y0) = (80, -60);\t\t(x, y) = (1.799929227893239, 0.5826932182985268)\n",
      "(x0, y0) = (100, -60);\t\t(x, y) = (1.7999292325751006, 0.5826932150364366)\n",
      "(x0, y0) = (-100, -40);\t\t(x, y) = (1.799929227021854, 0.5826932189056584)\n",
      "(x0, y0) = (-80, -40);\t\t(x, y) = (1.7999292219570031, 0.5826932224345126)\n",
      "(x0, y0) = (-60, -40);\t\t(x, y) = (1.7999292241820632, 0.5826932208842485)\n",
      "(x0, y0) = (-40, -40);\t\t(x, y) = (1.799929232333448, 0.5826932152048095)\n",
      "(x0, y0) = (-20, -40);\t\t(x, y) = (1.7999292325083536, 0.582693215082943)\n",
      "(x0, y0) = (0, -40);\t\t(x, y) = (1.7999292322939249, 0.5826932152323476)\n",
      "(x0, y0) = (20, -40);\t\t(x, y) = (1.7999292326340726, 0.5826932149953473)\n",
      "(x0, y0) = (40, -40);\t\t(x, y) = (1.7999292316533309, 0.5826932156786846)\n",
      "(x0, y0) = (60, -40);\t\t(x, y) = (1.799929228980523, 0.5826932175409659)\n",
      "(x0, y0) = (80, -40);\t\t(x, y) = (1.7999292326204734, 0.5826932150048226)\n",
      "(x0, y0) = (100, -40);\t\t(x, y) = (1.799929238705744, 0.5826932107648213)\n",
      "(x0, y0) = (-100, -20);\t\t(x, y) = (1.7999292207777928, 0.5826932232560925)\n",
      "(x0, y0) = (-80, -20);\t\t(x, y) = (1.799929231584517, 0.5826932157266309)\n",
      "(x0, y0) = (-60, -20);\t\t(x, y) = (1.7999292306411272, 0.5826932163839407)\n",
      "(x0, y0) = (-40, -20);\t\t(x, y) = (1.7999292325834282, 0.5826932150306344)\n",
      "(x0, y0) = (-20, -20);\t\t(x, y) = (1.7999292329230514, 0.5826932147939993)\n",
      "(x0, y0) = (0, -20);\t\t(x, y) = (1.7999292240128986, 0.5826932210021122)\n",
      "(x0, y0) = (20, -20);\t\t(x, y) = (1.7999292215837945, 0.5826932226945355)\n",
      "(x0, y0) = (40, -20);\t\t(x, y) = (1.799929226431692, 0.5826932193168488)\n",
      "(x0, y0) = (60, -20);\t\t(x, y) = (1.7999292253769277, 0.5826932200517442)\n",
      "(x0, y0) = (80, -20);\t\t(x, y) = (1.7999292306668222, 0.5826932163660378)\n",
      "(x0, y0) = (100, -20);\t\t(x, y) = (1.7999292240829998, 0.5826932209532691)\n",
      "(x0, y0) = (-100, 0);\t\t(x, y) = (1.7999292259319184, 0.5826932196650612)\n",
      "(x0, y0) = (-80, 0);\t\t(x, y) = (1.7999292326294938, 0.5826932149985375)\n",
      "(x0, y0) = (-60, 0);\t\t(x, y) = (1.7999292325686382, 0.5826932150409391)\n",
      "(x0, y0) = (-40, 0);\t\t(x, y) = (1.79992924094522, 0.5826932092044094)\n",
      "(x0, y0) = (-20, 0);\t\t(x, y) = (1.7999292293543754, 0.5826932172804853)\n",
      "(x0, y0) = (0, 0);\t\t(x, y) = (1.7999292309174724, 0.5826932161913967)\n",
      "(x0, y0) = (20, 0);\t\t(x, y) = (1.7999292289513962, 0.5826932175612599)\n",
      "(x0, y0) = (40, 0);\t\t(x, y) = (1.7999292307128791, 0.5826932163339474)\n",
      "(x0, y0) = (60, 0);\t\t(x, y) = (1.7999292266091116, 0.5826932191932331)\n",
      "(x0, y0) = (80, 0);\t\t(x, y) = (1.7999292288199318, 0.5826932176528575)\n",
      "(x0, y0) = (100, 0);\t\t(x, y) = (1.7999292325384941, 0.5826932150619423)\n",
      "(x0, y0) = (-100, 20);\t\t(x, y) = (1.7999292326320397, 0.5826932149967637)\n",
      "(x0, y0) = (-80, 20);\t\t(x, y) = (1.7999292260351536, 0.5826932195931329)\n",
      "(x0, y0) = (-60, 20);\t\t(x, y) = (1.7999292299703753, 0.5826932168512878)\n",
      "(x0, y0) = (-40, 20);\t\t(x, y) = (1.799929231886488, 0.5826932155162314)\n",
      "(x0, y0) = (-20, 20);\t\t(x, y) = (1.799929224696922, 0.5826932205255289)\n",
      "(x0, y0) = (0, 20);\t\t(x, y) = (1.7999292281238115, 0.5826932181378766)\n",
      "(x0, y0) = (20, 20);\t\t(x, y) = (1.7999292229665045, 0.5826932217311661)\n",
      "(x0, y0) = (40, 20);\t\t(x, y) = (1.7999292292072604, 0.5826932173829872)\n",
      "(x0, y0) = (60, 20);\t\t(x, y) = (1.7999292297564928, 0.5826932170003104)\n",
      "(x0, y0) = (80, 20);\t\t(x, y) = (1.7999292240425517, 0.5826932209814508)\n",
      "(x0, y0) = (100, 20);\t\t(x, y) = (1.799929232049216, 0.5826932154028499)\n",
      "(x0, y0) = (-100, 40);\t\t(x, y) = (1.799929226601799, 0.5826932191983205)\n",
      "(x0, y0) = (-80, 40);\t\t(x, y) = (1.7999292305654204, 0.5826932164366896)\n",
      "(x0, y0) = (-60, 40);\t\t(x, y) = (1.799929227968213, 0.5826932182462892)\n",
      "(x0, y0) = (-40, 40);\t\t(x, y) = (1.7999292299457337, 0.5826932168684568)\n",
      "(x0, y0) = (-20, 40);\t\t(x, y) = (1.7999292288159123, 0.582693217655658)\n",
      "(x0, y0) = (0, 40);\t\t(x, y) = (1.7999292292017153, 0.5826932173868508)\n",
      "(x0, y0) = (20, 40);\t\t(x, y) = (1.7999292326396568, 0.5826932149914567)\n",
      "(x0, y0) = (40, 40);\t\t(x, y) = (1.799929230582583, 0.5826932164247314)\n",
      "(x0, y0) = (60, 40);\t\t(x, y) = (1.7999292276797387, 0.582693218447282)\n",
      "(x0, y0) = (80, 40);\t\t(x, y) = (1.7999292252259542, 0.5826932201569329)\n",
      "(x0, y0) = (100, 40);\t\t(x, y) = (1.7999292273666678, 0.5826932186654117)\n",
      "(x0, y0) = (-100, 60);\t\t(x, y) = (1.7999292318172233, 0.5826932155644918)\n",
      "(x0, y0) = (-80, 60);\t\t(x, y) = (1.7999292310109423, 0.5826932161262711)\n",
      "(x0, y0) = (-60, 60);\t\t(x, y) = (1.799929225801573, 0.5826932197558775)\n",
      "(x0, y0) = (-40, 60);\t\t(x, y) = (1.799929231706437, 0.5826932156416826)\n",
      "(x0, y0) = (-20, 60);\t\t(x, y) = (1.7999292268312654, 0.5826932190384494)\n",
      "(x0, y0) = (0, 60);\t\t(x, y) = (1.7999292237550455, 0.5826932211817658)\n",
      "(x0, y0) = (20, 60);\t\t(x, y) = (1.7999292345355835, 0.5826932136704519)\n",
      "(x0, y0) = (40, 60);\t\t(x, y) = (1.7999292250593044, 0.5826932202730442)\n",
      "(x0, y0) = (60, 60);\t\t(x, y) = (1.7999292217090113, 0.582693222607294)\n",
      "(x0, y0) = (80, 60);\t\t(x, y) = (1.7999292268341966, 0.5826932190364074)\n",
      "(x0, y0) = (100, 60);\t\t(x, y) = (1.7999292309512989, 0.5826932161678279)\n",
      "(x0, y0) = (-100, 80);\t\t(x, y) = (1.7999292270838911, 0.5826932188624347)\n",
      "(x0, y0) = (-80, 80);\t\t(x, y) = (1.799929227801569, 0.5826932183623973)\n",
      "(x0, y0) = (-60, 80);\t\t(x, y) = (1.7999292277527434, 0.5826932183964164)\n",
      "(x0, y0) = (-40, 80);\t\t(x, y) = (1.7999292206886173, 0.5826932233182225)\n",
      "(x0, y0) = (-20, 80);\t\t(x, y) = (1.7999292295139062, 0.5826932171693321)\n",
      "(x0, y0) = (0, 80);\t\t(x, y) = (1.7999292313511883, 0.5826932158892035)\n",
      "(x0, y0) = (20, 80);\t\t(x, y) = (1.7999292326415086, 0.5826932149901665)\n",
      "(x0, y0) = (40, 80);\t\t(x, y) = (1.7999292369882143, 0.5826932119615449)\n",
      "(x0, y0) = (60, 80);\t\t(x, y) = (1.7999292309797814, 0.5826932161479826)\n",
      "(x0, y0) = (80, 80);\t\t(x, y) = (1.7999292214249272, 0.5826932228052215)\n",
      "(x0, y0) = (100, 80);\t\t(x, y) = (1.7999292326358922, 0.5826932149940796)\n",
      "(x0, y0) = (-100, 100);\t\t(x, y) = (1.799929231526231, 0.5826932157672421)\n",
      "(x0, y0) = (-80, 100);\t\t(x, y) = (1.7999292280880927, 0.5826932181627634)\n",
      "(x0, y0) = (-60, 100);\t\t(x, y) = (1.7999292279616796, 0.5826932182508412)\n",
      "(x0, y0) = (-40, 100);\t\t(x, y) = (1.7999292324912823, 0.5826932150948376)\n",
      "(x0, y0) = (-20, 100);\t\t(x, y) = (1.7999292256894965, 0.5826932198339666)\n",
      "(x0, y0) = (0, 100);\t\t(x, y) = (1.7999292214178255, 0.5826932228101696)\n",
      "(x0, y0) = (20, 100);\t\t(x, y) = (1.799929232487858, 0.5826932150972234)\n",
      "(x0, y0) = (40, 100);\t\t(x, y) = (1.7999292322713922, 0.5826932152480471)\n",
      "(x0, y0) = (60, 100);\t\t(x, y) = (1.7999292265698288, 0.5826932192206034)\n",
      "(x0, y0) = (80, 100);\t\t(x, y) = (1.7999292288566033, 0.5826932176273069)\n",
      "(x0, y0) = (100, 100);\t\t(x, y) = (1.7999292319610805, 0.5826932154642587)\n"
     ]
    }
   ],
   "source": [
    "starts_x = [x for x in range(-100, 101, 20)]\n",
    "starts_y = [y for y in range(-100, 101, 20)]\n",
    "\n",
    "starts = [(x, y) for y in starts_y for x in starts_x]\n",
    "eps = 1e-7\n",
    "\n",
    "for s in starts:\n",
    "    root = solve(f1, f2, df1x, df1y, df2x, df2y, *s)\n",
    "    print(f'(x0, y0) = {s};\\t\\t(x, y) = {root}')"
   ]
  },
  {
   "cell_type": "code",
   "execution_count": 109,
   "id": "6a4e4a24",
   "metadata": {},
   "outputs": [
    {
     "name": "stdout",
     "output_type": "stream",
     "text": [
      "Решение системы уравнений: (1.7999292309174724, 0.5826932161913967)\n"
     ]
    }
   ],
   "source": [
    "root = solve(f1, f2, df1x, df1y, df2x, df2y, *starts[len(starts) // 2])\n",
    "print('Решение системы уравнений:', root)"
   ]
  },
  {
   "cell_type": "markdown",
   "id": "5e851859",
   "metadata": {},
   "source": [
    "### Изобразим решение на графике"
   ]
  },
  {
   "cell_type": "code",
   "execution_count": 44,
   "id": "f823232d",
   "metadata": {},
   "outputs": [],
   "source": [
    "import numpy as np\n",
    "import matplotlib.pyplot as plt\n",
    "%matplotlib inline"
   ]
  },
  {
   "cell_type": "code",
   "execution_count": 60,
   "id": "88b4e377",
   "metadata": {},
   "outputs": [],
   "source": [
    "def x_np(y):\n",
    "    return 0.8 + np.sin(y + 1)\n",
    "\n",
    "def y_np(x):\n",
    "    return 1.3 - np.sin(x - 1)"
   ]
  },
  {
   "cell_type": "code",
   "execution_count": 64,
   "id": "89fb978d",
   "metadata": {},
   "outputs": [],
   "source": [
    "X1 = np.linspace(-3, 5, 200)\n",
    "Y1 = y_np(X1)\n",
    "\n",
    "Y2 = np.linspace(-3, 5, 200)\n",
    "X2 = x_np(Y2)"
   ]
  },
  {
   "cell_type": "code",
   "execution_count": 110,
   "id": "8fa3b785",
   "metadata": {},
   "outputs": [
    {
     "data": {
      "image/png": "[encoded data removed]",
      "text/plain": [
       "<Figure size 432x288 with 1 Axes>"
      ]
     },
     "metadata": {
      "needs_background": "light"
     },
     "output_type": "display_data"
    }
   ],
   "source": [
    "plt.plot(X1, Y1, label='sin(x-1) + y = 1.3', color='b')\n",
    "plt.plot(X2, Y2, label='x - sin(y+1) = 0.8', color='k')\n",
    "plt.plot(root[0], root[1], marker='o', label='root', color='r')\n",
    "plt.title('График системы уравнений')\n",
    "_ = plt.legend()"
   ]
  }
 ],
 "metadata": {
  "kernelspec": {
   "display_name": "Python 3 (ipykernel)",
   "language": "python",
   "name": "python3"
  },
  "language_info": {
   "codemirror_mode": {
    "name": "ipython",
    "version": 3
   },
   "file_extension": ".py",
   "mimetype": "text/x-python",
   "name": "python",
   "nbconvert_exporter": "python",
   "pygments_lexer": "ipython3",
   "version": "3.9.12"
  }
 },
 "nbformat": 4,
 "nbformat_minor": 5
}
