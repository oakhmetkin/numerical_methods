{
 "cells": [
  {
   "cell_type": "markdown",
   "id": "7cc768fc",
   "metadata": {},
   "source": [
    "## Ахметкин Олег Вадимович\n",
    "### группа 21.Б06-пу"
   ]
  },
  {
   "cell_type": "markdown",
   "id": "57f8b7f3",
   "metadata": {},
   "source": [
    "# Вычисление элементарных функций с заданной точностью"
   ]
  },
  {
   "cell_type": "code",
   "execution_count": 1,
   "id": "fe22ee8e",
   "metadata": {},
   "outputs": [],
   "source": [
    "from math import factorial as fact\n",
    "from math import pi, sin, atan, sqrt"
   ]
  },
  {
   "cell_type": "markdown",
   "id": "f7e0459d",
   "metadata": {},
   "source": [
    "### Реализация приближений функций sin(x), cos(x), arctg(x) с помощью рядов Тейлора"
   ]
  },
  {
   "cell_type": "code",
   "execution_count": 2,
   "id": "c10d510d",
   "metadata": {},
   "outputs": [],
   "source": [
    "def my_sin(x, eps=1e-6):\n",
    "    x %= 2*pi\n",
    "    \n",
    "    sign = 1\n",
    "    if x < 0:\n",
    "        x *= -1\n",
    "        sign = -1\n",
    "        \n",
    "    if x > pi/2:\n",
    "        x = pi - x\n",
    "        \n",
    "    if x > pi/4:\n",
    "        return my_cos(pi/2 - x)\n",
    "        \n",
    "    res = 0\n",
    "    k = 0\n",
    "    \n",
    "    while True:\n",
    "        s = ((-1)**k * x**(2*k + 1)) / fact(2*k + 1)\n",
    "        res += s\n",
    "        k += 1\n",
    "        \n",
    "        if abs(s) < eps:\n",
    "            break\n",
    "    \n",
    "    return sign*res"
   ]
  },
  {
   "cell_type": "code",
   "execution_count": 3,
   "id": "14d32cb1",
   "metadata": {},
   "outputs": [],
   "source": [
    "def my_cos(x, eps=1e-6):\n",
    "    x %= 2*pi\n",
    "    \n",
    "    if x < 0:\n",
    "        x *= -1\n",
    "    \n",
    "    sign = 1\n",
    "    if x > pi/2:\n",
    "        x = pi - x\n",
    "        sign = -1\n",
    "        \n",
    "    if x > pi/4:\n",
    "        return my_sin(pi/2 - x)\n",
    "        \n",
    "    res = 0\n",
    "    k = 0\n",
    "    \n",
    "    while True:\n",
    "        s = ((-1)**k * x**(2*k)) / fact(2*k)\n",
    "        res += s\n",
    "        k += 1\n",
    "        \n",
    "        if abs(s) < eps:\n",
    "            break\n",
    "    \n",
    "    return sign*res"
   ]
  },
  {
   "cell_type": "code",
   "execution_count": 4,
   "id": "2e1a1add",
   "metadata": {},
   "outputs": [],
   "source": [
    "def my_arctg(x, eps=1e-6):\n",
    "    k = 0\n",
    "    res = 0\n",
    "    \n",
    "    if abs(x) < 1:\n",
    "        while True:\n",
    "            s = ((-1)**k * x**(2*k + 1)) / (2*k + 1)\n",
    "            res += s\n",
    "            k += 1\n",
    "            \n",
    "            if abs(s) < eps:\n",
    "                break\n",
    "    elif abs(x) == 1:\n",
    "        return pi/4 * (-1 + 2*(x > 0))\n",
    "    else:\n",
    "        res = pi/2 * (-1 + 2*(x > 0))\n",
    "        while True:\n",
    "            s = ((-1)**k * x**(-2*k - 1)) / (2*k + 1)\n",
    "            res -= s\n",
    "            k += 1\n",
    "            \n",
    "            if abs(s) < eps:\n",
    "                break\n",
    "    \n",
    "    return res"
   ]
  },
  {
   "cell_type": "markdown",
   "id": "c81663fd",
   "metadata": {},
   "source": [
    "### Реализация приближенного вычисления корня с помощью рекуррентной формулы Герона"
   ]
  },
  {
   "cell_type": "code",
   "execution_count": 5,
   "id": "f6c86cd0",
   "metadata": {},
   "outputs": [],
   "source": [
    "def my_sqrt(x, eps=1e-6):\n",
    "    res = x\n",
    "    prev_res = 0\n",
    "    \n",
    "    while True:\n",
    "        prev_res = res\n",
    "        res = 1/2 * (res + x/res)\n",
    "        \n",
    "        if abs(prev_res - res) < eps: # !!!\n",
    "            break\n",
    "    \n",
    "    return res"
   ]
  },
  {
   "cell_type": "markdown",
   "id": "0c8809da",
   "metadata": {},
   "source": [
    "## Решение задания №13\n",
    "\n",
    "$ z(x) = arctg{\\frac{\\sqrt{0.9x + 1}}{(1 - x^2)}} + sin(3x + 0.6)$\n",
    "\n",
    "$ x = 0.2(0.01)0.3 $"
   ]
  },
  {
   "cell_type": "markdown",
   "id": "7ec8e451",
   "metadata": {},
   "source": [
    "### Вычисление погрешностей\n",
    "\n",
    "**Задача:** вычислить $ z(x) $ с точностью $ \\varepsilon = 10^{-6} $\n",
    "\n",
    "Положим $ z(x) = f(u, v), $ где\n",
    "\n",
    "$ u(x) = \\frac{\\sqrt{0.9x + 1}}{(1 - x^2)} $,\n",
    "\n",
    "$ v(x) = sin(3x + 0.6) $\n"
   ]
  },
  {
   "cell_type": "markdown",
   "id": "2cb18b97",
   "metadata": {},
   "source": [
    "Функции $ u(x), v(x) $ монотонны на $ x \\in [0.2; 0.3] $\n",
    "\n",
    "Также на этом интервале верно:\n",
    "\n",
    "$ 1.1 \\approx 1.132 < u(x) < 1.239 \\approx 1.3 $\n",
    "\n",
    "$ 0.9 \\approx 0.932 < v(x) < 0.998 \\approx 1 $"
   ]
  },
  {
   "cell_type": "markdown",
   "id": "138a4dd8",
   "metadata": {},
   "source": [
    "Положим $ G = \\{ (u, v) \\space | \\space 1.1 \\leq u \\leq 1.3, \\space 0.9 \\leq v \\leq 1 \\} $\n",
    "\n",
    "Оценим в $ G $ частные производные:\n",
    "\n",
    "$\n",
    "\\frac{\\partial f(u, v)}{\\partial u} = \\frac{1}{1 + u^2}; \\space \\space\n",
    "\\frac{\\partial f(u, v)}{\\partial v} = 1\n",
    "$\n",
    "\n",
    "$\n",
    "| \\frac{\\partial f(u, v)}{\\partial u} | \\leq 0.439 < 0.5; \\space \\space\n",
    "| \\frac{\\partial f(u, v)}{\\partial v} | \\leq 1\n",
    "$"
   ]
  },
  {
   "cell_type": "markdown",
   "id": "82d08c1a",
   "metadata": {},
   "source": [
    "$\n",
    "\\varepsilon_1 = \\frac{10^{-6}}{1.5} \\space для \\space u(x) \\\\\n",
    "\\varepsilon_2 = \\frac{10^{-6}}{1} \\space для \\space v(x) \\\\\n",
    "\\varepsilon_3 = \\frac{10^{-6}}{3} \\space для \\space f(u, v) \n",
    "$"
   ]
  },
  {
   "cell_type": "code",
   "execution_count": 6,
   "id": "ff6927a6",
   "metadata": {},
   "outputs": [],
   "source": [
    "def my_f(x, eps1=1e-6, eps2=1e-6, eps3=1e-6):\n",
    "    # u\n",
    "    val1 = my_sqrt(0.9*x + 1, eps1)\n",
    "    val2 = 1 - x**2\n",
    "    \n",
    "    # v\n",
    "    sin_val = my_sin(3*x + 0.6, eps2)\n",
    "    \n",
    "    # f\n",
    "    return my_arctg(val1 / val2, eps3) + sin_val"
   ]
  },
  {
   "cell_type": "code",
   "execution_count": 7,
   "id": "a1a4307e",
   "metadata": {},
   "outputs": [],
   "source": [
    "def f(x):\n",
    "    val1 = sqrt(0.9*x + 1)\n",
    "    val2 = 1 - x**2\n",
    "    arc_val = atan(val1 / val2)\n",
    "    sin_val = sin(3*x + 0.6)\n",
    "    \n",
    "    return arc_val + sin_val"
   ]
  },
  {
   "cell_type": "code",
   "execution_count": 8,
   "id": "1d505344",
   "metadata": {},
   "outputs": [
    {
     "name": "stdout",
     "output_type": "stream",
     "text": [
      "[x = 0.20]:\n",
      "My func: 1.77906977\n",
      "Py func: 1.77907018\n",
      "Error:   0.00000041\n",
      "\n",
      "[x = 0.21]:\n",
      "My func: 1.79352635\n",
      "Py func: 1.79352675\n",
      "Error:   0.00000039\n",
      "\n",
      "[x = 0.22]:\n",
      "My func: 1.80722949\n",
      "Py func: 1.80722988\n",
      "Error:   0.00000039\n",
      "\n",
      "[x = 0.23]:\n",
      "My func: 1.82017163\n",
      "Py func: 1.82017205\n",
      "Error:   0.00000042\n",
      "\n",
      "[x = 0.24]:\n",
      "My func: 1.83234684\n",
      "Py func: 1.83234651\n",
      "Error:   0.00000033\n",
      "\n",
      "[x = 0.25]:\n",
      "My func: 1.84374773\n",
      "Py func: 1.84374735\n",
      "Error:   0.00000039\n",
      "\n",
      "[x = 0.26]:\n",
      "My func: 1.85436912\n",
      "Py func: 1.85436945\n",
      "Error:   0.00000033\n",
      "\n",
      "[x = 0.27]:\n",
      "My func: 1.86420882\n",
      "Py func: 1.86420854\n",
      "Error:   0.00000029\n",
      "\n",
      "[x = 0.28]:\n",
      "My func: 1.87326154\n",
      "Py func: 1.87326115\n",
      "Error:   0.00000039\n",
      "\n",
      "[x = 0.29]:\n",
      "My func: 1.88152429\n",
      "Py func: 1.88152466\n",
      "Error:   0.00000037\n",
      "\n",
      "[x = 0.30]:\n",
      "My func: 1.88899763\n",
      "Py func: 1.88899728\n",
      "Error:   0.00000035\n",
      "\n"
     ]
    }
   ],
   "source": [
    "start = 0.2\n",
    "stop = 0.3\n",
    "step = 0.01\n",
    "eps = 1e-6\n",
    "\n",
    "x = start\n",
    "\n",
    "while round(x, 2) <= stop:\n",
    "    my_val = my_f(x, eps)\n",
    "    true_val = f(x)\n",
    "    \n",
    "    print(f'[x = {x:.2f}]:')\n",
    "    print(f'My func: {my_val:.8f}')\n",
    "    print(f'Py func: {true_val:.8f}')\n",
    "    print(f'Error:   {abs(my_val - true_val):.8f}')\n",
    "    print()\n",
    "    x += step"
   ]
  }
 ],
 "metadata": {
  "kernelspec": {
   "display_name": "Python 3 (ipykernel)",
   "language": "python",
   "name": "python3"
  },
  "language_info": {
   "codemirror_mode": {
    "name": "ipython",
    "version": 3
   },
   "file_extension": ".py",
   "mimetype": "text/x-python",
   "name": "python",
   "nbconvert_exporter": "python",
   "pygments_lexer": "ipython3",
   "version": "3.9.12"
  }
 },
 "nbformat": 4,
 "nbformat_minor": 5
}
